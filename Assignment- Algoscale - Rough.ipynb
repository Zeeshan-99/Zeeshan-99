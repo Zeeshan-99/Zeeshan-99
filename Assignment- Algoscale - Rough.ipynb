{
 "cells": [
  {
   "cell_type": "markdown",
   "metadata": {},
   "source": [
    "# Importing all required Libraries"
   ]
  },
  {
   "cell_type": "code",
   "execution_count": 1,
   "metadata": {},
   "outputs": [
    {
     "data": {
      "text/html": [
       "        <script type=\"text/javascript\">\n",
       "        window.PlotlyConfig = {MathJaxConfig: 'local'};\n",
       "        if (window.MathJax) {MathJax.Hub.Config({SVG: {font: \"STIX-Web\"}});}\n",
       "        if (typeof require !== 'undefined') {\n",
       "        require.undef(\"plotly\");\n",
       "        requirejs.config({\n",
       "            paths: {\n",
       "                'plotly': ['https://cdn.plot.ly/plotly-latest.min']\n",
       "            }\n",
       "        });\n",
       "        require(['plotly'], function(Plotly) {\n",
       "            window._Plotly = Plotly;\n",
       "        });\n",
       "        }\n",
       "        </script>\n",
       "        "
      ]
     },
     "metadata": {},
     "output_type": "display_data"
    }
   ],
   "source": [
    "import pandas as pd\n",
    "import numpy as np\n",
    "import matplotlib.pyplot as plt\n",
    "%matplotlib inline\n",
    "\n",
    "import seaborn as sns\n",
    "import plotly.express as px\n",
    "import folium\n",
    "from datetime import datetime\n",
    "import plotly.graph_objs as go\n",
    "from plotly.offline import download_plotlyjs, init_notebook_mode, plot, iplot\n",
    "init_notebook_mode(connected=True)\n",
    "\n",
    "from statsmodels.tsa.stattools import adfuller\n",
    "from statsmodels.tsa.seasonal import seasonal_decompose\n",
    "from statsmodels.tsa.arima_model import ARIMA\n",
    "from pmdarima.arima import auto_arima\n",
    "\n",
    "from sklearn.metrics import mean_squared_error, mean_absolute_error\n",
    "import math\n"
   ]
  },
  {
   "cell_type": "code",
   "execution_count": 2,
   "metadata": {},
   "outputs": [],
   "source": [
    "df=pd.read_excel('time-series-data.xlsx')"
   ]
  },
  {
   "cell_type": "code",
   "execution_count": 3,
   "metadata": {
    "scrolled": true
   },
   "outputs": [
    {
     "data": {
      "text/html": [
       "<div>\n",
       "<style scoped>\n",
       "    .dataframe tbody tr th:only-of-type {\n",
       "        vertical-align: middle;\n",
       "    }\n",
       "\n",
       "    .dataframe tbody tr th {\n",
       "        vertical-align: top;\n",
       "    }\n",
       "\n",
       "    .dataframe thead th {\n",
       "        text-align: right;\n",
       "    }\n",
       "</style>\n",
       "<table border=\"1\" class=\"dataframe\">\n",
       "  <thead>\n",
       "    <tr style=\"text-align: right;\">\n",
       "      <th></th>\n",
       "      <th>Country</th>\n",
       "      <th>Localite</th>\n",
       "      <th>Category</th>\n",
       "      <th>Value</th>\n",
       "      <th>Date</th>\n",
       "    </tr>\n",
       "  </thead>\n",
       "  <tbody>\n",
       "    <tr>\n",
       "      <th>0</th>\n",
       "      <td>Guinea</td>\n",
       "      <td>Guekedou, Macenta, Nzerekore and Kissidougou</td>\n",
       "      <td>Cases</td>\n",
       "      <td>86</td>\n",
       "      <td>2014-03-24</td>\n",
       "    </tr>\n",
       "    <tr>\n",
       "      <th>1</th>\n",
       "      <td>Guinea</td>\n",
       "      <td>Guekedou, Macenta, Nzerekore and Kissidougou</td>\n",
       "      <td>Deaths</td>\n",
       "      <td>59</td>\n",
       "      <td>2014-03-24</td>\n",
       "    </tr>\n",
       "    <tr>\n",
       "      <th>2</th>\n",
       "      <td>Guinea</td>\n",
       "      <td>( Guekedou, Macenta and Kissidougou</td>\n",
       "      <td>Cases</td>\n",
       "      <td>86</td>\n",
       "      <td>2014-03-25</td>\n",
       "    </tr>\n",
       "    <tr>\n",
       "      <th>3</th>\n",
       "      <td>Guinea</td>\n",
       "      <td>( Guekedou, Macenta and Kissidougou</td>\n",
       "      <td>Deaths</td>\n",
       "      <td>60</td>\n",
       "      <td>2014-03-25</td>\n",
       "    </tr>\n",
       "    <tr>\n",
       "      <th>4</th>\n",
       "      <td>Guinea</td>\n",
       "      <td>( Guekedou, Macenta and Kissidougou</td>\n",
       "      <td>Cases</td>\n",
       "      <td>86</td>\n",
       "      <td>2014-03-26</td>\n",
       "    </tr>\n",
       "  </tbody>\n",
       "</table>\n",
       "</div>"
      ],
      "text/plain": [
       "  Country                                      Localite Category Value  \\\n",
       "0  Guinea  Guekedou, Macenta, Nzerekore and Kissidougou    Cases    86   \n",
       "1  Guinea  Guekedou, Macenta, Nzerekore and Kissidougou   Deaths    59   \n",
       "2  Guinea           ( Guekedou, Macenta and Kissidougou    Cases    86   \n",
       "3  Guinea           ( Guekedou, Macenta and Kissidougou   Deaths    60   \n",
       "4  Guinea           ( Guekedou, Macenta and Kissidougou    Cases    86   \n",
       "\n",
       "        Date  \n",
       "0 2014-03-24  \n",
       "1 2014-03-24  \n",
       "2 2014-03-25  \n",
       "3 2014-03-25  \n",
       "4 2014-03-26  "
      ]
     },
     "execution_count": 3,
     "metadata": {},
     "output_type": "execute_result"
    }
   ],
   "source": [
    "df.head()"
   ]
  },
  {
   "cell_type": "code",
   "execution_count": 4,
   "metadata": {},
   "outputs": [
    {
     "name": "stdout",
     "output_type": "stream",
     "text": [
      "<class 'pandas.core.frame.DataFrame'>\n",
      "RangeIndex: 58635 entries, 0 to 58634\n",
      "Data columns (total 5 columns):\n",
      " #   Column    Non-Null Count  Dtype         \n",
      "---  ------    --------------  -----         \n",
      " 0   Country   58635 non-null  object        \n",
      " 1   Localite  58635 non-null  object        \n",
      " 2   Category  58635 non-null  object        \n",
      " 3   Value     58217 non-null  object        \n",
      " 4   Date      58635 non-null  datetime64[ns]\n",
      "dtypes: datetime64[ns](1), object(4)\n",
      "memory usage: 2.2+ MB\n"
     ]
    }
   ],
   "source": [
    "df.info()"
   ]
  },
  {
   "cell_type": "code",
   "execution_count": 5,
   "metadata": {},
   "outputs": [
    {
     "data": {
      "text/plain": [
       "(58635, 5)"
      ]
     },
     "execution_count": 5,
     "metadata": {},
     "output_type": "execute_result"
    }
   ],
   "source": [
    "df.shape"
   ]
  },
  {
   "cell_type": "code",
   "execution_count": 6,
   "metadata": {},
   "outputs": [],
   "source": [
    "df['Value']=pd.to_numeric(df['Value'],errors='coerce')"
   ]
  },
  {
   "cell_type": "code",
   "execution_count": 7,
   "metadata": {},
   "outputs": [
    {
     "data": {
      "text/plain": [
       "Country       0\n",
       "Localite      0\n",
       "Category      0\n",
       "Value       425\n",
       "Date          0\n",
       "dtype: int64"
      ]
     },
     "execution_count": 7,
     "metadata": {},
     "output_type": "execute_result"
    }
   ],
   "source": [
    "df.isna().sum()"
   ]
  },
  {
   "cell_type": "code",
   "execution_count": 8,
   "metadata": {},
   "outputs": [
    {
     "data": {
      "text/plain": [
       "<matplotlib.axes._subplots.AxesSubplot at 0x1e5229c8>"
      ]
     },
     "execution_count": 8,
     "metadata": {},
     "output_type": "execute_result"
    },
    {
     "data": {
      "image/png": "[encoded data removed]",
      "text/plain": [
       "<Figure size 432x288 with 1 Axes>"
      ]
     },
     "metadata": {
      "needs_background": "light"
     },
     "output_type": "display_data"
    }
   ],
   "source": [
    "sns.heatmap(df.isnull(), cbar=False)"
   ]
  },
  {
   "cell_type": "code",
   "execution_count": 9,
   "metadata": {},
   "outputs": [],
   "source": [
    "df=df.dropna(subset=['Value'])"
   ]
  },
  {
   "cell_type": "code",
   "execution_count": 10,
   "metadata": {},
   "outputs": [
    {
     "data": {
      "text/plain": [
       "(58210, 5)"
      ]
     },
     "execution_count": 10,
     "metadata": {},
     "output_type": "execute_result"
    }
   ],
   "source": [
    "df.shape"
   ]
  },
  {
   "cell_type": "code",
   "execution_count": 11,
   "metadata": {},
   "outputs": [
    {
     "data": {
      "text/plain": [
       "dtype('float64')"
      ]
     },
     "execution_count": 11,
     "metadata": {},
     "output_type": "execute_result"
    }
   ],
   "source": [
    "df['Value'].dtypes"
   ]
  },
  {
   "cell_type": "code",
   "execution_count": 12,
   "metadata": {},
   "outputs": [
    {
     "name": "stdout",
     "output_type": "stream",
     "text": [
      "<class 'pandas.core.frame.DataFrame'>\n",
      "Int64Index: 58210 entries, 0 to 58634\n",
      "Data columns (total 5 columns):\n",
      " #   Column    Non-Null Count  Dtype         \n",
      "---  ------    --------------  -----         \n",
      " 0   Country   58210 non-null  object        \n",
      " 1   Localite  58210 non-null  object        \n",
      " 2   Category  58210 non-null  object        \n",
      " 3   Value     58210 non-null  float64       \n",
      " 4   Date      58210 non-null  datetime64[ns]\n",
      "dtypes: datetime64[ns](1), float64(1), object(3)\n",
      "memory usage: 2.7+ MB\n"
     ]
    }
   ],
   "source": [
    "df.info()"
   ]
  },
  {
   "cell_type": "code",
   "execution_count": 13,
   "metadata": {
    "scrolled": true
   },
   "outputs": [],
   "source": [
    "# df['Year']=df.Date.dt.year\n",
    "# df['Month_name']=df.Date.dt.month_name()\n",
    "# df['Day_name']=df.Date.dt.day_name()\n",
    "# df['Month']=df.Date.dt.month\n",
    "# df['Week']=df.Date.dt.week\n",
    "# df['Day_of_year']= df.Date.dt.dayofyear\n",
    "\n"
   ]
  },
  {
   "cell_type": "code",
   "execution_count": 14,
   "metadata": {},
   "outputs": [
    {
     "data": {
      "text/plain": [
       "array(['Cases', 'Deaths', 'Suspected cases', 'Confirmed cases',\n",
       "       'Probable cases', 'New cases', 'New Cases', 'Suspected Cases'],\n",
       "      dtype=object)"
      ]
     },
     "execution_count": 14,
     "metadata": {},
     "output_type": "execute_result"
    }
   ],
   "source": [
    "df.Category.unique()"
   ]
  },
  {
   "cell_type": "code",
   "execution_count": 15,
   "metadata": {},
   "outputs": [],
   "source": [
    "di={'Suspected cases':'Suspected Cases','New cases':'New Cases'}\n",
    "df=df.replace({\"Category\":di})"
   ]
  },
  {
   "cell_type": "code",
   "execution_count": null,
   "metadata": {},
   "outputs": [],
   "source": []
  },
  {
   "cell_type": "code",
   "execution_count": null,
   "metadata": {},
   "outputs": [],
   "source": []
  },
  {
   "cell_type": "code",
   "execution_count": null,
   "metadata": {},
   "outputs": [],
   "source": []
  },
  {
   "cell_type": "code",
   "execution_count": null,
   "metadata": {},
   "outputs": [],
   "source": []
  },
  {
   "cell_type": "code",
   "execution_count": null,
   "metadata": {},
   "outputs": [],
   "source": []
  },
  {
   "cell_type": "code",
   "execution_count": null,
   "metadata": {},
   "outputs": [],
   "source": []
  },
  {
   "cell_type": "code",
   "execution_count": null,
   "metadata": {},
   "outputs": [],
   "source": []
  },
  {
   "cell_type": "code",
   "execution_count": null,
   "metadata": {},
   "outputs": [],
   "source": []
  },
  {
   "cell_type": "code",
   "execution_count": null,
   "metadata": {},
   "outputs": [],
   "source": []
  },
  {
   "cell_type": "code",
   "execution_count": 60,
   "metadata": {},
   "outputs": [
    {
     "data": {
      "text/plain": [
       "Index(['Country', 'Localite', 'Category', 'Value', 'Date'], dtype='object')"
      ]
     },
     "execution_count": 60,
     "metadata": {},
     "output_type": "execute_result"
    }
   ],
   "source": [
    "df.columns"
   ]
  },
  {
   "cell_type": "code",
   "execution_count": 175,
   "metadata": {},
   "outputs": [],
   "source": [
    "df_1= pd.pivot_table(df,values='Value',columns='Category',index=['Date','Country'],fill_value=0)"
   ]
  },
  {
   "cell_type": "code",
   "execution_count": 176,
   "metadata": {},
   "outputs": [],
   "source": [
    "\n",
    "df_1=df_1.reset_index()\n",
    "\n",
    "\n",
    "df_1=df_1.sort_values(by='Date')\n",
    "df_1= df_1[df_1.Date !='1900-01-04']  # It is fault so I am remov\n"
   ]
  },
  {
   "cell_type": "code",
   "execution_count": null,
   "metadata": {},
   "outputs": [],
   "source": []
  },
  {
   "cell_type": "code",
   "execution_count": 191,
   "metadata": {},
   "outputs": [
    {
     "data": {
      "text/html": [
       "<div>\n",
       "<style scoped>\n",
       "    .dataframe tbody tr th:only-of-type {\n",
       "        vertical-align: middle;\n",
       "    }\n",
       "\n",
       "    .dataframe tbody tr th {\n",
       "        vertical-align: top;\n",
       "    }\n",
       "\n",
       "    .dataframe thead th {\n",
       "        text-align: right;\n",
       "    }\n",
       "</style>\n",
       "<table border=\"1\" class=\"dataframe\">\n",
       "  <thead>\n",
       "    <tr style=\"text-align: right;\">\n",
       "      <th>Category</th>\n",
       "      <th>Date</th>\n",
       "      <th>Country</th>\n",
       "      <th>Cases</th>\n",
       "      <th>Confirmed cases</th>\n",
       "      <th>Deaths</th>\n",
       "      <th>New Cases</th>\n",
       "      <th>Probable cases</th>\n",
       "      <th>Suspected Cases</th>\n",
       "    </tr>\n",
       "  </thead>\n",
       "  <tbody>\n",
       "    <tr>\n",
       "      <th>1</th>\n",
       "      <td>2014-03-24</td>\n",
       "      <td>Guinea</td>\n",
       "      <td>86.000000</td>\n",
       "      <td>0.000000</td>\n",
       "      <td>59.000000</td>\n",
       "      <td>0.000000</td>\n",
       "      <td>0.000000</td>\n",
       "      <td>0.000000</td>\n",
       "    </tr>\n",
       "    <tr>\n",
       "      <th>2</th>\n",
       "      <td>2014-03-25</td>\n",
       "      <td>Guinea</td>\n",
       "      <td>86.000000</td>\n",
       "      <td>0.000000</td>\n",
       "      <td>60.000000</td>\n",
       "      <td>0.000000</td>\n",
       "      <td>0.000000</td>\n",
       "      <td>0.000000</td>\n",
       "    </tr>\n",
       "    <tr>\n",
       "      <th>3</th>\n",
       "      <td>2014-03-26</td>\n",
       "      <td>Guinea</td>\n",
       "      <td>86.000000</td>\n",
       "      <td>0.000000</td>\n",
       "      <td>62.000000</td>\n",
       "      <td>0.000000</td>\n",
       "      <td>0.000000</td>\n",
       "      <td>0.000000</td>\n",
       "    </tr>\n",
       "    <tr>\n",
       "      <th>4</th>\n",
       "      <td>2014-03-27</td>\n",
       "      <td>Guinea</td>\n",
       "      <td>103.000000</td>\n",
       "      <td>0.000000</td>\n",
       "      <td>66.000000</td>\n",
       "      <td>0.000000</td>\n",
       "      <td>0.000000</td>\n",
       "      <td>0.000000</td>\n",
       "    </tr>\n",
       "    <tr>\n",
       "      <th>5</th>\n",
       "      <td>2014-03-28</td>\n",
       "      <td>Guinea</td>\n",
       "      <td>0.000000</td>\n",
       "      <td>0.000000</td>\n",
       "      <td>70.000000</td>\n",
       "      <td>0.000000</td>\n",
       "      <td>0.000000</td>\n",
       "      <td>18.500000</td>\n",
       "    </tr>\n",
       "    <tr>\n",
       "      <th>...</th>\n",
       "      <td>...</td>\n",
       "      <td>...</td>\n",
       "      <td>...</td>\n",
       "      <td>...</td>\n",
       "      <td>...</td>\n",
       "      <td>...</td>\n",
       "      <td>...</td>\n",
       "      <td>...</td>\n",
       "    </tr>\n",
       "    <tr>\n",
       "      <th>673</th>\n",
       "      <td>2015-03-24</td>\n",
       "      <td>Sierra Leone</td>\n",
       "      <td>1577.066667</td>\n",
       "      <td>1134.933333</td>\n",
       "      <td>501.066667</td>\n",
       "      <td>1.066667</td>\n",
       "      <td>38.266667</td>\n",
       "      <td>403.866667</td>\n",
       "    </tr>\n",
       "    <tr>\n",
       "      <th>674</th>\n",
       "      <td>2015-03-25</td>\n",
       "      <td>Sierra Leone</td>\n",
       "      <td>1578.666667</td>\n",
       "      <td>1135.333333</td>\n",
       "      <td>501.733333</td>\n",
       "      <td>0.133333</td>\n",
       "      <td>38.266667</td>\n",
       "      <td>405.066667</td>\n",
       "    </tr>\n",
       "    <tr>\n",
       "      <th>675</th>\n",
       "      <td>2015-03-26</td>\n",
       "      <td>Sierra Leone</td>\n",
       "      <td>1581.733333</td>\n",
       "      <td>1135.733333</td>\n",
       "      <td>502.933333</td>\n",
       "      <td>0.400000</td>\n",
       "      <td>38.266667</td>\n",
       "      <td>407.733333</td>\n",
       "    </tr>\n",
       "    <tr>\n",
       "      <th>676</th>\n",
       "      <td>2015-03-27</td>\n",
       "      <td>Sierra Leone</td>\n",
       "      <td>1584.133333</td>\n",
       "      <td>1136.133333</td>\n",
       "      <td>503.733333</td>\n",
       "      <td>0.400000</td>\n",
       "      <td>38.266667</td>\n",
       "      <td>409.733333</td>\n",
       "    </tr>\n",
       "    <tr>\n",
       "      <th>677</th>\n",
       "      <td>2015-03-28</td>\n",
       "      <td>Sierra Leone</td>\n",
       "      <td>1585.333333</td>\n",
       "      <td>1136.666667</td>\n",
       "      <td>504.800000</td>\n",
       "      <td>0.533333</td>\n",
       "      <td>38.266667</td>\n",
       "      <td>410.400000</td>\n",
       "    </tr>\n",
       "  </tbody>\n",
       "</table>\n",
       "<p>677 rows × 8 columns</p>\n",
       "</div>"
      ],
      "text/plain": [
       "Category       Date       Country        Cases  Confirmed cases      Deaths  \\\n",
       "1        2014-03-24        Guinea    86.000000         0.000000   59.000000   \n",
       "2        2014-03-25        Guinea    86.000000         0.000000   60.000000   \n",
       "3        2014-03-26        Guinea    86.000000         0.000000   62.000000   \n",
       "4        2014-03-27        Guinea   103.000000         0.000000   66.000000   \n",
       "5        2014-03-28        Guinea     0.000000         0.000000   70.000000   \n",
       "..              ...           ...          ...              ...         ...   \n",
       "673      2015-03-24  Sierra Leone  1577.066667      1134.933333  501.066667   \n",
       "674      2015-03-25  Sierra Leone  1578.666667      1135.333333  501.733333   \n",
       "675      2015-03-26  Sierra Leone  1581.733333      1135.733333  502.933333   \n",
       "676      2015-03-27  Sierra Leone  1584.133333      1136.133333  503.733333   \n",
       "677      2015-03-28  Sierra Leone  1585.333333      1136.666667  504.800000   \n",
       "\n",
       "Category  New Cases  Probable cases  Suspected Cases  \n",
       "1          0.000000        0.000000         0.000000  \n",
       "2          0.000000        0.000000         0.000000  \n",
       "3          0.000000        0.000000         0.000000  \n",
       "4          0.000000        0.000000         0.000000  \n",
       "5          0.000000        0.000000        18.500000  \n",
       "..              ...             ...              ...  \n",
       "673        1.066667       38.266667       403.866667  \n",
       "674        0.133333       38.266667       405.066667  \n",
       "675        0.400000       38.266667       407.733333  \n",
       "676        0.400000       38.266667       409.733333  \n",
       "677        0.533333       38.266667       410.400000  \n",
       "\n",
       "[677 rows x 8 columns]"
      ]
     },
     "execution_count": 191,
     "metadata": {},
     "output_type": "execute_result"
    }
   ],
   "source": [
    "df_1"
   ]
  },
  {
   "cell_type": "code",
   "execution_count": 182,
   "metadata": {},
   "outputs": [
    {
     "name": "stderr",
     "output_type": "stream",
     "text": [
      "C:\\Users\\Zeeshan Haleem\\Anaconda3\\lib\\site-packages\\ipykernel_launcher.py:1: FutureWarning:\n",
      "\n",
      "Indexing with multiple keys (implicitly converted to a tuple of keys) will be deprecated, use a list instead.\n",
      "\n"
     ]
    },
    {
     "data": {
      "text/html": [
       "<div>\n",
       "<style scoped>\n",
       "    .dataframe tbody tr th:only-of-type {\n",
       "        vertical-align: middle;\n",
       "    }\n",
       "\n",
       "    .dataframe tbody tr th {\n",
       "        vertical-align: top;\n",
       "    }\n",
       "\n",
       "    .dataframe thead th {\n",
       "        text-align: right;\n",
       "    }\n",
       "</style>\n",
       "<table border=\"1\" class=\"dataframe\">\n",
       "  <thead>\n",
       "    <tr style=\"text-align: right;\">\n",
       "      <th>Category</th>\n",
       "      <th>Cases</th>\n",
       "      <th>Deaths</th>\n",
       "    </tr>\n",
       "    <tr>\n",
       "      <th>Country</th>\n",
       "      <th></th>\n",
       "      <th></th>\n",
       "    </tr>\n",
       "  </thead>\n",
       "  <tbody>\n",
       "    <tr>\n",
       "      <th>Guinea</th>\n",
       "      <td>42110.232926</td>\n",
       "      <td>27219.290679</td>\n",
       "    </tr>\n",
       "    <tr>\n",
       "      <th>Liberia</th>\n",
       "      <td>109399.868082</td>\n",
       "      <td>49210.982534</td>\n",
       "    </tr>\n",
       "    <tr>\n",
       "      <th>Mali</th>\n",
       "      <td>11.419913</td>\n",
       "      <td>8.866883</td>\n",
       "    </tr>\n",
       "    <tr>\n",
       "      <th>Nigeria</th>\n",
       "      <td>390.000000</td>\n",
       "      <td>133.333333</td>\n",
       "    </tr>\n",
       "    <tr>\n",
       "      <th>Senegal</th>\n",
       "      <td>16.666667</td>\n",
       "      <td>0.000000</td>\n",
       "    </tr>\n",
       "    <tr>\n",
       "      <th>Sierra Leone</th>\n",
       "      <td>189649.333333</td>\n",
       "      <td>62803.938095</td>\n",
       "    </tr>\n",
       "  </tbody>\n",
       "</table>\n",
       "</div>"
      ],
      "text/plain": [
       "Category              Cases        Deaths\n",
       "Country                                  \n",
       "Guinea         42110.232926  27219.290679\n",
       "Liberia       109399.868082  49210.982534\n",
       "Mali              11.419913      8.866883\n",
       "Nigeria          390.000000    133.333333\n",
       "Senegal           16.666667      0.000000\n",
       "Sierra Leone  189649.333333  62803.938095"
      ]
     },
     "execution_count": 182,
     "metadata": {},
     "output_type": "execute_result"
    }
   ],
   "source": [
    "df_1.groupby('Country')['Cases','Deaths'].sum()\n"
   ]
  },
  {
   "cell_type": "code",
   "execution_count": 193,
   "metadata": {},
   "outputs": [
    {
     "name": "stdout",
     "output_type": "stream",
     "text": [
      "The data is from : 2014-03-24 00:00:00 to 2015-03-28 00:00:00\n",
      "The total number of Cases is 341577.520921735\n",
      "The total number of Confirmed Cases is 217671.4917619428\n",
      "The total number of Deaths is 139376.41152474802\n",
      "The total number of Probable cases is 35557.72032330729\n",
      "The total number of Suspected Cases is 77666.8453200405\n"
     ]
    }
   ],
   "source": [
    "print('The data is from :',df_1.Date.min(), 'to', df_1.Date.max())\n",
    "\n",
    "print('The total number of Cases is', df_1['Cases'].sum())\n",
    "print('The total number of Confirmed Cases is', df_1['Confirmed cases'].sum())\n",
    "print('The total number of Deaths is', df_1['Deaths'].sum())\n",
    "print('The total number of Probable cases is', df_1['Probable cases'].sum())\n",
    "print('The total number of Suspected Cases is', df_1['Suspected Cases'].sum())\n"
   ]
  },
  {
   "cell_type": "code",
   "execution_count": 195,
   "metadata": {},
   "outputs": [
    {
     "data": {
      "text/plain": [
       "Country\n",
       "Sierra Leone    145877.036200\n",
       "Liberia          37388.658974\n",
       "Guinea           34113.581220\n",
       "Name: Confirmed cases, dtype: float64"
      ]
     },
     "execution_count": 195,
     "metadata": {},
     "output_type": "execute_result"
    }
   ],
   "source": [
    "# Countries with the highest number of Confirmed cases\n",
    "\n",
    "df_1.groupby('Country')['Confirmed cases'].sum().nlargest(3)"
   ]
  },
  {
   "cell_type": "code",
   "execution_count": 197,
   "metadata": {},
   "outputs": [
    {
     "data": {
      "text/plain": [
       "Country\n",
       "Sierra Leone    62803.938095\n",
       "Liberia         49210.982534\n",
       "Guinea          27219.290679\n",
       "Name: Deaths, dtype: float64"
      ]
     },
     "execution_count": 197,
     "metadata": {},
     "output_type": "execute_result"
    }
   ],
   "source": [
    "# Countries with the highest number of Deaths\n",
    "\n",
    "df_1.groupby('Country')['Deaths'].sum().nlargest(3)"
   ]
  },
  {
   "cell_type": "code",
   "execution_count": 198,
   "metadata": {},
   "outputs": [
    {
     "data": {
      "text/plain": [
       "Country\n",
       "Liberia         26910.429504\n",
       "Sierra Leone     4458.885714\n",
       "Guinea           4171.465711\n",
       "Name: Probable cases, dtype: float64"
      ]
     },
     "execution_count": 198,
     "metadata": {},
     "output_type": "execute_result"
    }
   ],
   "source": [
    "# Countries with the highest number of 'Probable cases'\n",
    "\n",
    "df_1.groupby('Country')['Probable cases'].sum().nlargest(3)"
   ]
  },
  {
   "cell_type": "code",
   "execution_count": 199,
   "metadata": {},
   "outputs": [
    {
     "data": {
      "image/png": "[encoded data removed]",
      "text/plain": [
       "<Figure size 432x288 with 2 Axes>"
      ]
     },
     "metadata": {
      "needs_background": "light"
     },
     "output_type": "display_data"
    }
   ],
   "source": [
    "# Barcharts showing Countries with the highest number of confirmed cases and highest number of Deaths\n",
    "\n",
    "\n",
    "plt.subplot(1,2,1)\n",
    "df_1.groupby('Country')['Confirmed cases'].sum().nlargest(3).plot(kind = 'bar', grid = True)\n",
    "plt.title('Confirmed cases (3)')\n",
    "plt.xlabel('Countries')\n",
    "plt.ylabel('No of confirmed cases')\n",
    "\n",
    "\n",
    "plt.subplot(1,2,2)\n",
    "df_1.groupby('Country')['Deaths'].sum().nlargest(3).plot(kind = 'bar', grid = True,\n",
    "                                                                       color = 'red')\n",
    "plt.title('deaths (3)')\n",
    "plt.xlabel('Countries')\n",
    "plt.ylabel('No of Deaths')\n",
    "plt.tight_layout()\n",
    "plt.show()\n",
    "\n"
   ]
  },
  {
   "cell_type": "code",
   "execution_count": 201,
   "metadata": {},
   "outputs": [
    {
     "data": {
      "text/plain": [
       "Country\n",
       "Sierra Leone    39348.247619\n",
       "Liberia         37499.848810\n",
       "Guinea            809.748891\n",
       "Name: Suspected Cases, dtype: float64"
      ]
     },
     "execution_count": 201,
     "metadata": {},
     "output_type": "execute_result"
    }
   ],
   "source": [
    "#Countries with the top 3 highest number of suspected cases\n",
    "df_1.groupby('Country')['Suspected Cases'].sum().nlargest(3)"
   ]
  },
  {
   "cell_type": "code",
   "execution_count": 202,
   "metadata": {},
   "outputs": [
    {
     "data": {
      "text/plain": [
       "Country\n",
       "Liberia         26910.429504\n",
       "Sierra Leone     4458.885714\n",
       "Guinea           4171.465711\n",
       "Name: Probable cases, dtype: float64"
      ]
     },
     "execution_count": 202,
     "metadata": {},
     "output_type": "execute_result"
    }
   ],
   "source": [
    "#Countries with the top 3 highest number of Probable cases\n",
    "df_1.groupby('Country')['Probable cases'].sum().nlargest(3)"
   ]
  },
  {
   "cell_type": "code",
   "execution_count": 196,
   "metadata": {},
   "outputs": [
    {
     "data": {
      "text/plain": [
       "Index(['Date', 'Country', 'Cases', 'Confirmed cases', 'Deaths', 'New Cases',\n",
       "       'Probable cases', 'Suspected Cases'],\n",
       "      dtype='object', name='Category')"
      ]
     },
     "execution_count": 196,
     "metadata": {},
     "output_type": "execute_result"
    }
   ],
   "source": [
    "df_1.columns"
   ]
  },
  {
   "cell_type": "code",
   "execution_count": 204,
   "metadata": {},
   "outputs": [
    {
     "data": {
      "image/png": "[encoded data removed]",
      "text/plain": [
       "<Figure size 432x288 with 2 Axes>"
      ]
     },
     "metadata": {
      "needs_background": "light"
     },
     "output_type": "display_data"
    }
   ],
   "source": [
    "# Barcharts showing Countries with the highest number of Suspected cases and highest number of Probable cases\n",
    "\n",
    "\n",
    "plt.subplot(1,2,1)\n",
    "df_1.groupby('Country')['Suspected Cases'].sum().nlargest(3).plot(kind = 'bar', grid = True)\n",
    "plt.title('Suspected Cases (3)')\n",
    "plt.xlabel('Countries')\n",
    "plt.ylabel('Suspected Cases')\n",
    "\n",
    "plt.subplot(1,2,2)\n",
    "df_1.groupby('Country')['Probable cases'].sum().nlargest(3).plot(kind = 'bar', grid = True,\n",
    "                                                                       color = 'red')\n",
    "plt.title('Probable cases (3)')\n",
    "plt.xlabel('Countries')\n",
    "plt.ylabel('Probable cases')\n",
    "plt.tight_layout()\n",
    "plt.show()"
   ]
  },
  {
   "cell_type": "code",
   "execution_count": 210,
   "metadata": {},
   "outputs": [
    {
     "data": {
      "application/vnd.plotly.v1+json": {
       "config": {
        "plotlyServerURL": "https://plot.ly"
       },
       "data": [
        {
         "colorscale": [
          [
           0,
           "rgb(255,245,240)"
          ],
          [
           0.125,
           "rgb(254,224,210)"
          ],
          [
           0.25,
           "rgb(252,187,161)"
          ],
          [
           0.375,
           "rgb(252,146,114)"
          ],
          [
           0.5,
           "rgb(251,106,74)"
          ],
          [
           0.625,
           "rgb(239,59,44)"
          ],
          [
           0.75,
           "rgb(203,24,29)"
          ],
          [
           0.875,
           "rgb(165,15,21)"
          ],
          [
           1,
           "rgb(103,0,13)"
          ]
         ],
         "locationmode": "country names",
         "locations": [
          "Guinea",
          "Guinea",
          "Guinea",
          "Guinea",
          "Guinea",
          "Guinea",
          "Guinea",
          "Guinea",
          "Guinea",
          "Liberia",
          "Liberia",
          "Guinea",
          "Liberia",
          "Guinea",
          "Liberia",
          "Guinea",
          "Guinea",
          "Liberia",
          "Guinea",
          "Liberia",
          "Guinea",
          "Liberia",
          "Guinea",
          "Liberia",
          "Liberia",
          "Guinea",
          "Guinea",
          "Liberia",
          "Guinea",
          "Guinea",
          "Guinea",
          "Liberia",
          "Guinea",
          "Guinea",
          "Guinea",
          "Sierra Leone",
          "Sierra Leone",
          "Sierra Leone",
          "Guinea",
          "Sierra Leone",
          "Sierra Leone",
          "Guinea",
          "Liberia",
          "Guinea",
          "Guinea",
          "Sierra Leone",
          "Sierra Leone",
          "Liberia",
          "Liberia",
          "Liberia",
          "Liberia",
          "Liberia",
          "Guinea",
          "Sierra Leone",
          "Guinea",
          "Liberia",
          "Sierra Leone",
          "Guinea",
          "Sierra Leone",
          "Liberia",
          "Liberia",
          "Guinea",
          "Sierra Leone",
          "Guinea",
          "Liberia",
          "Guinea",
          "Liberia",
          "Sierra Leone",
          "Guinea",
          "Liberia",
          "Sierra Leone",
          "Liberia",
          "Guinea",
          "Sierra Leone",
          "Guinea",
          "Liberia",
          "Sierra Leone",
          "Liberia",
          "Sierra Leone",
          "Guinea",
          "Liberia",
          "Sierra Leone",
          "Guinea",
          "Sierra Leone",
          "Guinea",
          "Liberia",
          "Guinea",
          "Liberia",
          "Sierra Leone",
          "Guinea",
          "Liberia",
          "Nigeria",
          "Sierra Leone",
          "Sierra Leone",
          "Nigeria",
          "Guinea",
          "Liberia",
          "Guinea",
          "Liberia",
          "Nigeria",
          "Sierra Leone",
          "Guinea",
          "Liberia",
          "Nigeria",
          "Sierra Leone",
          "Sierra Leone",
          "Nigeria",
          "Guinea",
          "Liberia",
          "Guinea",
          "Liberia",
          "Nigeria",
          "Sierra Leone",
          "Guinea",
          "Sierra Leone",
          "Nigeria",
          "Guinea",
          "Liberia",
          "Guinea",
          "Liberia",
          "Sierra Leone",
          "Nigeria",
          "Guinea",
          "Liberia",
          "Sierra Leone",
          "Sierra Leone",
          "Liberia",
          "Guinea",
          "Nigeria",
          "Nigeria",
          "Nigeria",
          "Sierra Leone",
          "Guinea",
          "Nigeria",
          "Sierra Leone",
          "Liberia",
          "Sierra Leone",
          "Guinea",
          "Liberia",
          "Nigeria",
          "Sierra Leone",
          "Guinea",
          "Liberia",
          "Sierra Leone",
          "Nigeria",
          "Guinea",
          "Sierra Leone",
          "Nigeria",
          "Guinea",
          "Liberia",
          "Guinea",
          "Liberia",
          "Senegal",
          "Guinea",
          "Liberia",
          "Nigeria",
          "Guinea",
          "Liberia",
          "Sierra Leone",
          "Nigeria",
          "Guinea",
          "Liberia",
          "Liberia",
          "Sierra Leone",
          "Guinea",
          "Liberia",
          "Sierra Leone",
          "Guinea",
          "Liberia",
          "Guinea",
          "Guinea",
          "Liberia",
          "Senegal",
          "Sierra Leone",
          "Guinea",
          "Liberia",
          "Senegal",
          "Sierra Leone",
          "Senegal",
          "Nigeria",
          "Guinea",
          "Liberia",
          "Liberia",
          "Senegal",
          "Guinea",
          "Senegal",
          "Sierra Leone",
          "Sierra Leone",
          "Guinea",
          "Liberia",
          "Nigeria",
          "Sierra Leone",
          "Guinea",
          "Liberia",
          "Guinea",
          "Senegal",
          "Sierra Leone",
          "Guinea",
          "Nigeria",
          "Senegal",
          "Sierra Leone",
          "Liberia",
          "Guinea",
          "Liberia",
          "Nigeria",
          "Senegal",
          "Guinea",
          "Liberia",
          "Nigeria",
          "Senegal",
          "Sierra Leone",
          "Sierra Leone",
          "Senegal",
          "Guinea",
          "Liberia",
          "Nigeria",
          "Sierra Leone",
          "Guinea",
          "Liberia",
          "Nigeria",
          "Sierra Leone",
          "Senegal",
          "Sierra Leone",
          "Liberia",
          "Guinea",
          "Nigeria",
          "Sierra Leone",
          "Guinea",
          "Liberia",
          "Nigeria",
          "Liberia",
          "Sierra Leone",
          "Guinea",
          "Sierra Leone",
          "Nigeria",
          "Guinea",
          "Liberia",
          "Senegal",
          "Sierra Leone",
          "Guinea",
          "Liberia",
          "Nigeria",
          "Senegal",
          "Sierra Leone",
          "Liberia",
          "Sierra Leone",
          "Liberia",
          "Sierra Leone",
          "Liberia",
          "Guinea",
          "Sierra Leone",
          "Sierra Leone",
          "Senegal",
          "Nigeria",
          "Liberia",
          "Guinea",
          "Guinea",
          "Liberia",
          "Nigeria",
          "Senegal",
          "Sierra Leone",
          "Liberia",
          "Sierra Leone",
          "Guinea",
          "Liberia",
          "Liberia",
          "Sierra Leone",
          "Liberia",
          "Sierra Leone",
          "Liberia",
          "Guinea",
          "Guinea",
          "Sierra Leone",
          "Liberia",
          "Guinea",
          "Guinea",
          "Liberia",
          "Sierra Leone",
          "Guinea",
          "Liberia",
          "Sierra Leone",
          "Liberia",
          "Guinea",
          "Sierra Leone",
          "Sierra Leone",
          "Guinea",
          "Liberia",
          "Guinea",
          "Sierra Leone",
          "Sierra Leone",
          "Guinea",
          "Liberia",
          "Sierra Leone",
          "Guinea",
          "Sierra Leone",
          "Liberia",
          "Guinea",
          "Guinea",
          "Liberia",
          "Sierra Leone",
          "Guinea",
          "Liberia",
          "Sierra Leone",
          "Guinea",
          "Liberia",
          "Sierra Leone",
          "Sierra Leone",
          "Guinea",
          "Liberia",
          "Guinea",
          "Liberia",
          "Sierra Leone",
          "Guinea",
          "Liberia",
          "Sierra Leone",
          "Sierra Leone",
          "Mali",
          "Liberia",
          "Guinea",
          "Guinea",
          "Liberia",
          "Mali",
          "Sierra Leone",
          "Guinea",
          "Mali",
          "Sierra Leone",
          "Sierra Leone",
          "Mali",
          "Liberia",
          "Guinea",
          "Guinea",
          "Liberia",
          "Mali",
          "Sierra Leone",
          "Guinea",
          "Liberia",
          "Mali",
          "Sierra Leone",
          "Guinea",
          "Liberia",
          "Guinea",
          "Liberia",
          "Sierra Leone",
          "Guinea",
          "Sierra Leone",
          "Guinea",
          "Liberia",
          "Sierra Leone",
          "Liberia",
          "Guinea",
          "Guinea",
          "Liberia",
          "Guinea",
          "Mali",
          "Guinea",
          "Liberia",
          "Sierra Leone",
          "Sierra Leone",
          "Liberia",
          "Guinea",
          "Guinea",
          "Liberia",
          "Sierra Leone",
          "Guinea",
          "Sierra Leone",
          "Guinea",
          "Sierra Leone",
          "Sierra Leone",
          "Guinea",
          "Guinea",
          "Mali",
          "Sierra Leone",
          "Guinea",
          "Liberia",
          "Sierra Leone",
          "Sierra Leone",
          "Guinea",
          "Mali",
          "Mali",
          "Sierra Leone",
          "Guinea",
          "Liberia",
          "Sierra Leone",
          "Guinea",
          "Sierra Leone",
          "Guinea",
          "Liberia",
          "Sierra Leone",
          "Sierra Leone",
          "Mali",
          "Liberia",
          "Guinea",
          "Guinea",
          "Liberia",
          "Sierra Leone",
          "Guinea",
          "Liberia",
          "Sierra Leone",
          "Sierra Leone",
          "Liberia",
          "Guinea",
          "Sierra Leone",
          "Mali",
          "Guinea",
          "Liberia",
          "Guinea",
          "Liberia",
          "Mali",
          "Sierra Leone",
          "Guinea",
          "Liberia",
          "Mali",
          "Sierra Leone",
          "Guinea",
          "Liberia",
          "Sierra Leone",
          "Sierra Leone",
          "Guinea",
          "Liberia",
          "Liberia",
          "Sierra Leone",
          "Guinea",
          "Sierra Leone",
          "Liberia",
          "Guinea",
          "Guinea",
          "Liberia",
          "Sierra Leone",
          "Liberia",
          "Sierra Leone",
          "Guinea",
          "Liberia",
          "Sierra Leone",
          "Liberia",
          "Guinea",
          "Guinea",
          "Liberia",
          "Sierra Leone",
          "Guinea",
          "Liberia",
          "Sierra Leone",
          "Sierra Leone",
          "Guinea",
          "Liberia",
          "Sierra Leone",
          "Guinea",
          "Liberia",
          "Liberia",
          "Sierra Leone",
          "Guinea",
          "Liberia",
          "Sierra Leone",
          "Sierra Leone",
          "Sierra Leone",
          "Liberia",
          "Sierra Leone",
          "Liberia",
          "Guinea",
          "Liberia",
          "Sierra Leone",
          "Liberia",
          "Sierra Leone",
          "Liberia",
          "Sierra Leone",
          "Guinea",
          "Sierra Leone",
          "Guinea",
          "Liberia",
          "Guinea",
          "Liberia",
          "Sierra Leone",
          "Guinea",
          "Liberia",
          "Sierra Leone",
          "Liberia",
          "Sierra Leone",
          "Guinea",
          "Guinea",
          "Liberia",
          "Sierra Leone",
          "Guinea",
          "Liberia",
          "Sierra Leone",
          "Guinea",
          "Liberia",
          "Sierra Leone",
          "Sierra Leone",
          "Liberia",
          "Guinea",
          "Guinea",
          "Liberia",
          "Sierra Leone",
          "Guinea",
          "Liberia",
          "Sierra Leone",
          "Liberia",
          "Guinea",
          "Sierra Leone",
          "Guinea",
          "Liberia",
          "Sierra Leone",
          "Liberia",
          "Sierra Leone",
          "Guinea",
          "Liberia",
          "Sierra Leone",
          "Guinea",
          "Sierra Leone",
          "Guinea",
          "Liberia",
          "Guinea",
          "Liberia",
          "Sierra Leone",
          "Guinea",
          "Liberia",
          "Sierra Leone",
          "Liberia",
          "Sierra Leone",
          "Guinea",
          "Guinea",
          "Liberia",
          "Sierra Leone",
          "Guinea",
          "Liberia",
          "Sierra Leone",
          "Liberia",
          "Guinea",
          "Sierra Leone",
          "Sierra Leone",
          "Liberia",
          "Guinea",
          "Sierra Leone",
          "Guinea",
          "Sierra Leone",
          "Guinea",
          "Sierra Leone",
          "Sierra Leone",
          "Guinea",
          "Liberia",
          "Sierra Leone",
          "Guinea",
          "Liberia",
          "Liberia",
          "Sierra Leone",
          "Sierra Leone",
          "Guinea",
          "Liberia",
          "Liberia",
          "Sierra Leone",
          "Guinea",
          "Sierra Leone",
          "Guinea",
          "Liberia",
          "Guinea",
          "Liberia",
          "Sierra Leone",
          "Guinea",
          "Liberia",
          "Sierra Leone",
          "Liberia",
          "Sierra Leone",
          "Guinea",
          "Guinea",
          "Liberia",
          "Sierra Leone",
          "Guinea",
          "Liberia",
          "Sierra Leone",
          "Sierra Leone",
          "Guinea",
          "Sierra Leone",
          "Guinea",
          "Guinea",
          "Sierra Leone",
          "Guinea",
          "Liberia",
          "Sierra Leone",
          "Guinea",
          "Liberia",
          "Sierra Leone",
          "Sierra Leone",
          "Guinea",
          "Guinea",
          "Sierra Leone",
          "Guinea",
          "Liberia",
          "Guinea",
          "Liberia",
          "Sierra Leone",
          "Guinea",
          "Sierra Leone",
          "Liberia",
          "Guinea",
          "Guinea",
          "Liberia",
          "Guinea",
          "Sierra Leone",
          "Guinea",
          "Sierra Leone",
          "Guinea",
          "Sierra Leone",
          "Sierra Leone",
          "Guinea",
          "Liberia",
          "Guinea",
          "Liberia",
          "Sierra Leone",
          "Guinea",
          "Liberia",
          "Liberia",
          "Sierra Leone",
          "Sierra Leone",
          "Liberia",
          "Guinea",
          "Sierra Leone",
          "Guinea",
          "Sierra Leone",
          "Guinea",
          "Sierra Leone",
          "Sierra Leone",
          "Guinea",
          "Sierra Leone",
          "Guinea",
          "Sierra Leone",
          "Guinea",
          "Sierra Leone",
          "Guinea",
          "Sierra Leone",
          "Guinea",
          "Sierra Leone",
          "Sierra Leone",
          "Guinea",
          "Sierra Leone",
          "Guinea",
          "Guinea",
          "Sierra Leone",
          "Sierra Leone",
          "Guinea",
          "Sierra Leone",
          "Guinea",
          "Sierra Leone",
          "Sierra Leone",
          "Guinea",
          "Guinea",
          "Guinea",
          "Sierra Leone",
          "Guinea",
          "Sierra Leone",
          "Guinea",
          "Sierra Leone",
          "Guinea",
          "Sierra Leone",
          "Sierra Leone",
          "Guinea",
          "Guinea",
          "Sierra Leone",
          "Guinea",
          "Sierra Leone",
          "Sierra Leone",
          "Sierra Leone",
          "Sierra Leone",
          "Sierra Leone",
          "Sierra Leone",
          "Sierra Leone",
          "Sierra Leone",
          "Sierra Leone",
          "Sierra Leone",
          "Sierra Leone",
          "Sierra Leone",
          "Sierra Leone",
          "Sierra Leone",
          "Sierra Leone",
          "Sierra Leone",
          "Sierra Leone",
          "Sierra Leone",
          "Sierra Leone",
          "Sierra Leone"
         ],
         "marker": {
          "line": {
           "color": "black",
           "width": 0.5
          }
         },
         "type": "choropleth",
         "z": [
          0,
          0,
          0,
          0,
          0,
          24,
          35,
          54,
          0,
          5,
          5,
          0,
          5,
          71,
          5,
          0,
          101,
          6,
          109,
          6,
          112,
          6,
          115,
          6,
          6,
          121,
          127,
          6,
          127,
          127,
          129,
          6,
          129,
          138,
          146,
          1,
          7,
          7,
          172,
          14,
          18,
          208,
          6,
          207,
          210,
          31,
          33,
          7,
          0,
          11,
          16,
          18,
          254,
          92,
          258,
          24,
          103,
          260,
          147,
          34,
          38,
          286,
          199,
          293,
          52,
          292,
          54,
          211,
          294,
          63,
          269,
          70,
          296,
          298,
          297,
          70,
          339,
          70,
          346,
          301,
          76,
          368,
          301,
          405,
          304,
          77,
          311,
          84,
          419,
          336,
          100,
          0,
          473,
          540,
          0,
          340,
          129,
          351,
          143,
          0,
          576,
          355,
          148,
          0,
          631,
          656,
          0,
          362,
          158,
          0,
          0,
          0,
          0,
          0,
          0,
          0,
          0,
          0,
          0,
          0,
          0,
          0,
          0,
          0,
          0,
          108.4,
          43.833333333333336,
          59.06666666666667,
          0,
          14,
          14,
          0,
          62.266666666666666,
          14,
          120.53333333333333,
          49.53846153846154,
          124.66666666666667,
          64,
          49.53846153846154,
          13,
          127.33333333333333,
          65.33333333333333,
          52.61538461538461,
          128.13333333333333,
          15,
          66.53333333333333,
          135.73333333333332,
          10,
          65.5,
          3.142857142857143,
          66.625,
          56,
          1,
          70.375,
          56,
          10.666666666666666,
          67.88235294117646,
          56,
          57.6,
          12,
          65.66666666666667,
          58,
          84.28571428571429,
          152.8,
          67.11111111111111,
          86.85714285714286,
          156.53333333333333,
          69,
          88.57142857142857,
          69.66666666666667,
          72.55555555555556,
          88.85714285714286,
          0.6666666666666666,
          164.53333333333333,
          73.77777777777777,
          89.71428571428571,
          1,
          170.13333333333333,
          0.6666666666666666,
          12.666666666666666,
          75.33333333333333,
          92.57142857142857,
          93.33333333333333,
          1,
          78.11111111111111,
          0.5,
          4.8,
          182.26666666666668,
          79.55555555555556,
          105.33333333333333,
          12.666666666666666,
          186.8,
          80.66666666666667,
          105.33333333333333,
          76.73684210526316,
          1,
          190.93333333333334,
          78.21052631578948,
          12.666666666666666,
          1,
          201.73333333333332,
          107.46666666666667,
          78.94736842105263,
          109.73333333333333,
          12.666666666666666,
          1,
          81.15789473684211,
          112.93333333333334,
          12.666666666666666,
          1,
          209.46666666666667,
          211.33333333333334,
          1,
          81.78947368421052,
          107.625,
          12.666666666666666,
          215.73333333333332,
          84.10526315789474,
          110.375,
          12.666666666666666,
          218.66666666666666,
          1,
          226.13333333333333,
          108.25,
          81.8,
          13,
          232.66666666666666,
          83.2,
          110.5,
          12.666666666666666,
          111.5,
          236.66666666666666,
          85.4,
          242.13333333333333,
          12.666666666666666,
          87.6,
          113.5,
          1,
          251.33333333333334,
          85.9047619047619,
          114.375,
          12.666666666666666,
          1,
          256,
          114.625,
          259.2,
          114.875,
          266.6666666666667,
          115.125,
          90.47619047619048,
          278.6666666666667,
          287.3333333333333,
          1,
          12.666666666666666,
          115.5,
          91.52380952380952,
          88.18181818181819,
          115.625,
          12.666666666666666,
          1,
          290.53333333333336,
          115.75,
          294.93333333333334,
          88.81818181818181,
          116,
          116.25,
          303.46666666666664,
          116.875,
          321.46666666666664,
          116.875,
          99.72727272727273,
          97.56521739130434,
          370.42857142857144,
          118.5,
          95.16666666666667,
          100.08695652173913,
          0,
          385.42857142857144,
          101.21739130434783,
          0,
          398.85714285714283,
          0,
          98.625,
          407,
          413.42857142857144,
          91.76923076923077,
          0,
          93.61538461538461,
          445.8,
          582.375,
          94.6923076923077,
          119.625,
          436.85714285714283,
          96.15384615384616,
          442.42857142857144,
          119.75,
          97.3076923076923,
          99,
          120.625,
          450.57142857142856,
          99.15384615384616,
          0,
          429.73333333333335,
          100.3076923076923,
          0,
          439.3333333333333,
          446,
          100.92307692307692,
          0,
          101.92307692307692,
          277.25,
          451.8666666666667,
          102.6923076923077,
          278.625,
          459.8666666666667,
          465.3333333333333,
          0.6666666666666666,
          279,
          103.76923076923077,
          105.07692307692308,
          280,
          0.25,
          474.6666666666667,
          105.23076923076923,
          0.5,
          482.93333333333334,
          495.06666666666666,
          0.5,
          287.875,
          106.46153846153847,
          107.3076923076923,
          288,
          0.5,
          501.3333333333333,
          108.38461538461539,
          299.375,
          0.2857142857142857,
          512.1333333333333,
          108.84615384615384,
          304.625,
          109.53846153846153,
          306.375,
          524.8,
          110.38461538461539,
          532.8,
          112.07692307692308,
          307,
          540.9333333333333,
          309,
          113.76923076923077,
          114.92307692307692,
          314.25,
          116.61538461538461,
          0.2857142857142857,
          119.3076923076923,
          317,
          564.2666666666667,
          570.2666666666667,
          317.75,
          120.07692307692308,
          1570,
          319.125,
          591.0666666666667,
          1612,
          0,
          125.3076923076923,
          615.6,
          0,
          126.6923076923077,
          127.61538461538461,
          0.36363636363636365,
          632.5333333333333,
          128.53846153846155,
          328.5,
          643.7333333333333,
          655.0666666666667,
          129,
          0.7272727272727273,
          0.9090909090909091,
          662.2666666666667,
          129.84615384615384,
          333.625,
          674.1333333333333,
          133,
          681.2,
          134.23076923076923,
          334.125,
          686.9333333333333,
          694.6666666666666,
          0.9090909090909091,
          339.625,
          136.07692307692307,
          137.76923076923077,
          340.75,
          707.2,
          139.76923076923077,
          340.75,
          714,
          720.2666666666667,
          340.875,
          140.76923076923077,
          725.4666666666667,
          1.2727272727272727,
          142.30769230769232,
          342.25,
          143.92307692307693,
          344.125,
          1.2727272727272727,
          736.5333333333333,
          145.53846153846155,
          344.75,
          1.2727272727272727,
          746,
          146.69230769230768,
          344.75,
          757.7333333333333,
          768.9333333333333,
          147.23076923076923,
          344.75,
          350.125,
          777.4666666666667,
          147.76923076923077,
          787.4666666666667,
          350.625,
          148.07692307692307,
          148.3846153846154,
          352.875,
          797.0666666666667,
          352.875,
          805.2,
          149.92307692307693,
          353,
          817.6,
          353.75,
          150.46153846153845,
          153.76923076923077,
          353.75,
          831.7333333333333,
          155.30769230769232,
          358.5,
          838.9333333333333,
          842.2666666666667,
          156.53846153846155,
          358.625,
          850,
          157.76923076923077,
          365.875,
          368.25,
          856,
          160.07692307692307,
          369,
          860.9333333333333,
          866.2666666666667,
          874.2666666666667,
          369,
          878.9333333333333,
          369.125,
          162.69230769230768,
          369.5,
          885.0666666666667,
          377.625,
          893.6,
          377.75,
          900.9333333333333,
          163.92307692307693,
          907.7333333333333,
          160.2962962962963,
          382.25,
          161.40740740740742,
          383.625,
          914.1333333333333,
          96.22222222222223,
          385.625,
          920.4,
          385.625,
          924.2666666666667,
          165.92592592592592,
          167.33333333333334,
          385.625,
          930,
          163.14285714285714,
          386.25,
          935.6,
          164.92857142857142,
          387.5,
          943.3333333333334,
          950.6666666666666,
          388.25,
          165.92857142857142,
          167.28571428571428,
          388.5,
          954.6666666666666,
          162.68965517241378,
          388.875,
          962.6666666666666,
          388.5,
          163.24137931034483,
          970,
          164.41379310344828,
          388.625,
          976.8,
          388.75,
          980.5333333333333,
          165.31034482758622,
          389,
          989.2,
          166.89655172413794,
          994.4,
          167.51724137931035,
          389.5,
          167.93103448275863,
          389.5,
          996.8,
          168.9655172413793,
          389.75,
          1000.6666666666666,
          389.75,
          1005.4666666666667,
          169.6551724137931,
          170,
          389.75,
          1009.3333333333334,
          170.41379310344828,
          389.875,
          1013.6,
          390.125,
          170.82758620689654,
          1018,
          1021.2,
          390.375,
          178.03571428571428,
          1024.9333333333334,
          178.35714285714286,
          1027.8666666666666,
          178.85714285714286,
          1031.8666666666666,
          1035.4666666666667,
          179.14285714285714,
          390.875,
          1038.1333333333334,
          186.22222222222223,
          390.875,
          390.875,
          1040.2666666666667,
          1043.3333333333333,
          187.03703703703704,
          391,
          391.25,
          1045.4666666666667,
          187.03703703703704,
          1046.2666666666667,
          187.77777777777777,
          391.375,
          187.85185185185185,
          391.5,
          1049.4666666666667,
          188.07407407407408,
          391.875,
          1051.0666666666666,
          391.875,
          1053.7333333333333,
          188.07407407407408,
          188.2962962962963,
          391.875,
          1054.5333333333333,
          188.5185185185185,
          392,
          1056.1333333333334,
          1057.3333333333333,
          188.74074074074073,
          1059.2,
          183.20689655172413,
          182.28571428571428,
          1060.2666666666667,
          182.78571428571428,
          392.25,
          1061.7333333333333,
          183.5,
          392.25,
          1062.4,
          1063.6,
          177.31034482758622,
          177.58620689655172,
          1065.2,
          177.86206896551724,
          392.25,
          178.06896551724137,
          392.375,
          1069.2,
          172.26666666666668,
          651.6210666666666,
          392.875,
          175.79661016949152,
          173.86666666666667,
          393,
          174.73333333333332,
          475.66613333333333,
          175.2,
          475.7666,
          164.4375,
          477.0340666666667,
          477.4347333333333,
          165,
          393.25,
          166,
          393.25,
          478.2352,
          166.9375,
          393.25,
          393.375,
          1082.9333333333334,
          478.50339999999994,
          393.375,
          168.3125,
          1087.3333333333333,
          168.625,
          1089.2,
          169.1875,
          1090.5333333333333,
          1092.5333333333333,
          169.875,
          1093.2,
          170,
          1094.9333333333334,
          176.06451612903226,
          1095.4666666666667,
          176.25806451612902,
          1096.4,
          176.38709677419354,
          1096.6666666666667,
          1097.3333333333333,
          176.83870967741936,
          1099.4666666666667,
          177.09677419354838,
          177.93548387096774,
          1101.4666666666667,
          1103.3333333333333,
          179.41935483870967,
          963.5333333333333,
          180,
          1105.8666666666666,
          715.0666666666667,
          180.25806451612902,
          180.38709677419354,
          181.16129032258064,
          854.5333333333333,
          181.48387096774192,
          855.0666666666667,
          182.38709677419354,
          1114.1333333333334,
          182.7741935483871,
          1114.6666666666667,
          1115.8666666666666,
          183.2258064516129,
          183.8709677419355,
          720.6666666666666,
          184.25806451612902,
          1118.8,
          995.4666666666667,
          1122.8,
          954.1333333333333,
          1126.5333333333333,
          1127.3333333333333,
          1127.7333333333333,
          1128.2666666666667,
          958.1333333333333,
          1131.6,
          1131.7333333333333,
          1132.5333333333333,
          1133.4666666666667,
          1064.2666666666667,
          1134.1333333333334,
          1134.9333333333334,
          1135.3333333333333,
          1135.7333333333333,
          1136.1333333333334,
          1136.6666666666667
         ]
        }
       ],
       "layout": {
        "geo": {
         "showcoastlines": false,
         "showframe": false
        },
        "template": {
         "data": {
          "bar": [
           {
            "error_x": {
             "color": "#2a3f5f"
            },
            "error_y": {
             "color": "#2a3f5f"
            },
            "marker": {
             "line": {
              "color": "#E5ECF6",
              "width": 0.5
             }
            },
            "type": "bar"
           }
          ],
          "barpolar": [
           {
            "marker": {
             "line": {
              "color": "#E5ECF6",
              "width": 0.5
             }
            },
            "type": "barpolar"
           }
          ],
          "carpet": [
           {
            "aaxis": {
             "endlinecolor": "#2a3f5f",
             "gridcolor": "white",
             "linecolor": "white",
             "minorgridcolor": "white",
             "startlinecolor": "#2a3f5f"
            },
            "baxis": {
             "endlinecolor": "#2a3f5f",
             "gridcolor": "white",
             "linecolor": "white",
             "minorgridcolor": "white",
             "startlinecolor": "#2a3f5f"
            },
            "type": "carpet"
           }
          ],
          "choropleth": [
           {
            "colorbar": {
             "outlinewidth": 0,
             "ticks": ""
            },
            "type": "choropleth"
           }
          ],
          "contour": [
           {
            "colorbar": {
             "outlinewidth": 0,
             "ticks": ""
            },
            "colorscale": [
             [
              0,
              "#0d0887"
             ],
             [
              0.1111111111111111,
              "#46039f"
             ],
             [
              0.2222222222222222,
              "#7201a8"
             ],
             [
              0.3333333333333333,
              "#9c179e"
             ],
             [
              0.4444444444444444,
              "#bd3786"
             ],
             [
              0.5555555555555556,
              "#d8576b"
             ],
             [
              0.6666666666666666,
              "#ed7953"
             ],
             [
              0.7777777777777778,
              "#fb9f3a"
             ],
             [
              0.8888888888888888,
              "#fdca26"
             ],
             [
              1,
              "#f0f921"
             ]
            ],
            "type": "contour"
           }
          ],
          "contourcarpet": [
           {
            "colorbar": {
             "outlinewidth": 0,
             "ticks": ""
            },
            "type": "contourcarpet"
           }
          ],
          "heatmap": [
           {
            "colorbar": {
             "outlinewidth": 0,
             "ticks": ""
            },
            "colorscale": [
             [
              0,
              "#0d0887"
             ],
             [
              0.1111111111111111,
              "#46039f"
             ],
             [
              0.2222222222222222,
              "#7201a8"
             ],
             [
              0.3333333333333333,
              "#9c179e"
             ],
             [
              0.4444444444444444,
              "#bd3786"
             ],
             [
              0.5555555555555556,
              "#d8576b"
             ],
             [
              0.6666666666666666,
              "#ed7953"
             ],
             [
              0.7777777777777778,
              "#fb9f3a"
             ],
             [
              0.8888888888888888,
              "#fdca26"
             ],
             [
              1,
              "#f0f921"
             ]
            ],
            "type": "heatmap"
           }
          ],
          "heatmapgl": [
           {
            "colorbar": {
             "outlinewidth": 0,
             "ticks": ""
            },
            "colorscale": [
             [
              0,
              "#0d0887"
             ],
             [
              0.1111111111111111,
              "#46039f"
             ],
             [
              0.2222222222222222,
              "#7201a8"
             ],
             [
              0.3333333333333333,
              "#9c179e"
             ],
             [
              0.4444444444444444,
              "#bd3786"
             ],
             [
              0.5555555555555556,
              "#d8576b"
             ],
             [
              0.6666666666666666,
              "#ed7953"
             ],
             [
              0.7777777777777778,
              "#fb9f3a"
             ],
             [
              0.8888888888888888,
              "#fdca26"
             ],
             [
              1,
              "#f0f921"
             ]
            ],
            "type": "heatmapgl"
           }
          ],
          "histogram": [
           {
            "marker": {
             "colorbar": {
              "outlinewidth": 0,
              "ticks": ""
             }
            },
            "type": "histogram"
           }
          ],
          "histogram2d": [
           {
            "colorbar": {
             "outlinewidth": 0,
             "ticks": ""
            },
            "colorscale": [
             [
              0,
              "#0d0887"
             ],
             [
              0.1111111111111111,
              "#46039f"
             ],
             [
              0.2222222222222222,
              "#7201a8"
             ],
             [
              0.3333333333333333,
              "#9c179e"
             ],
             [
              0.4444444444444444,
              "#bd3786"
             ],
             [
              0.5555555555555556,
              "#d8576b"
             ],
             [
              0.6666666666666666,
              "#ed7953"
             ],
             [
              0.7777777777777778,
              "#fb9f3a"
             ],
             [
              0.8888888888888888,
              "#fdca26"
             ],
             [
              1,
              "#f0f921"
             ]
            ],
            "type": "histogram2d"
           }
          ],
          "histogram2dcontour": [
           {
            "colorbar": {
             "outlinewidth": 0,
             "ticks": ""
            },
            "colorscale": [
             [
              0,
              "#0d0887"
             ],
             [
              0.1111111111111111,
              "#46039f"
             ],
             [
              0.2222222222222222,
              "#7201a8"
             ],
             [
              0.3333333333333333,
              "#9c179e"
             ],
             [
              0.4444444444444444,
              "#bd3786"
             ],
             [
              0.5555555555555556,
              "#d8576b"
             ],
             [
              0.6666666666666666,
              "#ed7953"
             ],
             [
              0.7777777777777778,
              "#fb9f3a"
             ],
             [
              0.8888888888888888,
              "#fdca26"
             ],
             [
              1,
              "#f0f921"
             ]
            ],
            "type": "histogram2dcontour"
           }
          ],
          "mesh3d": [
           {
            "colorbar": {
             "outlinewidth": 0,
             "ticks": ""
            },
            "type": "mesh3d"
           }
          ],
          "parcoords": [
           {
            "line": {
             "colorbar": {
              "outlinewidth": 0,
              "ticks": ""
             }
            },
            "type": "parcoords"
           }
          ],
          "pie": [
           {
            "automargin": true,
            "type": "pie"
           }
          ],
          "scatter": [
           {
            "marker": {
             "colorbar": {
              "outlinewidth": 0,
              "ticks": ""
             }
            },
            "type": "scatter"
           }
          ],
          "scatter3d": [
           {
            "line": {
             "colorbar": {
              "outlinewidth": 0,
              "ticks": ""
             }
            },
            "marker": {
             "colorbar": {
              "outlinewidth": 0,
              "ticks": ""
             }
            },
            "type": "scatter3d"
           }
          ],
          "scattercarpet": [
           {
            "marker": {
             "colorbar": {
              "outlinewidth": 0,
              "ticks": ""
             }
            },
            "type": "scattercarpet"
           }
          ],
          "scattergeo": [
           {
            "marker": {
             "colorbar": {
              "outlinewidth": 0,
              "ticks": ""
             }
            },
            "type": "scattergeo"
           }
          ],
          "scattergl": [
           {
            "marker": {
             "colorbar": {
              "outlinewidth": 0,
              "ticks": ""
             }
            },
            "type": "scattergl"
           }
          ],
          "scattermapbox": [
           {
            "marker": {
             "colorbar": {
              "outlinewidth": 0,
              "ticks": ""
             }
            },
            "type": "scattermapbox"
           }
          ],
          "scatterpolar": [
           {
            "marker": {
             "colorbar": {
              "outlinewidth": 0,
              "ticks": ""
             }
            },
            "type": "scatterpolar"
           }
          ],
          "scatterpolargl": [
           {
            "marker": {
             "colorbar": {
              "outlinewidth": 0,
              "ticks": ""
             }
            },
            "type": "scatterpolargl"
           }
          ],
          "scatterternary": [
           {
            "marker": {
             "colorbar": {
              "outlinewidth": 0,
              "ticks": ""
             }
            },
            "type": "scatterternary"
           }
          ],
          "surface": [
           {
            "colorbar": {
             "outlinewidth": 0,
             "ticks": ""
            },
            "colorscale": [
             [
              0,
              "#0d0887"
             ],
             [
              0.1111111111111111,
              "#46039f"
             ],
             [
              0.2222222222222222,
              "#7201a8"
             ],
             [
              0.3333333333333333,
              "#9c179e"
             ],
             [
              0.4444444444444444,
              "#bd3786"
             ],
             [
              0.5555555555555556,
              "#d8576b"
             ],
             [
              0.6666666666666666,
              "#ed7953"
             ],
             [
              0.7777777777777778,
              "#fb9f3a"
             ],
             [
              0.8888888888888888,
              "#fdca26"
             ],
             [
              1,
              "#f0f921"
             ]
            ],
            "type": "surface"
           }
          ],
          "table": [
           {
            "cells": {
             "fill": {
              "color": "#EBF0F8"
             },
             "line": {
              "color": "white"
             }
            },
            "header": {
             "fill": {
              "color": "#C8D4E3"
             },
             "line": {
              "color": "white"
             }
            },
            "type": "table"
           }
          ]
         },
         "layout": {
          "annotationdefaults": {
           "arrowcolor": "#2a3f5f",
           "arrowhead": 0,
           "arrowwidth": 1
          },
          "coloraxis": {
           "colorbar": {
            "outlinewidth": 0,
            "ticks": ""
           }
          },
          "colorscale": {
           "diverging": [
            [
             0,
             "#8e0152"
            ],
            [
             0.1,
             "#c51b7d"
            ],
            [
             0.2,
             "#de77ae"
            ],
            [
             0.3,
             "#f1b6da"
            ],
            [
             0.4,
             "#fde0ef"
            ],
            [
             0.5,
             "#f7f7f7"
            ],
            [
             0.6,
             "#e6f5d0"
            ],
            [
             0.7,
             "#b8e186"
            ],
            [
             0.8,
             "#7fbc41"
            ],
            [
             0.9,
             "#4d9221"
            ],
            [
             1,
             "#276419"
            ]
           ],
           "sequential": [
            [
             0,
             "#0d0887"
            ],
            [
             0.1111111111111111,
             "#46039f"
            ],
            [
             0.2222222222222222,
             "#7201a8"
            ],
            [
             0.3333333333333333,
             "#9c179e"
            ],
            [
             0.4444444444444444,
             "#bd3786"
            ],
            [
             0.5555555555555556,
             "#d8576b"
            ],
            [
             0.6666666666666666,
             "#ed7953"
            ],
            [
             0.7777777777777778,
             "#fb9f3a"
            ],
            [
             0.8888888888888888,
             "#fdca26"
            ],
            [
             1,
             "#f0f921"
            ]
           ],
           "sequentialminus": [
            [
             0,
             "#0d0887"
            ],
            [
             0.1111111111111111,
             "#46039f"
            ],
            [
             0.2222222222222222,
             "#7201a8"
            ],
            [
             0.3333333333333333,
             "#9c179e"
            ],
            [
             0.4444444444444444,
             "#bd3786"
            ],
            [
             0.5555555555555556,
             "#d8576b"
            ],
            [
             0.6666666666666666,
             "#ed7953"
            ],
            [
             0.7777777777777778,
             "#fb9f3a"
            ],
            [
             0.8888888888888888,
             "#fdca26"
            ],
            [
             1,
             "#f0f921"
            ]
           ]
          },
          "colorway": [
           "#636efa",
           "#EF553B",
           "#00cc96",
           "#ab63fa",
           "#FFA15A",
           "#19d3f3",
           "#FF6692",
           "#B6E880",
           "#FF97FF",
           "#FECB52"
          ],
          "font": {
           "color": "#2a3f5f"
          },
          "geo": {
           "bgcolor": "white",
           "lakecolor": "white",
           "landcolor": "#E5ECF6",
           "showlakes": true,
           "showland": true,
           "subunitcolor": "white"
          },
          "hoverlabel": {
           "align": "left"
          },
          "hovermode": "closest",
          "mapbox": {
           "style": "light"
          },
          "paper_bgcolor": "white",
          "plot_bgcolor": "#E5ECF6",
          "polar": {
           "angularaxis": {
            "gridcolor": "white",
            "linecolor": "white",
            "ticks": ""
           },
           "bgcolor": "#E5ECF6",
           "radialaxis": {
            "gridcolor": "white",
            "linecolor": "white",
            "ticks": ""
           }
          },
          "scene": {
           "xaxis": {
            "backgroundcolor": "#E5ECF6",
            "gridcolor": "white",
            "gridwidth": 2,
            "linecolor": "white",
            "showbackground": true,
            "ticks": "",
            "zerolinecolor": "white"
           },
           "yaxis": {
            "backgroundcolor": "#E5ECF6",
            "gridcolor": "white",
            "gridwidth": 2,
            "linecolor": "white",
            "showbackground": true,
            "ticks": "",
            "zerolinecolor": "white"
           },
           "zaxis": {
            "backgroundcolor": "#E5ECF6",
            "gridcolor": "white",
            "gridwidth": 2,
            "linecolor": "white",
            "showbackground": true,
            "ticks": "",
            "zerolinecolor": "white"
           }
          },
          "shapedefaults": {
           "line": {
            "color": "#2a3f5f"
           }
          },
          "ternary": {
           "aaxis": {
            "gridcolor": "white",
            "linecolor": "white",
            "ticks": ""
           },
           "baxis": {
            "gridcolor": "white",
            "linecolor": "white",
            "ticks": ""
           },
           "bgcolor": "#E5ECF6",
           "caxis": {
            "gridcolor": "white",
            "linecolor": "white",
            "ticks": ""
           }
          },
          "title": {
           "x": 0.05
          },
          "xaxis": {
           "automargin": true,
           "gridcolor": "white",
           "linecolor": "white",
           "ticks": "",
           "title": {
            "standoff": 15
           },
           "zerolinecolor": "white",
           "zerolinewidth": 2
          },
          "yaxis": {
           "automargin": true,
           "gridcolor": "white",
           "linecolor": "white",
           "ticks": "",
           "title": {
            "standoff": 15
           },
           "zerolinecolor": "white",
           "zerolinewidth": 2
          }
         }
        },
        "title": {
         "text": "Confirmed Cases",
         "x": 0.5
        }
       }
      },
      "text/html": [
       "<div>\n",
       "        \n",
       "        \n",
       "            <div id=\"118873e2-51c6-428c-b209-9167ab463c9c\" class=\"plotly-graph-div\" style=\"height:525px; width:100%;\"></div>\n",
       "            <script type=\"text/javascript\">\n",
       "                require([\"plotly\"], function(Plotly) {\n",
       "                    window.PLOTLYENV=window.PLOTLYENV || {};\n",
       "                    \n",
       "                if (document.getElementById(\"118873e2-51c6-428c-b209-9167ab463c9c\")) {\n",
       "                    Plotly.newPlot(\n",
       "                        '118873e2-51c6-428c-b209-9167ab463c9c',\n",
       "                        [{\"colorscale\": [[0.0, \"rgb(255,245,240)\"], [0.125, \"rgb(254,224,210)\"], [0.25, \"rgb(252,187,161)\"], [0.375, \"rgb(252,146,114)\"], [0.5, \"rgb(251,106,74)\"], [0.625, \"rgb(239,59,44)\"], [0.75, \"rgb(203,24,29)\"], [0.875, \"rgb(165,15,21)\"], [1.0, \"rgb(103,0,13)\"]], \"locationmode\": \"country names\", \"locations\": [\"Guinea\", \"Guinea\", \"Guinea\", \"Guinea\", \"Guinea\", \"Guinea\", \"Guinea\", \"Guinea\", \"Guinea\", \"Liberia\", \"Liberia\", \"Guinea\", \"Liberia\", \"Guinea\", \"Liberia\", \"Guinea\", \"Guinea\", \"Liberia\", \"Guinea\", \"Liberia\", \"Guinea\", \"Liberia\", \"Guinea\", \"Liberia\", \"Liberia\", \"Guinea\", \"Guinea\", \"Liberia\", \"Guinea\", \"Guinea\", \"Guinea\", \"Liberia\", \"Guinea\", \"Guinea\", \"Guinea\", \"Sierra Leone\", \"Sierra Leone\", \"Sierra Leone\", \"Guinea\", \"Sierra Leone\", \"Sierra Leone\", \"Guinea\", \"Liberia\", \"Guinea\", \"Guinea\", \"Sierra Leone\", \"Sierra Leone\", \"Liberia\", \"Liberia\", \"Liberia\", \"Liberia\", \"Liberia\", \"Guinea\", \"Sierra Leone\", \"Guinea\", \"Liberia\", \"Sierra Leone\", \"Guinea\", \"Sierra Leone\", \"Liberia\", \"Liberia\", \"Guinea\", \"Sierra Leone\", \"Guinea\", \"Liberia\", \"Guinea\", \"Liberia\", \"Sierra Leone\", \"Guinea\", \"Liberia\", \"Sierra Leone\", \"Liberia\", \"Guinea\", \"Sierra Leone\", \"Guinea\", \"Liberia\", \"Sierra Leone\", \"Liberia\", \"Sierra Leone\", \"Guinea\", \"Liberia\", \"Sierra Leone\", \"Guinea\", \"Sierra Leone\", \"Guinea\", \"Liberia\", \"Guinea\", \"Liberia\", \"Sierra Leone\", \"Guinea\", \"Liberia\", \"Nigeria\", \"Sierra Leone\", \"Sierra Leone\", \"Nigeria\", \"Guinea\", \"Liberia\", \"Guinea\", \"Liberia\", \"Nigeria\", \"Sierra Leone\", \"Guinea\", \"Liberia\", \"Nigeria\", \"Sierra Leone\", \"Sierra Leone\", \"Nigeria\", \"Guinea\", \"Liberia\", \"Guinea\", \"Liberia\", \"Nigeria\", \"Sierra Leone\", \"Guinea\", \"Sierra Leone\", \"Nigeria\", \"Guinea\", \"Liberia\", \"Guinea\", \"Liberia\", \"Sierra Leone\", \"Nigeria\", \"Guinea\", \"Liberia\", \"Sierra Leone\", \"Sierra Leone\", \"Liberia\", \"Guinea\", \"Nigeria\", \"Nigeria\", \"Nigeria\", \"Sierra Leone\", \"Guinea\", \"Nigeria\", \"Sierra Leone\", \"Liberia\", \"Sierra Leone\", \"Guinea\", \"Liberia\", \"Nigeria\", \"Sierra Leone\", \"Guinea\", \"Liberia\", \"Sierra Leone\", \"Nigeria\", \"Guinea\", \"Sierra Leone\", \"Nigeria\", \"Guinea\", \"Liberia\", \"Guinea\", \"Liberia\", \"Senegal\", \"Guinea\", \"Liberia\", \"Nigeria\", \"Guinea\", \"Liberia\", \"Sierra Leone\", \"Nigeria\", \"Guinea\", \"Liberia\", \"Liberia\", \"Sierra Leone\", \"Guinea\", \"Liberia\", \"Sierra Leone\", \"Guinea\", \"Liberia\", \"Guinea\", \"Guinea\", \"Liberia\", \"Senegal\", \"Sierra Leone\", \"Guinea\", \"Liberia\", \"Senegal\", \"Sierra Leone\", \"Senegal\", \"Nigeria\", \"Guinea\", \"Liberia\", \"Liberia\", \"Senegal\", \"Guinea\", \"Senegal\", \"Sierra Leone\", \"Sierra Leone\", \"Guinea\", \"Liberia\", \"Nigeria\", \"Sierra Leone\", \"Guinea\", \"Liberia\", \"Guinea\", \"Senegal\", \"Sierra Leone\", \"Guinea\", \"Nigeria\", \"Senegal\", \"Sierra Leone\", \"Liberia\", \"Guinea\", \"Liberia\", \"Nigeria\", \"Senegal\", \"Guinea\", \"Liberia\", \"Nigeria\", \"Senegal\", \"Sierra Leone\", \"Sierra Leone\", \"Senegal\", \"Guinea\", \"Liberia\", \"Nigeria\", \"Sierra Leone\", \"Guinea\", \"Liberia\", \"Nigeria\", \"Sierra Leone\", \"Senegal\", \"Sierra Leone\", \"Liberia\", \"Guinea\", \"Nigeria\", \"Sierra Leone\", \"Guinea\", \"Liberia\", \"Nigeria\", \"Liberia\", \"Sierra Leone\", \"Guinea\", \"Sierra Leone\", \"Nigeria\", \"Guinea\", \"Liberia\", \"Senegal\", \"Sierra Leone\", \"Guinea\", \"Liberia\", \"Nigeria\", \"Senegal\", \"Sierra Leone\", \"Liberia\", \"Sierra Leone\", \"Liberia\", \"Sierra Leone\", \"Liberia\", \"Guinea\", \"Sierra Leone\", \"Sierra Leone\", \"Senegal\", \"Nigeria\", \"Liberia\", \"Guinea\", \"Guinea\", \"Liberia\", \"Nigeria\", \"Senegal\", \"Sierra Leone\", \"Liberia\", \"Sierra Leone\", \"Guinea\", \"Liberia\", \"Liberia\", \"Sierra Leone\", \"Liberia\", \"Sierra Leone\", \"Liberia\", \"Guinea\", \"Guinea\", \"Sierra Leone\", \"Liberia\", \"Guinea\", \"Guinea\", \"Liberia\", \"Sierra Leone\", \"Guinea\", \"Liberia\", \"Sierra Leone\", \"Liberia\", \"Guinea\", \"Sierra Leone\", \"Sierra Leone\", \"Guinea\", \"Liberia\", \"Guinea\", \"Sierra Leone\", \"Sierra Leone\", \"Guinea\", \"Liberia\", \"Sierra Leone\", \"Guinea\", \"Sierra Leone\", \"Liberia\", \"Guinea\", \"Guinea\", \"Liberia\", \"Sierra Leone\", \"Guinea\", \"Liberia\", \"Sierra Leone\", \"Guinea\", \"Liberia\", \"Sierra Leone\", \"Sierra Leone\", \"Guinea\", \"Liberia\", \"Guinea\", \"Liberia\", \"Sierra Leone\", \"Guinea\", \"Liberia\", \"Sierra Leone\", \"Sierra Leone\", \"Mali\", \"Liberia\", \"Guinea\", \"Guinea\", \"Liberia\", \"Mali\", \"Sierra Leone\", \"Guinea\", \"Mali\", \"Sierra Leone\", \"Sierra Leone\", \"Mali\", \"Liberia\", \"Guinea\", \"Guinea\", \"Liberia\", \"Mali\", \"Sierra Leone\", \"Guinea\", \"Liberia\", \"Mali\", \"Sierra Leone\", \"Guinea\", \"Liberia\", \"Guinea\", \"Liberia\", \"Sierra Leone\", \"Guinea\", \"Sierra Leone\", \"Guinea\", \"Liberia\", \"Sierra Leone\", \"Liberia\", \"Guinea\", \"Guinea\", \"Liberia\", \"Guinea\", \"Mali\", \"Guinea\", \"Liberia\", \"Sierra Leone\", \"Sierra Leone\", \"Liberia\", \"Guinea\", \"Guinea\", \"Liberia\", \"Sierra Leone\", \"Guinea\", \"Sierra Leone\", \"Guinea\", \"Sierra Leone\", \"Sierra Leone\", \"Guinea\", \"Guinea\", \"Mali\", \"Sierra Leone\", \"Guinea\", \"Liberia\", \"Sierra Leone\", \"Sierra Leone\", \"Guinea\", \"Mali\", \"Mali\", \"Sierra Leone\", \"Guinea\", \"Liberia\", \"Sierra Leone\", \"Guinea\", \"Sierra Leone\", \"Guinea\", \"Liberia\", \"Sierra Leone\", \"Sierra Leone\", \"Mali\", \"Liberia\", \"Guinea\", \"Guinea\", \"Liberia\", \"Sierra Leone\", \"Guinea\", \"Liberia\", \"Sierra Leone\", \"Sierra Leone\", \"Liberia\", \"Guinea\", \"Sierra Leone\", \"Mali\", \"Guinea\", \"Liberia\", \"Guinea\", \"Liberia\", \"Mali\", \"Sierra Leone\", \"Guinea\", \"Liberia\", \"Mali\", \"Sierra Leone\", \"Guinea\", \"Liberia\", \"Sierra Leone\", \"Sierra Leone\", \"Guinea\", \"Liberia\", \"Liberia\", \"Sierra Leone\", \"Guinea\", \"Sierra Leone\", \"Liberia\", \"Guinea\", \"Guinea\", \"Liberia\", \"Sierra Leone\", \"Liberia\", \"Sierra Leone\", \"Guinea\", \"Liberia\", \"Sierra Leone\", \"Liberia\", \"Guinea\", \"Guinea\", \"Liberia\", \"Sierra Leone\", \"Guinea\", \"Liberia\", \"Sierra Leone\", \"Sierra Leone\", \"Guinea\", \"Liberia\", \"Sierra Leone\", \"Guinea\", \"Liberia\", \"Liberia\", \"Sierra Leone\", \"Guinea\", \"Liberia\", \"Sierra Leone\", \"Sierra Leone\", \"Sierra Leone\", \"Liberia\", \"Sierra Leone\", \"Liberia\", \"Guinea\", \"Liberia\", \"Sierra Leone\", \"Liberia\", \"Sierra Leone\", \"Liberia\", \"Sierra Leone\", \"Guinea\", \"Sierra Leone\", \"Guinea\", \"Liberia\", \"Guinea\", \"Liberia\", \"Sierra Leone\", \"Guinea\", \"Liberia\", \"Sierra Leone\", \"Liberia\", \"Sierra Leone\", \"Guinea\", \"Guinea\", \"Liberia\", \"Sierra Leone\", \"Guinea\", \"Liberia\", \"Sierra Leone\", \"Guinea\", \"Liberia\", \"Sierra Leone\", \"Sierra Leone\", \"Liberia\", \"Guinea\", \"Guinea\", \"Liberia\", \"Sierra Leone\", \"Guinea\", \"Liberia\", \"Sierra Leone\", \"Liberia\", \"Guinea\", \"Sierra Leone\", \"Guinea\", \"Liberia\", \"Sierra Leone\", \"Liberia\", \"Sierra Leone\", \"Guinea\", \"Liberia\", \"Sierra Leone\", \"Guinea\", \"Sierra Leone\", \"Guinea\", \"Liberia\", \"Guinea\", \"Liberia\", \"Sierra Leone\", \"Guinea\", \"Liberia\", \"Sierra Leone\", \"Liberia\", \"Sierra Leone\", \"Guinea\", \"Guinea\", \"Liberia\", \"Sierra Leone\", \"Guinea\", \"Liberia\", \"Sierra Leone\", \"Liberia\", \"Guinea\", \"Sierra Leone\", \"Sierra Leone\", \"Liberia\", \"Guinea\", \"Sierra Leone\", \"Guinea\", \"Sierra Leone\", \"Guinea\", \"Sierra Leone\", \"Sierra Leone\", \"Guinea\", \"Liberia\", \"Sierra Leone\", \"Guinea\", \"Liberia\", \"Liberia\", \"Sierra Leone\", \"Sierra Leone\", \"Guinea\", \"Liberia\", \"Liberia\", \"Sierra Leone\", \"Guinea\", \"Sierra Leone\", \"Guinea\", \"Liberia\", \"Guinea\", \"Liberia\", \"Sierra Leone\", \"Guinea\", \"Liberia\", \"Sierra Leone\", \"Liberia\", \"Sierra Leone\", \"Guinea\", \"Guinea\", \"Liberia\", \"Sierra Leone\", \"Guinea\", \"Liberia\", \"Sierra Leone\", \"Sierra Leone\", \"Guinea\", \"Sierra Leone\", \"Guinea\", \"Guinea\", \"Sierra Leone\", \"Guinea\", \"Liberia\", \"Sierra Leone\", \"Guinea\", \"Liberia\", \"Sierra Leone\", \"Sierra Leone\", \"Guinea\", \"Guinea\", \"Sierra Leone\", \"Guinea\", \"Liberia\", \"Guinea\", \"Liberia\", \"Sierra Leone\", \"Guinea\", \"Sierra Leone\", \"Liberia\", \"Guinea\", \"Guinea\", \"Liberia\", \"Guinea\", \"Sierra Leone\", \"Guinea\", \"Sierra Leone\", \"Guinea\", \"Sierra Leone\", \"Sierra Leone\", \"Guinea\", \"Liberia\", \"Guinea\", \"Liberia\", \"Sierra Leone\", \"Guinea\", \"Liberia\", \"Liberia\", \"Sierra Leone\", \"Sierra Leone\", \"Liberia\", \"Guinea\", \"Sierra Leone\", \"Guinea\", \"Sierra Leone\", \"Guinea\", \"Sierra Leone\", \"Sierra Leone\", \"Guinea\", \"Sierra Leone\", \"Guinea\", \"Sierra Leone\", \"Guinea\", \"Sierra Leone\", \"Guinea\", \"Sierra Leone\", \"Guinea\", \"Sierra Leone\", \"Sierra Leone\", \"Guinea\", \"Sierra Leone\", \"Guinea\", \"Guinea\", \"Sierra Leone\", \"Sierra Leone\", \"Guinea\", \"Sierra Leone\", \"Guinea\", \"Sierra Leone\", \"Sierra Leone\", \"Guinea\", \"Guinea\", \"Guinea\", \"Sierra Leone\", \"Guinea\", \"Sierra Leone\", \"Guinea\", \"Sierra Leone\", \"Guinea\", \"Sierra Leone\", \"Sierra Leone\", \"Guinea\", \"Guinea\", \"Sierra Leone\", \"Guinea\", \"Sierra Leone\", \"Sierra Leone\", \"Sierra Leone\", \"Sierra Leone\", \"Sierra Leone\", \"Sierra Leone\", \"Sierra Leone\", \"Sierra Leone\", \"Sierra Leone\", \"Sierra Leone\", \"Sierra Leone\", \"Sierra Leone\", \"Sierra Leone\", \"Sierra Leone\", \"Sierra Leone\", \"Sierra Leone\", \"Sierra Leone\", \"Sierra Leone\", \"Sierra Leone\", \"Sierra Leone\"], \"marker\": {\"line\": {\"color\": \"black\", \"width\": 0.5}}, \"type\": \"choropleth\", \"z\": [0.0, 0.0, 0.0, 0.0, 0.0, 24.0, 35.0, 54.0, 0.0, 5.0, 5.0, 0.0, 5.0, 71.0, 5.0, 0.0, 101.0, 6.0, 109.0, 6.0, 112.0, 6.0, 115.0, 6.0, 6.0, 121.0, 127.0, 6.0, 127.0, 127.0, 129.0, 6.0, 129.0, 138.0, 146.0, 1.0, 7.0, 7.0, 172.0, 14.0, 18.0, 208.0, 6.0, 207.0, 210.0, 31.0, 33.0, 7.0, 0.0, 11.0, 16.0, 18.0, 254.0, 92.0, 258.0, 24.0, 103.0, 260.0, 147.0, 34.0, 38.0, 286.0, 199.0, 293.0, 52.0, 292.0, 54.0, 211.0, 294.0, 63.0, 269.0, 70.0, 296.0, 298.0, 297.0, 70.0, 339.0, 70.0, 346.0, 301.0, 76.0, 368.0, 301.0, 405.0, 304.0, 77.0, 311.0, 84.0, 419.0, 336.0, 100.0, 0.0, 473.0, 540.0, 0.0, 340.0, 129.0, 351.0, 143.0, 0.0, 576.0, 355.0, 148.0, 0.0, 631.0, 656.0, 0.0, 362.0, 158.0, 0.0, 0.0, 0.0, 0.0, 0.0, 0.0, 0.0, 0.0, 0.0, 0.0, 0.0, 0.0, 0.0, 0.0, 0.0, 0.0, 108.4, 43.833333333333336, 59.06666666666667, 0.0, 14.0, 14.0, 0.0, 62.266666666666666, 14.0, 120.53333333333333, 49.53846153846154, 124.66666666666667, 64.0, 49.53846153846154, 13.0, 127.33333333333333, 65.33333333333333, 52.61538461538461, 128.13333333333333, 15.0, 66.53333333333333, 135.73333333333332, 10.0, 65.5, 3.142857142857143, 66.625, 56.0, 1.0, 70.375, 56.0, 10.666666666666666, 67.88235294117646, 56.0, 57.6, 12.0, 65.66666666666667, 58.0, 84.28571428571429, 152.8, 67.11111111111111, 86.85714285714286, 156.53333333333333, 69.0, 88.57142857142857, 69.66666666666667, 72.55555555555556, 88.85714285714286, 0.6666666666666666, 164.53333333333333, 73.77777777777777, 89.71428571428571, 1.0, 170.13333333333333, 0.6666666666666666, 12.666666666666666, 75.33333333333333, 92.57142857142857, 93.33333333333333, 1.0, 78.11111111111111, 0.5, 4.8, 182.26666666666668, 79.55555555555556, 105.33333333333333, 12.666666666666666, 186.8, 80.66666666666667, 105.33333333333333, 76.73684210526316, 1.0, 190.93333333333334, 78.21052631578948, 12.666666666666666, 1.0, 201.73333333333332, 107.46666666666667, 78.94736842105263, 109.73333333333333, 12.666666666666666, 1.0, 81.15789473684211, 112.93333333333334, 12.666666666666666, 1.0, 209.46666666666667, 211.33333333333334, 1.0, 81.78947368421052, 107.625, 12.666666666666666, 215.73333333333332, 84.10526315789474, 110.375, 12.666666666666666, 218.66666666666666, 1.0, 226.13333333333333, 108.25, 81.8, 13.0, 232.66666666666666, 83.2, 110.5, 12.666666666666666, 111.5, 236.66666666666666, 85.4, 242.13333333333333, 12.666666666666666, 87.6, 113.5, 1.0, 251.33333333333334, 85.9047619047619, 114.375, 12.666666666666666, 1.0, 256.0, 114.625, 259.2, 114.875, 266.6666666666667, 115.125, 90.47619047619048, 278.6666666666667, 287.3333333333333, 1.0, 12.666666666666666, 115.5, 91.52380952380952, 88.18181818181819, 115.625, 12.666666666666666, 1.0, 290.53333333333336, 115.75, 294.93333333333334, 88.81818181818181, 116.0, 116.25, 303.46666666666664, 116.875, 321.46666666666664, 116.875, 99.72727272727273, 97.56521739130434, 370.42857142857144, 118.5, 95.16666666666667, 100.08695652173913, 0.0, 385.42857142857144, 101.21739130434783, 0.0, 398.85714285714283, 0.0, 98.625, 407.0, 413.42857142857144, 91.76923076923077, 0.0, 93.61538461538461, 445.8, 582.375, 94.6923076923077, 119.625, 436.85714285714283, 96.15384615384616, 442.42857142857144, 119.75, 97.3076923076923, 99.0, 120.625, 450.57142857142856, 99.15384615384616, 0.0, 429.73333333333335, 100.3076923076923, 0.0, 439.3333333333333, 446.0, 100.92307692307692, 0.0, 101.92307692307692, 277.25, 451.8666666666667, 102.6923076923077, 278.625, 459.8666666666667, 465.3333333333333, 0.6666666666666666, 279.0, 103.76923076923077, 105.07692307692308, 280.0, 0.25, 474.6666666666667, 105.23076923076923, 0.5, 482.93333333333334, 495.06666666666666, 0.5, 287.875, 106.46153846153847, 107.3076923076923, 288.0, 0.5, 501.3333333333333, 108.38461538461539, 299.375, 0.2857142857142857, 512.1333333333333, 108.84615384615384, 304.625, 109.53846153846153, 306.375, 524.8, 110.38461538461539, 532.8, 112.07692307692308, 307.0, 540.9333333333333, 309.0, 113.76923076923077, 114.92307692307692, 314.25, 116.61538461538461, 0.2857142857142857, 119.3076923076923, 317.0, 564.2666666666667, 570.2666666666667, 317.75, 120.07692307692308, 1570.0, 319.125, 591.0666666666667, 1612.0, 0.0, 125.3076923076923, 615.6, 0.0, 126.6923076923077, 127.61538461538461, 0.36363636363636365, 632.5333333333333, 128.53846153846155, 328.5, 643.7333333333333, 655.0666666666667, 129.0, 0.7272727272727273, 0.9090909090909091, 662.2666666666667, 129.84615384615384, 333.625, 674.1333333333333, 133.0, 681.2, 134.23076923076923, 334.125, 686.9333333333333, 694.6666666666666, 0.9090909090909091, 339.625, 136.07692307692307, 137.76923076923077, 340.75, 707.2, 139.76923076923077, 340.75, 714.0, 720.2666666666667, 340.875, 140.76923076923077, 725.4666666666667, 1.2727272727272727, 142.30769230769232, 342.25, 143.92307692307693, 344.125, 1.2727272727272727, 736.5333333333333, 145.53846153846155, 344.75, 1.2727272727272727, 746.0, 146.69230769230768, 344.75, 757.7333333333333, 768.9333333333333, 147.23076923076923, 344.75, 350.125, 777.4666666666667, 147.76923076923077, 787.4666666666667, 350.625, 148.07692307692307, 148.3846153846154, 352.875, 797.0666666666667, 352.875, 805.2, 149.92307692307693, 353.0, 817.6, 353.75, 150.46153846153845, 153.76923076923077, 353.75, 831.7333333333333, 155.30769230769232, 358.5, 838.9333333333333, 842.2666666666667, 156.53846153846155, 358.625, 850.0, 157.76923076923077, 365.875, 368.25, 856.0, 160.07692307692307, 369.0, 860.9333333333333, 866.2666666666667, 874.2666666666667, 369.0, 878.9333333333333, 369.125, 162.69230769230768, 369.5, 885.0666666666667, 377.625, 893.6, 377.75, 900.9333333333333, 163.92307692307693, 907.7333333333333, 160.2962962962963, 382.25, 161.40740740740742, 383.625, 914.1333333333333, 96.22222222222223, 385.625, 920.4, 385.625, 924.2666666666667, 165.92592592592592, 167.33333333333334, 385.625, 930.0, 163.14285714285714, 386.25, 935.6, 164.92857142857142, 387.5, 943.3333333333334, 950.6666666666666, 388.25, 165.92857142857142, 167.28571428571428, 388.5, 954.6666666666666, 162.68965517241378, 388.875, 962.6666666666666, 388.5, 163.24137931034483, 970.0, 164.41379310344828, 388.625, 976.8, 388.75, 980.5333333333333, 165.31034482758622, 389.0, 989.2, 166.89655172413794, 994.4, 167.51724137931035, 389.5, 167.93103448275863, 389.5, 996.8, 168.9655172413793, 389.75, 1000.6666666666666, 389.75, 1005.4666666666667, 169.6551724137931, 170.0, 389.75, 1009.3333333333334, 170.41379310344828, 389.875, 1013.6, 390.125, 170.82758620689654, 1018.0, 1021.2, 390.375, 178.03571428571428, 1024.9333333333334, 178.35714285714286, 1027.8666666666666, 178.85714285714286, 1031.8666666666666, 1035.4666666666667, 179.14285714285714, 390.875, 1038.1333333333334, 186.22222222222223, 390.875, 390.875, 1040.2666666666667, 1043.3333333333333, 187.03703703703704, 391.0, 391.25, 1045.4666666666667, 187.03703703703704, 1046.2666666666667, 187.77777777777777, 391.375, 187.85185185185185, 391.5, 1049.4666666666667, 188.07407407407408, 391.875, 1051.0666666666666, 391.875, 1053.7333333333333, 188.07407407407408, 188.2962962962963, 391.875, 1054.5333333333333, 188.5185185185185, 392.0, 1056.1333333333334, 1057.3333333333333, 188.74074074074073, 1059.2, 183.20689655172413, 182.28571428571428, 1060.2666666666667, 182.78571428571428, 392.25, 1061.7333333333333, 183.5, 392.25, 1062.4, 1063.6, 177.31034482758622, 177.58620689655172, 1065.2, 177.86206896551724, 392.25, 178.06896551724137, 392.375, 1069.2, 172.26666666666668, 651.6210666666666, 392.875, 175.79661016949152, 173.86666666666667, 393.0, 174.73333333333332, 475.66613333333333, 175.2, 475.7666, 164.4375, 477.0340666666667, 477.4347333333333, 165.0, 393.25, 166.0, 393.25, 478.2352, 166.9375, 393.25, 393.375, 1082.9333333333334, 478.50339999999994, 393.375, 168.3125, 1087.3333333333333, 168.625, 1089.2, 169.1875, 1090.5333333333333, 1092.5333333333333, 169.875, 1093.2, 170.0, 1094.9333333333334, 176.06451612903226, 1095.4666666666667, 176.25806451612902, 1096.4, 176.38709677419354, 1096.6666666666667, 1097.3333333333333, 176.83870967741936, 1099.4666666666667, 177.09677419354838, 177.93548387096774, 1101.4666666666667, 1103.3333333333333, 179.41935483870967, 963.5333333333333, 180.0, 1105.8666666666666, 715.0666666666667, 180.25806451612902, 180.38709677419354, 181.16129032258064, 854.5333333333333, 181.48387096774192, 855.0666666666667, 182.38709677419354, 1114.1333333333334, 182.7741935483871, 1114.6666666666667, 1115.8666666666666, 183.2258064516129, 183.8709677419355, 720.6666666666666, 184.25806451612902, 1118.8, 995.4666666666667, 1122.8, 954.1333333333333, 1126.5333333333333, 1127.3333333333333, 1127.7333333333333, 1128.2666666666667, 958.1333333333333, 1131.6, 1131.7333333333333, 1132.5333333333333, 1133.4666666666667, 1064.2666666666667, 1134.1333333333334, 1134.9333333333334, 1135.3333333333333, 1135.7333333333333, 1136.1333333333334, 1136.6666666666667]}],\n",
       "                        {\"geo\": {\"showcoastlines\": false, \"showframe\": false}, \"template\": {\"data\": {\"bar\": [{\"error_x\": {\"color\": \"#2a3f5f\"}, \"error_y\": {\"color\": \"#2a3f5f\"}, \"marker\": {\"line\": {\"color\": \"#E5ECF6\", \"width\": 0.5}}, \"type\": \"bar\"}], \"barpolar\": [{\"marker\": {\"line\": {\"color\": \"#E5ECF6\", \"width\": 0.5}}, \"type\": \"barpolar\"}], \"carpet\": [{\"aaxis\": {\"endlinecolor\": \"#2a3f5f\", \"gridcolor\": \"white\", \"linecolor\": \"white\", \"minorgridcolor\": \"white\", \"startlinecolor\": \"#2a3f5f\"}, \"baxis\": {\"endlinecolor\": \"#2a3f5f\", \"gridcolor\": \"white\", \"linecolor\": \"white\", \"minorgridcolor\": \"white\", \"startlinecolor\": \"#2a3f5f\"}, \"type\": \"carpet\"}], \"choropleth\": [{\"colorbar\": {\"outlinewidth\": 0, \"ticks\": \"\"}, \"type\": \"choropleth\"}], \"contour\": [{\"colorbar\": {\"outlinewidth\": 0, \"ticks\": \"\"}, \"colorscale\": [[0.0, \"#0d0887\"], [0.1111111111111111, \"#46039f\"], [0.2222222222222222, \"#7201a8\"], [0.3333333333333333, \"#9c179e\"], [0.4444444444444444, \"#bd3786\"], [0.5555555555555556, \"#d8576b\"], [0.6666666666666666, \"#ed7953\"], [0.7777777777777778, \"#fb9f3a\"], [0.8888888888888888, \"#fdca26\"], [1.0, \"#f0f921\"]], \"type\": \"contour\"}], \"contourcarpet\": [{\"colorbar\": {\"outlinewidth\": 0, \"ticks\": \"\"}, \"type\": \"contourcarpet\"}], \"heatmap\": [{\"colorbar\": {\"outlinewidth\": 0, \"ticks\": \"\"}, \"colorscale\": [[0.0, \"#0d0887\"], [0.1111111111111111, \"#46039f\"], [0.2222222222222222, \"#7201a8\"], [0.3333333333333333, \"#9c179e\"], [0.4444444444444444, \"#bd3786\"], [0.5555555555555556, \"#d8576b\"], [0.6666666666666666, \"#ed7953\"], [0.7777777777777778, \"#fb9f3a\"], [0.8888888888888888, \"#fdca26\"], [1.0, \"#f0f921\"]], \"type\": \"heatmap\"}], \"heatmapgl\": [{\"colorbar\": {\"outlinewidth\": 0, \"ticks\": \"\"}, \"colorscale\": [[0.0, \"#0d0887\"], [0.1111111111111111, \"#46039f\"], [0.2222222222222222, \"#7201a8\"], [0.3333333333333333, \"#9c179e\"], [0.4444444444444444, \"#bd3786\"], [0.5555555555555556, \"#d8576b\"], [0.6666666666666666, \"#ed7953\"], [0.7777777777777778, \"#fb9f3a\"], [0.8888888888888888, \"#fdca26\"], [1.0, \"#f0f921\"]], \"type\": \"heatmapgl\"}], \"histogram\": [{\"marker\": {\"colorbar\": {\"outlinewidth\": 0, \"ticks\": \"\"}}, \"type\": \"histogram\"}], \"histogram2d\": [{\"colorbar\": {\"outlinewidth\": 0, \"ticks\": \"\"}, \"colorscale\": [[0.0, \"#0d0887\"], [0.1111111111111111, \"#46039f\"], [0.2222222222222222, \"#7201a8\"], [0.3333333333333333, \"#9c179e\"], [0.4444444444444444, \"#bd3786\"], [0.5555555555555556, \"#d8576b\"], [0.6666666666666666, \"#ed7953\"], [0.7777777777777778, \"#fb9f3a\"], [0.8888888888888888, \"#fdca26\"], [1.0, \"#f0f921\"]], \"type\": \"histogram2d\"}], \"histogram2dcontour\": [{\"colorbar\": {\"outlinewidth\": 0, \"ticks\": \"\"}, \"colorscale\": [[0.0, \"#0d0887\"], [0.1111111111111111, \"#46039f\"], [0.2222222222222222, \"#7201a8\"], [0.3333333333333333, \"#9c179e\"], [0.4444444444444444, \"#bd3786\"], [0.5555555555555556, \"#d8576b\"], [0.6666666666666666, \"#ed7953\"], [0.7777777777777778, \"#fb9f3a\"], [0.8888888888888888, \"#fdca26\"], [1.0, \"#f0f921\"]], \"type\": \"histogram2dcontour\"}], \"mesh3d\": [{\"colorbar\": {\"outlinewidth\": 0, \"ticks\": \"\"}, \"type\": \"mesh3d\"}], \"parcoords\": [{\"line\": {\"colorbar\": {\"outlinewidth\": 0, \"ticks\": \"\"}}, \"type\": \"parcoords\"}], \"pie\": [{\"automargin\": true, \"type\": \"pie\"}], \"scatter\": [{\"marker\": {\"colorbar\": {\"outlinewidth\": 0, \"ticks\": \"\"}}, \"type\": \"scatter\"}], \"scatter3d\": [{\"line\": {\"colorbar\": {\"outlinewidth\": 0, \"ticks\": \"\"}}, \"marker\": {\"colorbar\": {\"outlinewidth\": 0, \"ticks\": \"\"}}, \"type\": \"scatter3d\"}], \"scattercarpet\": [{\"marker\": {\"colorbar\": {\"outlinewidth\": 0, \"ticks\": \"\"}}, \"type\": \"scattercarpet\"}], \"scattergeo\": [{\"marker\": {\"colorbar\": {\"outlinewidth\": 0, \"ticks\": \"\"}}, \"type\": \"scattergeo\"}], \"scattergl\": [{\"marker\": {\"colorbar\": {\"outlinewidth\": 0, \"ticks\": \"\"}}, \"type\": \"scattergl\"}], \"scattermapbox\": [{\"marker\": {\"colorbar\": {\"outlinewidth\": 0, \"ticks\": \"\"}}, \"type\": \"scattermapbox\"}], \"scatterpolar\": [{\"marker\": {\"colorbar\": {\"outlinewidth\": 0, \"ticks\": \"\"}}, \"type\": \"scatterpolar\"}], \"scatterpolargl\": [{\"marker\": {\"colorbar\": {\"outlinewidth\": 0, \"ticks\": \"\"}}, \"type\": \"scatterpolargl\"}], \"scatterternary\": [{\"marker\": {\"colorbar\": {\"outlinewidth\": 0, \"ticks\": \"\"}}, \"type\": \"scatterternary\"}], \"surface\": [{\"colorbar\": {\"outlinewidth\": 0, \"ticks\": \"\"}, \"colorscale\": [[0.0, \"#0d0887\"], [0.1111111111111111, \"#46039f\"], [0.2222222222222222, \"#7201a8\"], [0.3333333333333333, \"#9c179e\"], [0.4444444444444444, \"#bd3786\"], [0.5555555555555556, \"#d8576b\"], [0.6666666666666666, \"#ed7953\"], [0.7777777777777778, \"#fb9f3a\"], [0.8888888888888888, \"#fdca26\"], [1.0, \"#f0f921\"]], \"type\": \"surface\"}], \"table\": [{\"cells\": {\"fill\": {\"color\": \"#EBF0F8\"}, \"line\": {\"color\": \"white\"}}, \"header\": {\"fill\": {\"color\": \"#C8D4E3\"}, \"line\": {\"color\": \"white\"}}, \"type\": \"table\"}]}, \"layout\": {\"annotationdefaults\": {\"arrowcolor\": \"#2a3f5f\", \"arrowhead\": 0, \"arrowwidth\": 1}, \"coloraxis\": {\"colorbar\": {\"outlinewidth\": 0, \"ticks\": \"\"}}, \"colorscale\": {\"diverging\": [[0, \"#8e0152\"], [0.1, \"#c51b7d\"], [0.2, \"#de77ae\"], [0.3, \"#f1b6da\"], [0.4, \"#fde0ef\"], [0.5, \"#f7f7f7\"], [0.6, \"#e6f5d0\"], [0.7, \"#b8e186\"], [0.8, \"#7fbc41\"], [0.9, \"#4d9221\"], [1, \"#276419\"]], \"sequential\": [[0.0, \"#0d0887\"], [0.1111111111111111, \"#46039f\"], [0.2222222222222222, \"#7201a8\"], [0.3333333333333333, \"#9c179e\"], [0.4444444444444444, \"#bd3786\"], [0.5555555555555556, \"#d8576b\"], [0.6666666666666666, \"#ed7953\"], [0.7777777777777778, \"#fb9f3a\"], [0.8888888888888888, \"#fdca26\"], [1.0, \"#f0f921\"]], \"sequentialminus\": [[0.0, \"#0d0887\"], [0.1111111111111111, \"#46039f\"], [0.2222222222222222, \"#7201a8\"], [0.3333333333333333, \"#9c179e\"], [0.4444444444444444, \"#bd3786\"], [0.5555555555555556, \"#d8576b\"], [0.6666666666666666, \"#ed7953\"], [0.7777777777777778, \"#fb9f3a\"], [0.8888888888888888, \"#fdca26\"], [1.0, \"#f0f921\"]]}, \"colorway\": [\"#636efa\", \"#EF553B\", \"#00cc96\", \"#ab63fa\", \"#FFA15A\", \"#19d3f3\", \"#FF6692\", \"#B6E880\", \"#FF97FF\", \"#FECB52\"], \"font\": {\"color\": \"#2a3f5f\"}, \"geo\": {\"bgcolor\": \"white\", \"lakecolor\": \"white\", \"landcolor\": \"#E5ECF6\", \"showlakes\": true, \"showland\": true, \"subunitcolor\": \"white\"}, \"hoverlabel\": {\"align\": \"left\"}, \"hovermode\": \"closest\", \"mapbox\": {\"style\": \"light\"}, \"paper_bgcolor\": \"white\", \"plot_bgcolor\": \"#E5ECF6\", \"polar\": {\"angularaxis\": {\"gridcolor\": \"white\", \"linecolor\": \"white\", \"ticks\": \"\"}, \"bgcolor\": \"#E5ECF6\", \"radialaxis\": {\"gridcolor\": \"white\", \"linecolor\": \"white\", \"ticks\": \"\"}}, \"scene\": {\"xaxis\": {\"backgroundcolor\": \"#E5ECF6\", \"gridcolor\": \"white\", \"gridwidth\": 2, \"linecolor\": \"white\", \"showbackground\": true, \"ticks\": \"\", \"zerolinecolor\": \"white\"}, \"yaxis\": {\"backgroundcolor\": \"#E5ECF6\", \"gridcolor\": \"white\", \"gridwidth\": 2, \"linecolor\": \"white\", \"showbackground\": true, \"ticks\": \"\", \"zerolinecolor\": \"white\"}, \"zaxis\": {\"backgroundcolor\": \"#E5ECF6\", \"gridcolor\": \"white\", \"gridwidth\": 2, \"linecolor\": \"white\", \"showbackground\": true, \"ticks\": \"\", \"zerolinecolor\": \"white\"}}, \"shapedefaults\": {\"line\": {\"color\": \"#2a3f5f\"}}, \"ternary\": {\"aaxis\": {\"gridcolor\": \"white\", \"linecolor\": \"white\", \"ticks\": \"\"}, \"baxis\": {\"gridcolor\": \"white\", \"linecolor\": \"white\", \"ticks\": \"\"}, \"bgcolor\": \"#E5ECF6\", \"caxis\": {\"gridcolor\": \"white\", \"linecolor\": \"white\", \"ticks\": \"\"}}, \"title\": {\"x\": 0.05}, \"xaxis\": {\"automargin\": true, \"gridcolor\": \"white\", \"linecolor\": \"white\", \"ticks\": \"\", \"title\": {\"standoff\": 15}, \"zerolinecolor\": \"white\", \"zerolinewidth\": 2}, \"yaxis\": {\"automargin\": true, \"gridcolor\": \"white\", \"linecolor\": \"white\", \"ticks\": \"\", \"title\": {\"standoff\": 15}, \"zerolinecolor\": \"white\", \"zerolinewidth\": 2}}}, \"title\": {\"text\": \"Confirmed Cases\", \"x\": 0.5}},\n",
       "                        {\"responsive\": true}\n",
       "                    ).then(function(){\n",
       "                            \n",
       "var gd = document.getElementById('118873e2-51c6-428c-b209-9167ab463c9c');\n",
       "var x = new MutationObserver(function (mutations, observer) {{\n",
       "        var display = window.getComputedStyle(gd).display;\n",
       "        if (!display || display === 'none') {{\n",
       "            console.log([gd, 'removed!']);\n",
       "            Plotly.purge(gd);\n",
       "            observer.disconnect();\n",
       "        }}\n",
       "}});\n",
       "\n",
       "// Listen for the removal of the full notebook cells\n",
       "var notebookContainer = gd.closest('#notebook-container');\n",
       "if (notebookContainer) {{\n",
       "    x.observe(notebookContainer, {childList: true});\n",
       "}}\n",
       "\n",
       "// Listen for the clearing of the current output cell\n",
       "var outputEl = gd.closest('.output');\n",
       "if (outputEl) {{\n",
       "    x.observe(outputEl, {childList: true});\n",
       "}}\n",
       "\n",
       "                        })\n",
       "                };\n",
       "                });\n",
       "            </script>\n",
       "        </div>"
      ]
     },
     "metadata": {},
     "output_type": "display_data"
    }
   ],
   "source": [
    "# Creating the Coropleth\n",
    "\n",
    "fig = go.Figure(data=go.Choropleth(\n",
    "    locations = df_1['Country'],\n",
    "    locationmode = 'country names',\n",
    "    z = df_1['Confirmed cases'],\n",
    "    colorscale = 'Reds',\n",
    "    marker_line_color = 'black',\n",
    "    marker_line_width = 0.5,\n",
    "))\n",
    "fig.update_layout(\n",
    "    title_text = 'Confirmed Cases',\n",
    "    title_x = 0.5,\n",
    "    geo=dict(\n",
    "        showframe = False,\n",
    "        showcoastlines = False,\n",
    "    )\n",
    ")"
   ]
  },
  {
   "cell_type": "code",
   "execution_count": 207,
   "metadata": {},
   "outputs": [
    {
     "data": {
      "text/plain": [
       "Index(['Date', 'Country', 'Cases', 'Confirmed cases', 'Deaths', 'New Cases',\n",
       "       'Probable cases', 'Suspected Cases'],\n",
       "      dtype='object', name='Category')"
      ]
     },
     "execution_count": 207,
     "metadata": {},
     "output_type": "execute_result"
    }
   ],
   "source": [
    "df_1.columns"
   ]
  },
  {
   "cell_type": "code",
   "execution_count": 218,
   "metadata": {},
   "outputs": [
    {
     "name": "stderr",
     "output_type": "stream",
     "text": [
      "C:\\Users\\Zeeshan Haleem\\Anaconda3\\lib\\site-packages\\ipykernel_launcher.py:1: FutureWarning:\n",
      "\n",
      "Indexing with multiple keys (implicitly converted to a tuple of keys) will be deprecated, use a list instead.\n",
      "\n"
     ]
    }
   ],
   "source": [
    "df_1_total=df_1.groupby('Country')['Cases','Deaths'].sum()\n",
    "df_1_total=df_1_total.reset_index()"
   ]
  },
  {
   "cell_type": "code",
   "execution_count": 219,
   "metadata": {},
   "outputs": [
    {
     "data": {
      "text/html": [
       "<div>\n",
       "<style scoped>\n",
       "    .dataframe tbody tr th:only-of-type {\n",
       "        vertical-align: middle;\n",
       "    }\n",
       "\n",
       "    .dataframe tbody tr th {\n",
       "        vertical-align: top;\n",
       "    }\n",
       "\n",
       "    .dataframe thead th {\n",
       "        text-align: right;\n",
       "    }\n",
       "</style>\n",
       "<table border=\"1\" class=\"dataframe\">\n",
       "  <thead>\n",
       "    <tr style=\"text-align: right;\">\n",
       "      <th>Category</th>\n",
       "      <th>Country</th>\n",
       "      <th>Cases</th>\n",
       "      <th>Deaths</th>\n",
       "    </tr>\n",
       "  </thead>\n",
       "  <tbody>\n",
       "    <tr>\n",
       "      <th>0</th>\n",
       "      <td>Guinea</td>\n",
       "      <td>42110.232926</td>\n",
       "      <td>27219.290679</td>\n",
       "    </tr>\n",
       "    <tr>\n",
       "      <th>1</th>\n",
       "      <td>Liberia</td>\n",
       "      <td>109399.868082</td>\n",
       "      <td>49210.982534</td>\n",
       "    </tr>\n",
       "    <tr>\n",
       "      <th>2</th>\n",
       "      <td>Mali</td>\n",
       "      <td>11.419913</td>\n",
       "      <td>8.866883</td>\n",
       "    </tr>\n",
       "    <tr>\n",
       "      <th>3</th>\n",
       "      <td>Nigeria</td>\n",
       "      <td>390.000000</td>\n",
       "      <td>133.333333</td>\n",
       "    </tr>\n",
       "    <tr>\n",
       "      <th>4</th>\n",
       "      <td>Senegal</td>\n",
       "      <td>16.666667</td>\n",
       "      <td>0.000000</td>\n",
       "    </tr>\n",
       "    <tr>\n",
       "      <th>5</th>\n",
       "      <td>Sierra Leone</td>\n",
       "      <td>189649.333333</td>\n",
       "      <td>62803.938095</td>\n",
       "    </tr>\n",
       "  </tbody>\n",
       "</table>\n",
       "</div>"
      ],
      "text/plain": [
       "Category       Country          Cases        Deaths\n",
       "0               Guinea   42110.232926  27219.290679\n",
       "1              Liberia  109399.868082  49210.982534\n",
       "2                 Mali      11.419913      8.866883\n",
       "3              Nigeria     390.000000    133.333333\n",
       "4              Senegal      16.666667      0.000000\n",
       "5         Sierra Leone  189649.333333  62803.938095"
      ]
     },
     "execution_count": 219,
     "metadata": {},
     "output_type": "execute_result"
    }
   ],
   "source": [
    "df_1_total"
   ]
  },
  {
   "cell_type": "code",
   "execution_count": 220,
   "metadata": {},
   "outputs": [
    {
     "data": {
      "application/vnd.plotly.v1+json": {
       "config": {
        "plotlyServerURL": "https://plot.ly"
       },
       "data": [
        {
         "coloraxis": "coloraxis",
         "geo": "geo",
         "hoverlabel": {
          "namelength": 0
         },
         "hovertemplate": "<b>%{hovertext}</b><br><br>Country=%{location}<br>Cases=%{z}",
         "hovertext": [
          "Guinea",
          "Liberia",
          "Mali",
          "Nigeria",
          "Senegal",
          "Sierra Leone"
         ],
         "locationmode": "country names",
         "locations": [
          "Guinea",
          "Liberia",
          "Mali",
          "Nigeria",
          "Senegal",
          "Sierra Leone"
         ],
         "name": "",
         "type": "choropleth",
         "z": [
          42110.232926396995,
          109399.86808191807,
          11.41991341991342,
          389.99999999999983,
          16.666666666666664,
          189649.33333333343
         ]
        }
       ],
       "layout": {
        "coloraxis": {
         "colorbar": {
          "title": {
           "text": "Cases"
          }
         },
         "colorscale": [
          [
           0,
           "rgb(230, 240, 240)"
          ],
          [
           0.09090909090909091,
           "rgb(191, 221, 229)"
          ],
          [
           0.18181818181818182,
           "rgb(156, 201, 226)"
          ],
          [
           0.2727272727272727,
           "rgb(129, 180, 227)"
          ],
          [
           0.36363636363636365,
           "rgb(115, 154, 228)"
          ],
          [
           0.45454545454545453,
           "rgb(117, 127, 221)"
          ],
          [
           0.5454545454545454,
           "rgb(120, 100, 202)"
          ],
          [
           0.6363636363636364,
           "rgb(119, 74, 175)"
          ],
          [
           0.7272727272727273,
           "rgb(113, 50, 141)"
          ],
          [
           0.8181818181818182,
           "rgb(100, 31, 104)"
          ],
          [
           0.9090909090909091,
           "rgb(80, 20, 66)"
          ],
          [
           1,
           "rgb(54, 14, 36)"
          ]
         ]
        },
        "geo": {
         "center": {},
         "domain": {
          "x": [
           0,
           1
          ],
          "y": [
           0,
           1
          ]
         },
         "scope": "africa"
        },
        "legend": {
         "tracegroupgap": 0
        },
        "template": {
         "data": {
          "bar": [
           {
            "error_x": {
             "color": "#2a3f5f"
            },
            "error_y": {
             "color": "#2a3f5f"
            },
            "marker": {
             "line": {
              "color": "#E5ECF6",
              "width": 0.5
             }
            },
            "type": "bar"
           }
          ],
          "barpolar": [
           {
            "marker": {
             "line": {
              "color": "#E5ECF6",
              "width": 0.5
             }
            },
            "type": "barpolar"
           }
          ],
          "carpet": [
           {
            "aaxis": {
             "endlinecolor": "#2a3f5f",
             "gridcolor": "white",
             "linecolor": "white",
             "minorgridcolor": "white",
             "startlinecolor": "#2a3f5f"
            },
            "baxis": {
             "endlinecolor": "#2a3f5f",
             "gridcolor": "white",
             "linecolor": "white",
             "minorgridcolor": "white",
             "startlinecolor": "#2a3f5f"
            },
            "type": "carpet"
           }
          ],
          "choropleth": [
           {
            "colorbar": {
             "outlinewidth": 0,
             "ticks": ""
            },
            "type": "choropleth"
           }
          ],
          "contour": [
           {
            "colorbar": {
             "outlinewidth": 0,
             "ticks": ""
            },
            "colorscale": [
             [
              0,
              "#0d0887"
             ],
             [
              0.1111111111111111,
              "#46039f"
             ],
             [
              0.2222222222222222,
              "#7201a8"
             ],
             [
              0.3333333333333333,
              "#9c179e"
             ],
             [
              0.4444444444444444,
              "#bd3786"
             ],
             [
              0.5555555555555556,
              "#d8576b"
             ],
             [
              0.6666666666666666,
              "#ed7953"
             ],
             [
              0.7777777777777778,
              "#fb9f3a"
             ],
             [
              0.8888888888888888,
              "#fdca26"
             ],
             [
              1,
              "#f0f921"
             ]
            ],
            "type": "contour"
           }
          ],
          "contourcarpet": [
           {
            "colorbar": {
             "outlinewidth": 0,
             "ticks": ""
            },
            "type": "contourcarpet"
           }
          ],
          "heatmap": [
           {
            "colorbar": {
             "outlinewidth": 0,
             "ticks": ""
            },
            "colorscale": [
             [
              0,
              "#0d0887"
             ],
             [
              0.1111111111111111,
              "#46039f"
             ],
             [
              0.2222222222222222,
              "#7201a8"
             ],
             [
              0.3333333333333333,
              "#9c179e"
             ],
             [
              0.4444444444444444,
              "#bd3786"
             ],
             [
              0.5555555555555556,
              "#d8576b"
             ],
             [
              0.6666666666666666,
              "#ed7953"
             ],
             [
              0.7777777777777778,
              "#fb9f3a"
             ],
             [
              0.8888888888888888,
              "#fdca26"
             ],
             [
              1,
              "#f0f921"
             ]
            ],
            "type": "heatmap"
           }
          ],
          "heatmapgl": [
           {
            "colorbar": {
             "outlinewidth": 0,
             "ticks": ""
            },
            "colorscale": [
             [
              0,
              "#0d0887"
             ],
             [
              0.1111111111111111,
              "#46039f"
             ],
             [
              0.2222222222222222,
              "#7201a8"
             ],
             [
              0.3333333333333333,
              "#9c179e"
             ],
             [
              0.4444444444444444,
              "#bd3786"
             ],
             [
              0.5555555555555556,
              "#d8576b"
             ],
             [
              0.6666666666666666,
              "#ed7953"
             ],
             [
              0.7777777777777778,
              "#fb9f3a"
             ],
             [
              0.8888888888888888,
              "#fdca26"
             ],
             [
              1,
              "#f0f921"
             ]
            ],
            "type": "heatmapgl"
           }
          ],
          "histogram": [
           {
            "marker": {
             "colorbar": {
              "outlinewidth": 0,
              "ticks": ""
             }
            },
            "type": "histogram"
           }
          ],
          "histogram2d": [
           {
            "colorbar": {
             "outlinewidth": 0,
             "ticks": ""
            },
            "colorscale": [
             [
              0,
              "#0d0887"
             ],
             [
              0.1111111111111111,
              "#46039f"
             ],
             [
              0.2222222222222222,
              "#7201a8"
             ],
             [
              0.3333333333333333,
              "#9c179e"
             ],
             [
              0.4444444444444444,
              "#bd3786"
             ],
             [
              0.5555555555555556,
              "#d8576b"
             ],
             [
              0.6666666666666666,
              "#ed7953"
             ],
             [
              0.7777777777777778,
              "#fb9f3a"
             ],
             [
              0.8888888888888888,
              "#fdca26"
             ],
             [
              1,
              "#f0f921"
             ]
            ],
            "type": "histogram2d"
           }
          ],
          "histogram2dcontour": [
           {
            "colorbar": {
             "outlinewidth": 0,
             "ticks": ""
            },
            "colorscale": [
             [
              0,
              "#0d0887"
             ],
             [
              0.1111111111111111,
              "#46039f"
             ],
             [
              0.2222222222222222,
              "#7201a8"
             ],
             [
              0.3333333333333333,
              "#9c179e"
             ],
             [
              0.4444444444444444,
              "#bd3786"
             ],
             [
              0.5555555555555556,
              "#d8576b"
             ],
             [
              0.6666666666666666,
              "#ed7953"
             ],
             [
              0.7777777777777778,
              "#fb9f3a"
             ],
             [
              0.8888888888888888,
              "#fdca26"
             ],
             [
              1,
              "#f0f921"
             ]
            ],
            "type": "histogram2dcontour"
           }
          ],
          "mesh3d": [
           {
            "colorbar": {
             "outlinewidth": 0,
             "ticks": ""
            },
            "type": "mesh3d"
           }
          ],
          "parcoords": [
           {
            "line": {
             "colorbar": {
              "outlinewidth": 0,
              "ticks": ""
             }
            },
            "type": "parcoords"
           }
          ],
          "pie": [
           {
            "automargin": true,
            "type": "pie"
           }
          ],
          "scatter": [
           {
            "marker": {
             "colorbar": {
              "outlinewidth": 0,
              "ticks": ""
             }
            },
            "type": "scatter"
           }
          ],
          "scatter3d": [
           {
            "line": {
             "colorbar": {
              "outlinewidth": 0,
              "ticks": ""
             }
            },
            "marker": {
             "colorbar": {
              "outlinewidth": 0,
              "ticks": ""
             }
            },
            "type": "scatter3d"
           }
          ],
          "scattercarpet": [
           {
            "marker": {
             "colorbar": {
              "outlinewidth": 0,
              "ticks": ""
             }
            },
            "type": "scattercarpet"
           }
          ],
          "scattergeo": [
           {
            "marker": {
             "colorbar": {
              "outlinewidth": 0,
              "ticks": ""
             }
            },
            "type": "scattergeo"
           }
          ],
          "scattergl": [
           {
            "marker": {
             "colorbar": {
              "outlinewidth": 0,
              "ticks": ""
             }
            },
            "type": "scattergl"
           }
          ],
          "scattermapbox": [
           {
            "marker": {
             "colorbar": {
              "outlinewidth": 0,
              "ticks": ""
             }
            },
            "type": "scattermapbox"
           }
          ],
          "scatterpolar": [
           {
            "marker": {
             "colorbar": {
              "outlinewidth": 0,
              "ticks": ""
             }
            },
            "type": "scatterpolar"
           }
          ],
          "scatterpolargl": [
           {
            "marker": {
             "colorbar": {
              "outlinewidth": 0,
              "ticks": ""
             }
            },
            "type": "scatterpolargl"
           }
          ],
          "scatterternary": [
           {
            "marker": {
             "colorbar": {
              "outlinewidth": 0,
              "ticks": ""
             }
            },
            "type": "scatterternary"
           }
          ],
          "surface": [
           {
            "colorbar": {
             "outlinewidth": 0,
             "ticks": ""
            },
            "colorscale": [
             [
              0,
              "#0d0887"
             ],
             [
              0.1111111111111111,
              "#46039f"
             ],
             [
              0.2222222222222222,
              "#7201a8"
             ],
             [
              0.3333333333333333,
              "#9c179e"
             ],
             [
              0.4444444444444444,
              "#bd3786"
             ],
             [
              0.5555555555555556,
              "#d8576b"
             ],
             [
              0.6666666666666666,
              "#ed7953"
             ],
             [
              0.7777777777777778,
              "#fb9f3a"
             ],
             [
              0.8888888888888888,
              "#fdca26"
             ],
             [
              1,
              "#f0f921"
             ]
            ],
            "type": "surface"
           }
          ],
          "table": [
           {
            "cells": {
             "fill": {
              "color": "#EBF0F8"
             },
             "line": {
              "color": "white"
             }
            },
            "header": {
             "fill": {
              "color": "#C8D4E3"
             },
             "line": {
              "color": "white"
             }
            },
            "type": "table"
           }
          ]
         },
         "layout": {
          "annotationdefaults": {
           "arrowcolor": "#2a3f5f",
           "arrowhead": 0,
           "arrowwidth": 1
          },
          "coloraxis": {
           "colorbar": {
            "outlinewidth": 0,
            "ticks": ""
           }
          },
          "colorscale": {
           "diverging": [
            [
             0,
             "#8e0152"
            ],
            [
             0.1,
             "#c51b7d"
            ],
            [
             0.2,
             "#de77ae"
            ],
            [
             0.3,
             "#f1b6da"
            ],
            [
             0.4,
             "#fde0ef"
            ],
            [
             0.5,
             "#f7f7f7"
            ],
            [
             0.6,
             "#e6f5d0"
            ],
            [
             0.7,
             "#b8e186"
            ],
            [
             0.8,
             "#7fbc41"
            ],
            [
             0.9,
             "#4d9221"
            ],
            [
             1,
             "#276419"
            ]
           ],
           "sequential": [
            [
             0,
             "#0d0887"
            ],
            [
             0.1111111111111111,
             "#46039f"
            ],
            [
             0.2222222222222222,
             "#7201a8"
            ],
            [
             0.3333333333333333,
             "#9c179e"
            ],
            [
             0.4444444444444444,
             "#bd3786"
            ],
            [
             0.5555555555555556,
             "#d8576b"
            ],
            [
             0.6666666666666666,
             "#ed7953"
            ],
            [
             0.7777777777777778,
             "#fb9f3a"
            ],
            [
             0.8888888888888888,
             "#fdca26"
            ],
            [
             1,
             "#f0f921"
            ]
           ],
           "sequentialminus": [
            [
             0,
             "#0d0887"
            ],
            [
             0.1111111111111111,
             "#46039f"
            ],
            [
             0.2222222222222222,
             "#7201a8"
            ],
            [
             0.3333333333333333,
             "#9c179e"
            ],
            [
             0.4444444444444444,
             "#bd3786"
            ],
            [
             0.5555555555555556,
             "#d8576b"
            ],
            [
             0.6666666666666666,
             "#ed7953"
            ],
            [
             0.7777777777777778,
             "#fb9f3a"
            ],
            [
             0.8888888888888888,
             "#fdca26"
            ],
            [
             1,
             "#f0f921"
            ]
           ]
          },
          "colorway": [
           "#636efa",
           "#EF553B",
           "#00cc96",
           "#ab63fa",
           "#FFA15A",
           "#19d3f3",
           "#FF6692",
           "#B6E880",
           "#FF97FF",
           "#FECB52"
          ],
          "font": {
           "color": "#2a3f5f"
          },
          "geo": {
           "bgcolor": "white",
           "lakecolor": "white",
           "landcolor": "#E5ECF6",
           "showlakes": true,
           "showland": true,
           "subunitcolor": "white"
          },
          "hoverlabel": {
           "align": "left"
          },
          "hovermode": "closest",
          "mapbox": {
           "style": "light"
          },
          "paper_bgcolor": "white",
          "plot_bgcolor": "#E5ECF6",
          "polar": {
           "angularaxis": {
            "gridcolor": "white",
            "linecolor": "white",
            "ticks": ""
           },
           "bgcolor": "#E5ECF6",
           "radialaxis": {
            "gridcolor": "white",
            "linecolor": "white",
            "ticks": ""
           }
          },
          "scene": {
           "xaxis": {
            "backgroundcolor": "#E5ECF6",
            "gridcolor": "white",
            "gridwidth": 2,
            "linecolor": "white",
            "showbackground": true,
            "ticks": "",
            "zerolinecolor": "white"
           },
           "yaxis": {
            "backgroundcolor": "#E5ECF6",
            "gridcolor": "white",
            "gridwidth": 2,
            "linecolor": "white",
            "showbackground": true,
            "ticks": "",
            "zerolinecolor": "white"
           },
           "zaxis": {
            "backgroundcolor": "#E5ECF6",
            "gridcolor": "white",
            "gridwidth": 2,
            "linecolor": "white",
            "showbackground": true,
            "ticks": "",
            "zerolinecolor": "white"
           }
          },
          "shapedefaults": {
           "line": {
            "color": "#2a3f5f"
           }
          },
          "ternary": {
           "aaxis": {
            "gridcolor": "white",
            "linecolor": "white",
            "ticks": ""
           },
           "baxis": {
            "gridcolor": "white",
            "linecolor": "white",
            "ticks": ""
           },
           "bgcolor": "#E5ECF6",
           "caxis": {
            "gridcolor": "white",
            "linecolor": "white",
            "ticks": ""
           }
          },
          "title": {
           "x": 0.05
          },
          "xaxis": {
           "automargin": true,
           "gridcolor": "white",
           "linecolor": "white",
           "ticks": "",
           "title": {
            "standoff": 15
           },
           "zerolinecolor": "white",
           "zerolinewidth": 2
          },
          "yaxis": {
           "automargin": true,
           "gridcolor": "white",
           "linecolor": "white",
           "ticks": "",
           "title": {
            "standoff": 15
           },
           "zerolinecolor": "white",
           "zerolinewidth": 2
          }
         }
        },
        "title": {
         "text": "EBOLA Total Cases",
         "x": 0.5,
         "xanchor": "center",
         "y": 0.9,
         "yanchor": "top"
        }
       }
      },
      "text/html": [
       "<div>\n",
       "        \n",
       "        \n",
       "            <div id=\"51628f29-b3e7-48d5-baf9-f6028ab32572\" class=\"plotly-graph-div\" style=\"height:525px; width:100%;\"></div>\n",
       "            <script type=\"text/javascript\">\n",
       "                require([\"plotly\"], function(Plotly) {\n",
       "                    window.PLOTLYENV=window.PLOTLYENV || {};\n",
       "                    \n",
       "                if (document.getElementById(\"51628f29-b3e7-48d5-baf9-f6028ab32572\")) {\n",
       "                    Plotly.newPlot(\n",
       "                        '51628f29-b3e7-48d5-baf9-f6028ab32572',\n",
       "                        [{\"coloraxis\": \"coloraxis\", \"geo\": \"geo\", \"hoverlabel\": {\"namelength\": 0}, \"hovertemplate\": \"<b>%{hovertext}</b><br><br>Country=%{location}<br>Cases=%{z}\", \"hovertext\": [\"Guinea\", \"Liberia\", \"Mali\", \"Nigeria\", \"Senegal\", \"Sierra Leone\"], \"locationmode\": \"country names\", \"locations\": [\"Guinea\", \"Liberia\", \"Mali\", \"Nigeria\", \"Senegal\", \"Sierra Leone\"], \"name\": \"\", \"type\": \"choropleth\", \"z\": [42110.232926396995, 109399.86808191807, 11.41991341991342, 389.99999999999983, 16.666666666666664, 189649.33333333343]}],\n",
       "                        {\"coloraxis\": {\"colorbar\": {\"title\": {\"text\": \"Cases\"}}, \"colorscale\": [[0.0, \"rgb(230, 240, 240)\"], [0.09090909090909091, \"rgb(191, 221, 229)\"], [0.18181818181818182, \"rgb(156, 201, 226)\"], [0.2727272727272727, \"rgb(129, 180, 227)\"], [0.36363636363636365, \"rgb(115, 154, 228)\"], [0.45454545454545453, \"rgb(117, 127, 221)\"], [0.5454545454545454, \"rgb(120, 100, 202)\"], [0.6363636363636364, \"rgb(119, 74, 175)\"], [0.7272727272727273, \"rgb(113, 50, 141)\"], [0.8181818181818182, \"rgb(100, 31, 104)\"], [0.9090909090909091, \"rgb(80, 20, 66)\"], [1.0, \"rgb(54, 14, 36)\"]]}, \"geo\": {\"center\": {}, \"domain\": {\"x\": [0.0, 1.0], \"y\": [0.0, 1.0]}, \"scope\": \"africa\"}, \"legend\": {\"tracegroupgap\": 0}, \"template\": {\"data\": {\"bar\": [{\"error_x\": {\"color\": \"#2a3f5f\"}, \"error_y\": {\"color\": \"#2a3f5f\"}, \"marker\": {\"line\": {\"color\": \"#E5ECF6\", \"width\": 0.5}}, \"type\": \"bar\"}], \"barpolar\": [{\"marker\": {\"line\": {\"color\": \"#E5ECF6\", \"width\": 0.5}}, \"type\": \"barpolar\"}], \"carpet\": [{\"aaxis\": {\"endlinecolor\": \"#2a3f5f\", \"gridcolor\": \"white\", \"linecolor\": \"white\", \"minorgridcolor\": \"white\", \"startlinecolor\": \"#2a3f5f\"}, \"baxis\": {\"endlinecolor\": \"#2a3f5f\", \"gridcolor\": \"white\", \"linecolor\": \"white\", \"minorgridcolor\": \"white\", \"startlinecolor\": \"#2a3f5f\"}, \"type\": \"carpet\"}], \"choropleth\": [{\"colorbar\": {\"outlinewidth\": 0, \"ticks\": \"\"}, \"type\": \"choropleth\"}], \"contour\": [{\"colorbar\": {\"outlinewidth\": 0, \"ticks\": \"\"}, \"colorscale\": [[0.0, \"#0d0887\"], [0.1111111111111111, \"#46039f\"], [0.2222222222222222, \"#7201a8\"], [0.3333333333333333, \"#9c179e\"], [0.4444444444444444, \"#bd3786\"], [0.5555555555555556, \"#d8576b\"], [0.6666666666666666, \"#ed7953\"], [0.7777777777777778, \"#fb9f3a\"], [0.8888888888888888, \"#fdca26\"], [1.0, \"#f0f921\"]], \"type\": \"contour\"}], \"contourcarpet\": [{\"colorbar\": {\"outlinewidth\": 0, \"ticks\": \"\"}, \"type\": \"contourcarpet\"}], \"heatmap\": [{\"colorbar\": {\"outlinewidth\": 0, \"ticks\": \"\"}, \"colorscale\": [[0.0, \"#0d0887\"], [0.1111111111111111, \"#46039f\"], [0.2222222222222222, \"#7201a8\"], [0.3333333333333333, \"#9c179e\"], [0.4444444444444444, \"#bd3786\"], [0.5555555555555556, \"#d8576b\"], [0.6666666666666666, \"#ed7953\"], [0.7777777777777778, \"#fb9f3a\"], [0.8888888888888888, \"#fdca26\"], [1.0, \"#f0f921\"]], \"type\": \"heatmap\"}], \"heatmapgl\": [{\"colorbar\": {\"outlinewidth\": 0, \"ticks\": \"\"}, \"colorscale\": [[0.0, \"#0d0887\"], [0.1111111111111111, \"#46039f\"], [0.2222222222222222, \"#7201a8\"], [0.3333333333333333, \"#9c179e\"], [0.4444444444444444, \"#bd3786\"], [0.5555555555555556, \"#d8576b\"], [0.6666666666666666, \"#ed7953\"], [0.7777777777777778, \"#fb9f3a\"], [0.8888888888888888, \"#fdca26\"], [1.0, \"#f0f921\"]], \"type\": \"heatmapgl\"}], \"histogram\": [{\"marker\": {\"colorbar\": {\"outlinewidth\": 0, \"ticks\": \"\"}}, \"type\": \"histogram\"}], \"histogram2d\": [{\"colorbar\": {\"outlinewidth\": 0, \"ticks\": \"\"}, \"colorscale\": [[0.0, \"#0d0887\"], [0.1111111111111111, \"#46039f\"], [0.2222222222222222, \"#7201a8\"], [0.3333333333333333, \"#9c179e\"], [0.4444444444444444, \"#bd3786\"], [0.5555555555555556, \"#d8576b\"], [0.6666666666666666, \"#ed7953\"], [0.7777777777777778, \"#fb9f3a\"], [0.8888888888888888, \"#fdca26\"], [1.0, \"#f0f921\"]], \"type\": \"histogram2d\"}], \"histogram2dcontour\": [{\"colorbar\": {\"outlinewidth\": 0, \"ticks\": \"\"}, \"colorscale\": [[0.0, \"#0d0887\"], [0.1111111111111111, \"#46039f\"], [0.2222222222222222, \"#7201a8\"], [0.3333333333333333, \"#9c179e\"], [0.4444444444444444, \"#bd3786\"], [0.5555555555555556, \"#d8576b\"], [0.6666666666666666, \"#ed7953\"], [0.7777777777777778, \"#fb9f3a\"], [0.8888888888888888, \"#fdca26\"], [1.0, \"#f0f921\"]], \"type\": \"histogram2dcontour\"}], \"mesh3d\": [{\"colorbar\": {\"outlinewidth\": 0, \"ticks\": \"\"}, \"type\": \"mesh3d\"}], \"parcoords\": [{\"line\": {\"colorbar\": {\"outlinewidth\": 0, \"ticks\": \"\"}}, \"type\": \"parcoords\"}], \"pie\": [{\"automargin\": true, \"type\": \"pie\"}], \"scatter\": [{\"marker\": {\"colorbar\": {\"outlinewidth\": 0, \"ticks\": \"\"}}, \"type\": \"scatter\"}], \"scatter3d\": [{\"line\": {\"colorbar\": {\"outlinewidth\": 0, \"ticks\": \"\"}}, \"marker\": {\"colorbar\": {\"outlinewidth\": 0, \"ticks\": \"\"}}, \"type\": \"scatter3d\"}], \"scattercarpet\": [{\"marker\": {\"colorbar\": {\"outlinewidth\": 0, \"ticks\": \"\"}}, \"type\": \"scattercarpet\"}], \"scattergeo\": [{\"marker\": {\"colorbar\": {\"outlinewidth\": 0, \"ticks\": \"\"}}, \"type\": \"scattergeo\"}], \"scattergl\": [{\"marker\": {\"colorbar\": {\"outlinewidth\": 0, \"ticks\": \"\"}}, \"type\": \"scattergl\"}], \"scattermapbox\": [{\"marker\": {\"colorbar\": {\"outlinewidth\": 0, \"ticks\": \"\"}}, \"type\": \"scattermapbox\"}], \"scatterpolar\": [{\"marker\": {\"colorbar\": {\"outlinewidth\": 0, \"ticks\": \"\"}}, \"type\": \"scatterpolar\"}], \"scatterpolargl\": [{\"marker\": {\"colorbar\": {\"outlinewidth\": 0, \"ticks\": \"\"}}, \"type\": \"scatterpolargl\"}], \"scatterternary\": [{\"marker\": {\"colorbar\": {\"outlinewidth\": 0, \"ticks\": \"\"}}, \"type\": \"scatterternary\"}], \"surface\": [{\"colorbar\": {\"outlinewidth\": 0, \"ticks\": \"\"}, \"colorscale\": [[0.0, \"#0d0887\"], [0.1111111111111111, \"#46039f\"], [0.2222222222222222, \"#7201a8\"], [0.3333333333333333, \"#9c179e\"], [0.4444444444444444, \"#bd3786\"], [0.5555555555555556, \"#d8576b\"], [0.6666666666666666, \"#ed7953\"], [0.7777777777777778, \"#fb9f3a\"], [0.8888888888888888, \"#fdca26\"], [1.0, \"#f0f921\"]], \"type\": \"surface\"}], \"table\": [{\"cells\": {\"fill\": {\"color\": \"#EBF0F8\"}, \"line\": {\"color\": \"white\"}}, \"header\": {\"fill\": {\"color\": \"#C8D4E3\"}, \"line\": {\"color\": \"white\"}}, \"type\": \"table\"}]}, \"layout\": {\"annotationdefaults\": {\"arrowcolor\": \"#2a3f5f\", \"arrowhead\": 0, \"arrowwidth\": 1}, \"coloraxis\": {\"colorbar\": {\"outlinewidth\": 0, \"ticks\": \"\"}}, \"colorscale\": {\"diverging\": [[0, \"#8e0152\"], [0.1, \"#c51b7d\"], [0.2, \"#de77ae\"], [0.3, \"#f1b6da\"], [0.4, \"#fde0ef\"], [0.5, \"#f7f7f7\"], [0.6, \"#e6f5d0\"], [0.7, \"#b8e186\"], [0.8, \"#7fbc41\"], [0.9, \"#4d9221\"], [1, \"#276419\"]], \"sequential\": [[0.0, \"#0d0887\"], [0.1111111111111111, \"#46039f\"], [0.2222222222222222, \"#7201a8\"], [0.3333333333333333, \"#9c179e\"], [0.4444444444444444, \"#bd3786\"], [0.5555555555555556, \"#d8576b\"], [0.6666666666666666, \"#ed7953\"], [0.7777777777777778, \"#fb9f3a\"], [0.8888888888888888, \"#fdca26\"], [1.0, \"#f0f921\"]], \"sequentialminus\": [[0.0, \"#0d0887\"], [0.1111111111111111, \"#46039f\"], [0.2222222222222222, \"#7201a8\"], [0.3333333333333333, \"#9c179e\"], [0.4444444444444444, \"#bd3786\"], [0.5555555555555556, \"#d8576b\"], [0.6666666666666666, \"#ed7953\"], [0.7777777777777778, \"#fb9f3a\"], [0.8888888888888888, \"#fdca26\"], [1.0, \"#f0f921\"]]}, \"colorway\": [\"#636efa\", \"#EF553B\", \"#00cc96\", \"#ab63fa\", \"#FFA15A\", \"#19d3f3\", \"#FF6692\", \"#B6E880\", \"#FF97FF\", \"#FECB52\"], \"font\": {\"color\": \"#2a3f5f\"}, \"geo\": {\"bgcolor\": \"white\", \"lakecolor\": \"white\", \"landcolor\": \"#E5ECF6\", \"showlakes\": true, \"showland\": true, \"subunitcolor\": \"white\"}, \"hoverlabel\": {\"align\": \"left\"}, \"hovermode\": \"closest\", \"mapbox\": {\"style\": \"light\"}, \"paper_bgcolor\": \"white\", \"plot_bgcolor\": \"#E5ECF6\", \"polar\": {\"angularaxis\": {\"gridcolor\": \"white\", \"linecolor\": \"white\", \"ticks\": \"\"}, \"bgcolor\": \"#E5ECF6\", \"radialaxis\": {\"gridcolor\": \"white\", \"linecolor\": \"white\", \"ticks\": \"\"}}, \"scene\": {\"xaxis\": {\"backgroundcolor\": \"#E5ECF6\", \"gridcolor\": \"white\", \"gridwidth\": 2, \"linecolor\": \"white\", \"showbackground\": true, \"ticks\": \"\", \"zerolinecolor\": \"white\"}, \"yaxis\": {\"backgroundcolor\": \"#E5ECF6\", \"gridcolor\": \"white\", \"gridwidth\": 2, \"linecolor\": \"white\", \"showbackground\": true, \"ticks\": \"\", \"zerolinecolor\": \"white\"}, \"zaxis\": {\"backgroundcolor\": \"#E5ECF6\", \"gridcolor\": \"white\", \"gridwidth\": 2, \"linecolor\": \"white\", \"showbackground\": true, \"ticks\": \"\", \"zerolinecolor\": \"white\"}}, \"shapedefaults\": {\"line\": {\"color\": \"#2a3f5f\"}}, \"ternary\": {\"aaxis\": {\"gridcolor\": \"white\", \"linecolor\": \"white\", \"ticks\": \"\"}, \"baxis\": {\"gridcolor\": \"white\", \"linecolor\": \"white\", \"ticks\": \"\"}, \"bgcolor\": \"#E5ECF6\", \"caxis\": {\"gridcolor\": \"white\", \"linecolor\": \"white\", \"ticks\": \"\"}}, \"title\": {\"x\": 0.05}, \"xaxis\": {\"automargin\": true, \"gridcolor\": \"white\", \"linecolor\": \"white\", \"ticks\": \"\", \"title\": {\"standoff\": 15}, \"zerolinecolor\": \"white\", \"zerolinewidth\": 2}, \"yaxis\": {\"automargin\": true, \"gridcolor\": \"white\", \"linecolor\": \"white\", \"ticks\": \"\", \"title\": {\"standoff\": 15}, \"zerolinecolor\": \"white\", \"zerolinewidth\": 2}}}, \"title\": {\"text\": \"EBOLA Total Cases\", \"x\": 0.5, \"xanchor\": \"center\", \"y\": 0.9, \"yanchor\": \"top\"}},\n",
       "                        {\"responsive\": true}\n",
       "                    ).then(function(){\n",
       "                            \n",
       "var gd = document.getElementById('51628f29-b3e7-48d5-baf9-f6028ab32572');\n",
       "var x = new MutationObserver(function (mutations, observer) {{\n",
       "        var display = window.getComputedStyle(gd).display;\n",
       "        if (!display || display === 'none') {{\n",
       "            console.log([gd, 'removed!']);\n",
       "            Plotly.purge(gd);\n",
       "            observer.disconnect();\n",
       "        }}\n",
       "}});\n",
       "\n",
       "// Listen for the removal of the full notebook cells\n",
       "var notebookContainer = gd.closest('#notebook-container');\n",
       "if (notebookContainer) {{\n",
       "    x.observe(notebookContainer, {childList: true});\n",
       "}}\n",
       "\n",
       "// Listen for the clearing of the current output cell\n",
       "var outputEl = gd.closest('.output');\n",
       "if (outputEl) {{\n",
       "    x.observe(outputEl, {childList: true});\n",
       "}}\n",
       "\n",
       "                        })\n",
       "                };\n",
       "                });\n",
       "            </script>\n",
       "        </div>"
      ]
     },
     "metadata": {},
     "output_type": "display_data"
    }
   ],
   "source": [
    "fig = px.choropleth(df_1_total, locations=\"Country\", locationmode='country names',\n",
    "                    color=\"Cases\", hover_name=\"Country\", \n",
    "                            scope =\"africa\",\n",
    "                    color_continuous_scale=\"dense\",\n",
    "                     labels={'Cases':'Cases'},\n",
    "                     title={\n",
    "                         'text': \"EBOLA Total Cases\",\n",
    "                         'y':0.9,\n",
    "                         'x':0.5,\n",
    "                         'xanchor': 'center',\n",
    "                         'yanchor': 'top'})\n",
    "fig.show()"
   ]
  },
  {
   "cell_type": "code",
   "execution_count": 221,
   "metadata": {},
   "outputs": [
    {
     "data": {
      "application/vnd.plotly.v1+json": {
       "config": {
        "plotlyServerURL": "https://plot.ly"
       },
       "data": [
        {
         "coloraxis": "coloraxis",
         "geo": "geo",
         "hoverlabel": {
          "namelength": 0
         },
         "hovertemplate": "<b>%{hovertext}</b><br><br>Country=%{location}<br>Deaths=%{z}",
         "hovertext": [
          "Guinea",
          "Liberia",
          "Mali",
          "Nigeria",
          "Senegal",
          "Sierra Leone"
         ],
         "locationmode": "country names",
         "locations": [
          "Guinea",
          "Liberia",
          "Mali",
          "Nigeria",
          "Senegal",
          "Sierra Leone"
         ],
         "name": "",
         "type": "choropleth",
         "z": [
          27219.29067892715,
          49210.982534132534,
          8.866883116883116,
          133.3333333333333,
          0,
          62803.9380952381
         ]
        }
       ],
       "layout": {
        "coloraxis": {
         "colorbar": {
          "title": {
           "text": "Deaths"
          }
         },
         "colorscale": [
          [
           0,
           "rgb(230, 240, 240)"
          ],
          [
           0.09090909090909091,
           "rgb(191, 221, 229)"
          ],
          [
           0.18181818181818182,
           "rgb(156, 201, 226)"
          ],
          [
           0.2727272727272727,
           "rgb(129, 180, 227)"
          ],
          [
           0.36363636363636365,
           "rgb(115, 154, 228)"
          ],
          [
           0.45454545454545453,
           "rgb(117, 127, 221)"
          ],
          [
           0.5454545454545454,
           "rgb(120, 100, 202)"
          ],
          [
           0.6363636363636364,
           "rgb(119, 74, 175)"
          ],
          [
           0.7272727272727273,
           "rgb(113, 50, 141)"
          ],
          [
           0.8181818181818182,
           "rgb(100, 31, 104)"
          ],
          [
           0.9090909090909091,
           "rgb(80, 20, 66)"
          ],
          [
           1,
           "rgb(54, 14, 36)"
          ]
         ]
        },
        "geo": {
         "center": {},
         "domain": {
          "x": [
           0,
           1
          ],
          "y": [
           0,
           1
          ]
         },
         "scope": "africa"
        },
        "legend": {
         "tracegroupgap": 0
        },
        "template": {
         "data": {
          "bar": [
           {
            "error_x": {
             "color": "#2a3f5f"
            },
            "error_y": {
             "color": "#2a3f5f"
            },
            "marker": {
             "line": {
              "color": "#E5ECF6",
              "width": 0.5
             }
            },
            "type": "bar"
           }
          ],
          "barpolar": [
           {
            "marker": {
             "line": {
              "color": "#E5ECF6",
              "width": 0.5
             }
            },
            "type": "barpolar"
           }
          ],
          "carpet": [
           {
            "aaxis": {
             "endlinecolor": "#2a3f5f",
             "gridcolor": "white",
             "linecolor": "white",
             "minorgridcolor": "white",
             "startlinecolor": "#2a3f5f"
            },
            "baxis": {
             "endlinecolor": "#2a3f5f",
             "gridcolor": "white",
             "linecolor": "white",
             "minorgridcolor": "white",
             "startlinecolor": "#2a3f5f"
            },
            "type": "carpet"
           }
          ],
          "choropleth": [
           {
            "colorbar": {
             "outlinewidth": 0,
             "ticks": ""
            },
            "type": "choropleth"
           }
          ],
          "contour": [
           {
            "colorbar": {
             "outlinewidth": 0,
             "ticks": ""
            },
            "colorscale": [
             [
              0,
              "#0d0887"
             ],
             [
              0.1111111111111111,
              "#46039f"
             ],
             [
              0.2222222222222222,
              "#7201a8"
             ],
             [
              0.3333333333333333,
              "#9c179e"
             ],
             [
              0.4444444444444444,
              "#bd3786"
             ],
             [
              0.5555555555555556,
              "#d8576b"
             ],
             [
              0.6666666666666666,
              "#ed7953"
             ],
             [
              0.7777777777777778,
              "#fb9f3a"
             ],
             [
              0.8888888888888888,
              "#fdca26"
             ],
             [
              1,
              "#f0f921"
             ]
            ],
            "type": "contour"
           }
          ],
          "contourcarpet": [
           {
            "colorbar": {
             "outlinewidth": 0,
             "ticks": ""
            },
            "type": "contourcarpet"
           }
          ],
          "heatmap": [
           {
            "colorbar": {
             "outlinewidth": 0,
             "ticks": ""
            },
            "colorscale": [
             [
              0,
              "#0d0887"
             ],
             [
              0.1111111111111111,
              "#46039f"
             ],
             [
              0.2222222222222222,
              "#7201a8"
             ],
             [
              0.3333333333333333,
              "#9c179e"
             ],
             [
              0.4444444444444444,
              "#bd3786"
             ],
             [
              0.5555555555555556,
              "#d8576b"
             ],
             [
              0.6666666666666666,
              "#ed7953"
             ],
             [
              0.7777777777777778,
              "#fb9f3a"
             ],
             [
              0.8888888888888888,
              "#fdca26"
             ],
             [
              1,
              "#f0f921"
             ]
            ],
            "type": "heatmap"
           }
          ],
          "heatmapgl": [
           {
            "colorbar": {
             "outlinewidth": 0,
             "ticks": ""
            },
            "colorscale": [
             [
              0,
              "#0d0887"
             ],
             [
              0.1111111111111111,
              "#46039f"
             ],
             [
              0.2222222222222222,
              "#7201a8"
             ],
             [
              0.3333333333333333,
              "#9c179e"
             ],
             [
              0.4444444444444444,
              "#bd3786"
             ],
             [
              0.5555555555555556,
              "#d8576b"
             ],
             [
              0.6666666666666666,
              "#ed7953"
             ],
             [
              0.7777777777777778,
              "#fb9f3a"
             ],
             [
              0.8888888888888888,
              "#fdca26"
             ],
             [
              1,
              "#f0f921"
             ]
            ],
            "type": "heatmapgl"
           }
          ],
          "histogram": [
           {
            "marker": {
             "colorbar": {
              "outlinewidth": 0,
              "ticks": ""
             }
            },
            "type": "histogram"
           }
          ],
          "histogram2d": [
           {
            "colorbar": {
             "outlinewidth": 0,
             "ticks": ""
            },
            "colorscale": [
             [
              0,
              "#0d0887"
             ],
             [
              0.1111111111111111,
              "#46039f"
             ],
             [
              0.2222222222222222,
              "#7201a8"
             ],
             [
              0.3333333333333333,
              "#9c179e"
             ],
             [
              0.4444444444444444,
              "#bd3786"
             ],
             [
              0.5555555555555556,
              "#d8576b"
             ],
             [
              0.6666666666666666,
              "#ed7953"
             ],
             [
              0.7777777777777778,
              "#fb9f3a"
             ],
             [
              0.8888888888888888,
              "#fdca26"
             ],
             [
              1,
              "#f0f921"
             ]
            ],
            "type": "histogram2d"
           }
          ],
          "histogram2dcontour": [
           {
            "colorbar": {
             "outlinewidth": 0,
             "ticks": ""
            },
            "colorscale": [
             [
              0,
              "#0d0887"
             ],
             [
              0.1111111111111111,
              "#46039f"
             ],
             [
              0.2222222222222222,
              "#7201a8"
             ],
             [
              0.3333333333333333,
              "#9c179e"
             ],
             [
              0.4444444444444444,
              "#bd3786"
             ],
             [
              0.5555555555555556,
              "#d8576b"
             ],
             [
              0.6666666666666666,
              "#ed7953"
             ],
             [
              0.7777777777777778,
              "#fb9f3a"
             ],
             [
              0.8888888888888888,
              "#fdca26"
             ],
             [
              1,
              "#f0f921"
             ]
            ],
            "type": "histogram2dcontour"
           }
          ],
          "mesh3d": [
           {
            "colorbar": {
             "outlinewidth": 0,
             "ticks": ""
            },
            "type": "mesh3d"
           }
          ],
          "parcoords": [
           {
            "line": {
             "colorbar": {
              "outlinewidth": 0,
              "ticks": ""
             }
            },
            "type": "parcoords"
           }
          ],
          "pie": [
           {
            "automargin": true,
            "type": "pie"
           }
          ],
          "scatter": [
           {
            "marker": {
             "colorbar": {
              "outlinewidth": 0,
              "ticks": ""
             }
            },
            "type": "scatter"
           }
          ],
          "scatter3d": [
           {
            "line": {
             "colorbar": {
              "outlinewidth": 0,
              "ticks": ""
             }
            },
            "marker": {
             "colorbar": {
              "outlinewidth": 0,
              "ticks": ""
             }
            },
            "type": "scatter3d"
           }
          ],
          "scattercarpet": [
           {
            "marker": {
             "colorbar": {
              "outlinewidth": 0,
              "ticks": ""
             }
            },
            "type": "scattercarpet"
           }
          ],
          "scattergeo": [
           {
            "marker": {
             "colorbar": {
              "outlinewidth": 0,
              "ticks": ""
             }
            },
            "type": "scattergeo"
           }
          ],
          "scattergl": [
           {
            "marker": {
             "colorbar": {
              "outlinewidth": 0,
              "ticks": ""
             }
            },
            "type": "scattergl"
           }
          ],
          "scattermapbox": [
           {
            "marker": {
             "colorbar": {
              "outlinewidth": 0,
              "ticks": ""
             }
            },
            "type": "scattermapbox"
           }
          ],
          "scatterpolar": [
           {
            "marker": {
             "colorbar": {
              "outlinewidth": 0,
              "ticks": ""
             }
            },
            "type": "scatterpolar"
           }
          ],
          "scatterpolargl": [
           {
            "marker": {
             "colorbar": {
              "outlinewidth": 0,
              "ticks": ""
             }
            },
            "type": "scatterpolargl"
           }
          ],
          "scatterternary": [
           {
            "marker": {
             "colorbar": {
              "outlinewidth": 0,
              "ticks": ""
             }
            },
            "type": "scatterternary"
           }
          ],
          "surface": [
           {
            "colorbar": {
             "outlinewidth": 0,
             "ticks": ""
            },
            "colorscale": [
             [
              0,
              "#0d0887"
             ],
             [
              0.1111111111111111,
              "#46039f"
             ],
             [
              0.2222222222222222,
              "#7201a8"
             ],
             [
              0.3333333333333333,
              "#9c179e"
             ],
             [
              0.4444444444444444,
              "#bd3786"
             ],
             [
              0.5555555555555556,
              "#d8576b"
             ],
             [
              0.6666666666666666,
              "#ed7953"
             ],
             [
              0.7777777777777778,
              "#fb9f3a"
             ],
             [
              0.8888888888888888,
              "#fdca26"
             ],
             [
              1,
              "#f0f921"
             ]
            ],
            "type": "surface"
           }
          ],
          "table": [
           {
            "cells": {
             "fill": {
              "color": "#EBF0F8"
             },
             "line": {
              "color": "white"
             }
            },
            "header": {
             "fill": {
              "color": "#C8D4E3"
             },
             "line": {
              "color": "white"
             }
            },
            "type": "table"
           }
          ]
         },
         "layout": {
          "annotationdefaults": {
           "arrowcolor": "#2a3f5f",
           "arrowhead": 0,
           "arrowwidth": 1
          },
          "coloraxis": {
           "colorbar": {
            "outlinewidth": 0,
            "ticks": ""
           }
          },
          "colorscale": {
           "diverging": [
            [
             0,
             "#8e0152"
            ],
            [
             0.1,
             "#c51b7d"
            ],
            [
             0.2,
             "#de77ae"
            ],
            [
             0.3,
             "#f1b6da"
            ],
            [
             0.4,
             "#fde0ef"
            ],
            [
             0.5,
             "#f7f7f7"
            ],
            [
             0.6,
             "#e6f5d0"
            ],
            [
             0.7,
             "#b8e186"
            ],
            [
             0.8,
             "#7fbc41"
            ],
            [
             0.9,
             "#4d9221"
            ],
            [
             1,
             "#276419"
            ]
           ],
           "sequential": [
            [
             0,
             "#0d0887"
            ],
            [
             0.1111111111111111,
             "#46039f"
            ],
            [
             0.2222222222222222,
             "#7201a8"
            ],
            [
             0.3333333333333333,
             "#9c179e"
            ],
            [
             0.4444444444444444,
             "#bd3786"
            ],
            [
             0.5555555555555556,
             "#d8576b"
            ],
            [
             0.6666666666666666,
             "#ed7953"
            ],
            [
             0.7777777777777778,
             "#fb9f3a"
            ],
            [
             0.8888888888888888,
             "#fdca26"
            ],
            [
             1,
             "#f0f921"
            ]
           ],
           "sequentialminus": [
            [
             0,
             "#0d0887"
            ],
            [
             0.1111111111111111,
             "#46039f"
            ],
            [
             0.2222222222222222,
             "#7201a8"
            ],
            [
             0.3333333333333333,
             "#9c179e"
            ],
            [
             0.4444444444444444,
             "#bd3786"
            ],
            [
             0.5555555555555556,
             "#d8576b"
            ],
            [
             0.6666666666666666,
             "#ed7953"
            ],
            [
             0.7777777777777778,
             "#fb9f3a"
            ],
            [
             0.8888888888888888,
             "#fdca26"
            ],
            [
             1,
             "#f0f921"
            ]
           ]
          },
          "colorway": [
           "#636efa",
           "#EF553B",
           "#00cc96",
           "#ab63fa",
           "#FFA15A",
           "#19d3f3",
           "#FF6692",
           "#B6E880",
           "#FF97FF",
           "#FECB52"
          ],
          "font": {
           "color": "#2a3f5f"
          },
          "geo": {
           "bgcolor": "white",
           "lakecolor": "white",
           "landcolor": "#E5ECF6",
           "showlakes": true,
           "showland": true,
           "subunitcolor": "white"
          },
          "hoverlabel": {
           "align": "left"
          },
          "hovermode": "closest",
          "mapbox": {
           "style": "light"
          },
          "paper_bgcolor": "white",
          "plot_bgcolor": "#E5ECF6",
          "polar": {
           "angularaxis": {
            "gridcolor": "white",
            "linecolor": "white",
            "ticks": ""
           },
           "bgcolor": "#E5ECF6",
           "radialaxis": {
            "gridcolor": "white",
            "linecolor": "white",
            "ticks": ""
           }
          },
          "scene": {
           "xaxis": {
            "backgroundcolor": "#E5ECF6",
            "gridcolor": "white",
            "gridwidth": 2,
            "linecolor": "white",
            "showbackground": true,
            "ticks": "",
            "zerolinecolor": "white"
           },
           "yaxis": {
            "backgroundcolor": "#E5ECF6",
            "gridcolor": "white",
            "gridwidth": 2,
            "linecolor": "white",
            "showbackground": true,
            "ticks": "",
            "zerolinecolor": "white"
           },
           "zaxis": {
            "backgroundcolor": "#E5ECF6",
            "gridcolor": "white",
            "gridwidth": 2,
            "linecolor": "white",
            "showbackground": true,
            "ticks": "",
            "zerolinecolor": "white"
           }
          },
          "shapedefaults": {
           "line": {
            "color": "#2a3f5f"
           }
          },
          "ternary": {
           "aaxis": {
            "gridcolor": "white",
            "linecolor": "white",
            "ticks": ""
           },
           "baxis": {
            "gridcolor": "white",
            "linecolor": "white",
            "ticks": ""
           },
           "bgcolor": "#E5ECF6",
           "caxis": {
            "gridcolor": "white",
            "linecolor": "white",
            "ticks": ""
           }
          },
          "title": {
           "x": 0.05
          },
          "xaxis": {
           "automargin": true,
           "gridcolor": "white",
           "linecolor": "white",
           "ticks": "",
           "title": {
            "standoff": 15
           },
           "zerolinecolor": "white",
           "zerolinewidth": 2
          },
          "yaxis": {
           "automargin": true,
           "gridcolor": "white",
           "linecolor": "white",
           "ticks": "",
           "title": {
            "standoff": 15
           },
           "zerolinecolor": "white",
           "zerolinewidth": 2
          }
         }
        },
        "title": {
         "text": "EBOLA Total Deaths",
         "x": 0.5,
         "xanchor": "center",
         "y": 0.9,
         "yanchor": "top"
        }
       }
      },
      "text/html": [
       "<div>\n",
       "        \n",
       "        \n",
       "            <div id=\"9feb9975-8c6d-4e8d-829d-10b3707a2d52\" class=\"plotly-graph-div\" style=\"height:525px; width:100%;\"></div>\n",
       "            <script type=\"text/javascript\">\n",
       "                require([\"plotly\"], function(Plotly) {\n",
       "                    window.PLOTLYENV=window.PLOTLYENV || {};\n",
       "                    \n",
       "                if (document.getElementById(\"9feb9975-8c6d-4e8d-829d-10b3707a2d52\")) {\n",
       "                    Plotly.newPlot(\n",
       "                        '9feb9975-8c6d-4e8d-829d-10b3707a2d52',\n",
       "                        [{\"coloraxis\": \"coloraxis\", \"geo\": \"geo\", \"hoverlabel\": {\"namelength\": 0}, \"hovertemplate\": \"<b>%{hovertext}</b><br><br>Country=%{location}<br>Deaths=%{z}\", \"hovertext\": [\"Guinea\", \"Liberia\", \"Mali\", \"Nigeria\", \"Senegal\", \"Sierra Leone\"], \"locationmode\": \"country names\", \"locations\": [\"Guinea\", \"Liberia\", \"Mali\", \"Nigeria\", \"Senegal\", \"Sierra Leone\"], \"name\": \"\", \"type\": \"choropleth\", \"z\": [27219.29067892715, 49210.982534132534, 8.866883116883116, 133.3333333333333, 0.0, 62803.9380952381]}],\n",
       "                        {\"coloraxis\": {\"colorbar\": {\"title\": {\"text\": \"Deaths\"}}, \"colorscale\": [[0.0, \"rgb(230, 240, 240)\"], [0.09090909090909091, \"rgb(191, 221, 229)\"], [0.18181818181818182, \"rgb(156, 201, 226)\"], [0.2727272727272727, \"rgb(129, 180, 227)\"], [0.36363636363636365, \"rgb(115, 154, 228)\"], [0.45454545454545453, \"rgb(117, 127, 221)\"], [0.5454545454545454, \"rgb(120, 100, 202)\"], [0.6363636363636364, \"rgb(119, 74, 175)\"], [0.7272727272727273, \"rgb(113, 50, 141)\"], [0.8181818181818182, \"rgb(100, 31, 104)\"], [0.9090909090909091, \"rgb(80, 20, 66)\"], [1.0, \"rgb(54, 14, 36)\"]]}, \"geo\": {\"center\": {}, \"domain\": {\"x\": [0.0, 1.0], \"y\": [0.0, 1.0]}, \"scope\": \"africa\"}, \"legend\": {\"tracegroupgap\": 0}, \"template\": {\"data\": {\"bar\": [{\"error_x\": {\"color\": \"#2a3f5f\"}, \"error_y\": {\"color\": \"#2a3f5f\"}, \"marker\": {\"line\": {\"color\": \"#E5ECF6\", \"width\": 0.5}}, \"type\": \"bar\"}], \"barpolar\": [{\"marker\": {\"line\": {\"color\": \"#E5ECF6\", \"width\": 0.5}}, \"type\": \"barpolar\"}], \"carpet\": [{\"aaxis\": {\"endlinecolor\": \"#2a3f5f\", \"gridcolor\": \"white\", \"linecolor\": \"white\", \"minorgridcolor\": \"white\", \"startlinecolor\": \"#2a3f5f\"}, \"baxis\": {\"endlinecolor\": \"#2a3f5f\", \"gridcolor\": \"white\", \"linecolor\": \"white\", \"minorgridcolor\": \"white\", \"startlinecolor\": \"#2a3f5f\"}, \"type\": \"carpet\"}], \"choropleth\": [{\"colorbar\": {\"outlinewidth\": 0, \"ticks\": \"\"}, \"type\": \"choropleth\"}], \"contour\": [{\"colorbar\": {\"outlinewidth\": 0, \"ticks\": \"\"}, \"colorscale\": [[0.0, \"#0d0887\"], [0.1111111111111111, \"#46039f\"], [0.2222222222222222, \"#7201a8\"], [0.3333333333333333, \"#9c179e\"], [0.4444444444444444, \"#bd3786\"], [0.5555555555555556, \"#d8576b\"], [0.6666666666666666, \"#ed7953\"], [0.7777777777777778, \"#fb9f3a\"], [0.8888888888888888, \"#fdca26\"], [1.0, \"#f0f921\"]], \"type\": \"contour\"}], \"contourcarpet\": [{\"colorbar\": {\"outlinewidth\": 0, \"ticks\": \"\"}, \"type\": \"contourcarpet\"}], \"heatmap\": [{\"colorbar\": {\"outlinewidth\": 0, \"ticks\": \"\"}, \"colorscale\": [[0.0, \"#0d0887\"], [0.1111111111111111, \"#46039f\"], [0.2222222222222222, \"#7201a8\"], [0.3333333333333333, \"#9c179e\"], [0.4444444444444444, \"#bd3786\"], [0.5555555555555556, \"#d8576b\"], [0.6666666666666666, \"#ed7953\"], [0.7777777777777778, \"#fb9f3a\"], [0.8888888888888888, \"#fdca26\"], [1.0, \"#f0f921\"]], \"type\": \"heatmap\"}], \"heatmapgl\": [{\"colorbar\": {\"outlinewidth\": 0, \"ticks\": \"\"}, \"colorscale\": [[0.0, \"#0d0887\"], [0.1111111111111111, \"#46039f\"], [0.2222222222222222, \"#7201a8\"], [0.3333333333333333, \"#9c179e\"], [0.4444444444444444, \"#bd3786\"], [0.5555555555555556, \"#d8576b\"], [0.6666666666666666, \"#ed7953\"], [0.7777777777777778, \"#fb9f3a\"], [0.8888888888888888, \"#fdca26\"], [1.0, \"#f0f921\"]], \"type\": \"heatmapgl\"}], \"histogram\": [{\"marker\": {\"colorbar\": {\"outlinewidth\": 0, \"ticks\": \"\"}}, \"type\": \"histogram\"}], \"histogram2d\": [{\"colorbar\": {\"outlinewidth\": 0, \"ticks\": \"\"}, \"colorscale\": [[0.0, \"#0d0887\"], [0.1111111111111111, \"#46039f\"], [0.2222222222222222, \"#7201a8\"], [0.3333333333333333, \"#9c179e\"], [0.4444444444444444, \"#bd3786\"], [0.5555555555555556, \"#d8576b\"], [0.6666666666666666, \"#ed7953\"], [0.7777777777777778, \"#fb9f3a\"], [0.8888888888888888, \"#fdca26\"], [1.0, \"#f0f921\"]], \"type\": \"histogram2d\"}], \"histogram2dcontour\": [{\"colorbar\": {\"outlinewidth\": 0, \"ticks\": \"\"}, \"colorscale\": [[0.0, \"#0d0887\"], [0.1111111111111111, \"#46039f\"], [0.2222222222222222, \"#7201a8\"], [0.3333333333333333, \"#9c179e\"], [0.4444444444444444, \"#bd3786\"], [0.5555555555555556, \"#d8576b\"], [0.6666666666666666, \"#ed7953\"], [0.7777777777777778, \"#fb9f3a\"], [0.8888888888888888, \"#fdca26\"], [1.0, \"#f0f921\"]], \"type\": \"histogram2dcontour\"}], \"mesh3d\": [{\"colorbar\": {\"outlinewidth\": 0, \"ticks\": \"\"}, \"type\": \"mesh3d\"}], \"parcoords\": [{\"line\": {\"colorbar\": {\"outlinewidth\": 0, \"ticks\": \"\"}}, \"type\": \"parcoords\"}], \"pie\": [{\"automargin\": true, \"type\": \"pie\"}], \"scatter\": [{\"marker\": {\"colorbar\": {\"outlinewidth\": 0, \"ticks\": \"\"}}, \"type\": \"scatter\"}], \"scatter3d\": [{\"line\": {\"colorbar\": {\"outlinewidth\": 0, \"ticks\": \"\"}}, \"marker\": {\"colorbar\": {\"outlinewidth\": 0, \"ticks\": \"\"}}, \"type\": \"scatter3d\"}], \"scattercarpet\": [{\"marker\": {\"colorbar\": {\"outlinewidth\": 0, \"ticks\": \"\"}}, \"type\": \"scattercarpet\"}], \"scattergeo\": [{\"marker\": {\"colorbar\": {\"outlinewidth\": 0, \"ticks\": \"\"}}, \"type\": \"scattergeo\"}], \"scattergl\": [{\"marker\": {\"colorbar\": {\"outlinewidth\": 0, \"ticks\": \"\"}}, \"type\": \"scattergl\"}], \"scattermapbox\": [{\"marker\": {\"colorbar\": {\"outlinewidth\": 0, \"ticks\": \"\"}}, \"type\": \"scattermapbox\"}], \"scatterpolar\": [{\"marker\": {\"colorbar\": {\"outlinewidth\": 0, \"ticks\": \"\"}}, \"type\": \"scatterpolar\"}], \"scatterpolargl\": [{\"marker\": {\"colorbar\": {\"outlinewidth\": 0, \"ticks\": \"\"}}, \"type\": \"scatterpolargl\"}], \"scatterternary\": [{\"marker\": {\"colorbar\": {\"outlinewidth\": 0, \"ticks\": \"\"}}, \"type\": \"scatterternary\"}], \"surface\": [{\"colorbar\": {\"outlinewidth\": 0, \"ticks\": \"\"}, \"colorscale\": [[0.0, \"#0d0887\"], [0.1111111111111111, \"#46039f\"], [0.2222222222222222, \"#7201a8\"], [0.3333333333333333, \"#9c179e\"], [0.4444444444444444, \"#bd3786\"], [0.5555555555555556, \"#d8576b\"], [0.6666666666666666, \"#ed7953\"], [0.7777777777777778, \"#fb9f3a\"], [0.8888888888888888, \"#fdca26\"], [1.0, \"#f0f921\"]], \"type\": \"surface\"}], \"table\": [{\"cells\": {\"fill\": {\"color\": \"#EBF0F8\"}, \"line\": {\"color\": \"white\"}}, \"header\": {\"fill\": {\"color\": \"#C8D4E3\"}, \"line\": {\"color\": \"white\"}}, \"type\": \"table\"}]}, \"layout\": {\"annotationdefaults\": {\"arrowcolor\": \"#2a3f5f\", \"arrowhead\": 0, \"arrowwidth\": 1}, \"coloraxis\": {\"colorbar\": {\"outlinewidth\": 0, \"ticks\": \"\"}}, \"colorscale\": {\"diverging\": [[0, \"#8e0152\"], [0.1, \"#c51b7d\"], [0.2, \"#de77ae\"], [0.3, \"#f1b6da\"], [0.4, \"#fde0ef\"], [0.5, \"#f7f7f7\"], [0.6, \"#e6f5d0\"], [0.7, \"#b8e186\"], [0.8, \"#7fbc41\"], [0.9, \"#4d9221\"], [1, \"#276419\"]], \"sequential\": [[0.0, \"#0d0887\"], [0.1111111111111111, \"#46039f\"], [0.2222222222222222, \"#7201a8\"], [0.3333333333333333, \"#9c179e\"], [0.4444444444444444, \"#bd3786\"], [0.5555555555555556, \"#d8576b\"], [0.6666666666666666, \"#ed7953\"], [0.7777777777777778, \"#fb9f3a\"], [0.8888888888888888, \"#fdca26\"], [1.0, \"#f0f921\"]], \"sequentialminus\": [[0.0, \"#0d0887\"], [0.1111111111111111, \"#46039f\"], [0.2222222222222222, \"#7201a8\"], [0.3333333333333333, \"#9c179e\"], [0.4444444444444444, \"#bd3786\"], [0.5555555555555556, \"#d8576b\"], [0.6666666666666666, \"#ed7953\"], [0.7777777777777778, \"#fb9f3a\"], [0.8888888888888888, \"#fdca26\"], [1.0, \"#f0f921\"]]}, \"colorway\": [\"#636efa\", \"#EF553B\", \"#00cc96\", \"#ab63fa\", \"#FFA15A\", \"#19d3f3\", \"#FF6692\", \"#B6E880\", \"#FF97FF\", \"#FECB52\"], \"font\": {\"color\": \"#2a3f5f\"}, \"geo\": {\"bgcolor\": \"white\", \"lakecolor\": \"white\", \"landcolor\": \"#E5ECF6\", \"showlakes\": true, \"showland\": true, \"subunitcolor\": \"white\"}, \"hoverlabel\": {\"align\": \"left\"}, \"hovermode\": \"closest\", \"mapbox\": {\"style\": \"light\"}, \"paper_bgcolor\": \"white\", \"plot_bgcolor\": \"#E5ECF6\", \"polar\": {\"angularaxis\": {\"gridcolor\": \"white\", \"linecolor\": \"white\", \"ticks\": \"\"}, \"bgcolor\": \"#E5ECF6\", \"radialaxis\": {\"gridcolor\": \"white\", \"linecolor\": \"white\", \"ticks\": \"\"}}, \"scene\": {\"xaxis\": {\"backgroundcolor\": \"#E5ECF6\", \"gridcolor\": \"white\", \"gridwidth\": 2, \"linecolor\": \"white\", \"showbackground\": true, \"ticks\": \"\", \"zerolinecolor\": \"white\"}, \"yaxis\": {\"backgroundcolor\": \"#E5ECF6\", \"gridcolor\": \"white\", \"gridwidth\": 2, \"linecolor\": \"white\", \"showbackground\": true, \"ticks\": \"\", \"zerolinecolor\": \"white\"}, \"zaxis\": {\"backgroundcolor\": \"#E5ECF6\", \"gridcolor\": \"white\", \"gridwidth\": 2, \"linecolor\": \"white\", \"showbackground\": true, \"ticks\": \"\", \"zerolinecolor\": \"white\"}}, \"shapedefaults\": {\"line\": {\"color\": \"#2a3f5f\"}}, \"ternary\": {\"aaxis\": {\"gridcolor\": \"white\", \"linecolor\": \"white\", \"ticks\": \"\"}, \"baxis\": {\"gridcolor\": \"white\", \"linecolor\": \"white\", \"ticks\": \"\"}, \"bgcolor\": \"#E5ECF6\", \"caxis\": {\"gridcolor\": \"white\", \"linecolor\": \"white\", \"ticks\": \"\"}}, \"title\": {\"x\": 0.05}, \"xaxis\": {\"automargin\": true, \"gridcolor\": \"white\", \"linecolor\": \"white\", \"ticks\": \"\", \"title\": {\"standoff\": 15}, \"zerolinecolor\": \"white\", \"zerolinewidth\": 2}, \"yaxis\": {\"automargin\": true, \"gridcolor\": \"white\", \"linecolor\": \"white\", \"ticks\": \"\", \"title\": {\"standoff\": 15}, \"zerolinecolor\": \"white\", \"zerolinewidth\": 2}}}, \"title\": {\"text\": \"EBOLA Total Deaths\", \"x\": 0.5, \"xanchor\": \"center\", \"y\": 0.9, \"yanchor\": \"top\"}},\n",
       "                        {\"responsive\": true}\n",
       "                    ).then(function(){\n",
       "                            \n",
       "var gd = document.getElementById('9feb9975-8c6d-4e8d-829d-10b3707a2d52');\n",
       "var x = new MutationObserver(function (mutations, observer) {{\n",
       "        var display = window.getComputedStyle(gd).display;\n",
       "        if (!display || display === 'none') {{\n",
       "            console.log([gd, 'removed!']);\n",
       "            Plotly.purge(gd);\n",
       "            observer.disconnect();\n",
       "        }}\n",
       "}});\n",
       "\n",
       "// Listen for the removal of the full notebook cells\n",
       "var notebookContainer = gd.closest('#notebook-container');\n",
       "if (notebookContainer) {{\n",
       "    x.observe(notebookContainer, {childList: true});\n",
       "}}\n",
       "\n",
       "// Listen for the clearing of the current output cell\n",
       "var outputEl = gd.closest('.output');\n",
       "if (outputEl) {{\n",
       "    x.observe(outputEl, {childList: true});\n",
       "}}\n",
       "\n",
       "                        })\n",
       "                };\n",
       "                });\n",
       "            </script>\n",
       "        </div>"
      ]
     },
     "metadata": {},
     "output_type": "display_data"
    }
   ],
   "source": [
    "fig = px.choropleth(df_1_total, locations=\"Country\", locationmode='country names',\n",
    "                    color=\"Deaths\", hover_name=\"Country\", \n",
    "                            scope =\"africa\",\n",
    "                    color_continuous_scale=\"dense\",\n",
    "                     labels={'Deaths':'Deaths'},\n",
    "                     title={\n",
    "                         'text': \"EBOLA Total Deaths\",\n",
    "                         'y':0.9,\n",
    "                         'x':0.5,\n",
    "                         'xanchor': 'center',\n",
    "                         'yanchor': 'top'})\n",
    "fig.show()"
   ]
  },
  {
   "cell_type": "code",
   "execution_count": null,
   "metadata": {},
   "outputs": [],
   "source": []
  },
  {
   "cell_type": "code",
   "execution_count": 256,
   "metadata": {},
   "outputs": [],
   "source": [
    "# df_Guinea= df_1[df_1['Country']=='Guinea'].set_index('Date')\n",
    "# df_Liberia= df_1[df_1['Country']=='Liberia'].set_index('Date')\n",
    "# df_Sierra= df_1[df_1['Country']=='Sierra Leone'].set_index('Date')\n",
    "# df_Nigeria= df_1[df_1['Country']=='Nigeria'].set_index('Date')\n",
    "# df_Senegal= df_1[df_1['Country']== 'Senegal'].set_index('Date')\n",
    "# df_Mali= df_1[df_1['Country']== 'Mali'].set_index('Date')\n"
   ]
  },
  {
   "cell_type": "code",
   "execution_count": null,
   "metadata": {},
   "outputs": [],
   "source": []
  },
  {
   "cell_type": "code",
   "execution_count": 252,
   "metadata": {
    "collapsed": true
   },
   "outputs": [
    {
     "name": "stderr",
     "output_type": "stream",
     "text": [
      "No handles with labels found to put in legend.\n"
     ]
    },
    {
     "data": {
      "image/png": "[encoded data removed]",
      "text/plain": [
       "<Figure size 1080x432 with 1 Axes>"
      ]
     },
     "metadata": {
      "needs_background": "light"
     },
     "output_type": "display_data"
    }
   ],
   "source": [
    "# # Plot the Total Cases and Deaths over times in Guinea\n",
    "\n",
    "# plt.figure(figsize=(15,6))\n",
    "# plt.grid(True)\n",
    "# plt.xlabel('Dates')\n",
    "# plt.ylabel('Total Confirmed Cases and Deaths')\n",
    "# plt.plot(df_Guinea['Confirmed cases'])\n",
    "# plt.plot(df_Guinea['Deaths'])\n",
    "# plt.title('Confirmed cases and Deaths over time in Guinea')\n",
    "# plt.legend()\n",
    "# plt.show()"
   ]
  },
  {
   "cell_type": "code",
   "execution_count": 257,
   "metadata": {
    "collapsed": true
   },
   "outputs": [
    {
     "name": "stderr",
     "output_type": "stream",
     "text": [
      "No handles with labels found to put in legend.\n"
     ]
    },
    {
     "data": {
      "image/png": "[encoded data removed]",
      "text/plain": [
       "<Figure size 1080x432 with 1 Axes>"
      ]
     },
     "metadata": {
      "needs_background": "light"
     },
     "output_type": "display_data"
    }
   ],
   "source": [
    "# # Plot the Total Cases and Deaths over times in Liberia\n",
    "\n",
    "# plt.figure(figsize=(15,6))\n",
    "# plt.grid(True)\n",
    "# plt.xlabel('Dates')\n",
    "# plt.ylabel('Total Confirmed Cases and Deaths')\n",
    "# plt.plot(df_Liberia['Confirmed cases'])\n",
    "# plt.plot(df_Liberia['Deaths'])\n",
    "# plt.title('Confirmed cases and Deaths over time in Liberia')\n",
    "# plt.legend()\n",
    "# plt.show()"
   ]
  },
  {
   "cell_type": "code",
   "execution_count": 258,
   "metadata": {
    "collapsed": true
   },
   "outputs": [
    {
     "name": "stderr",
     "output_type": "stream",
     "text": [
      "No handles with labels found to put in legend.\n"
     ]
    },
    {
     "data": {
      "image/png": "[encoded data removed]",
      "text/plain": [
       "<Figure size 1080x432 with 1 Axes>"
      ]
     },
     "metadata": {
      "needs_background": "light"
     },
     "output_type": "display_data"
    }
   ],
   "source": [
    "# # Plot the Total Cases and Deaths over times in Sierra Leone\n",
    "\n",
    "# plt.figure(figsize=(15,6))\n",
    "# plt.grid(True)\n",
    "# plt.xlabel('Dates')\n",
    "# plt.ylabel('Total Confirmed Cases and Deaths')\n",
    "# plt.plot(df_Sierra['Confirmed cases'])\n",
    "# plt.plot(df_Sierra['Deaths'])\n",
    "# plt.title('Confirmed cases and Deaths over time in Sierra Leone')\n",
    "# plt.legend()\n",
    "# plt.show()"
   ]
  },
  {
   "cell_type": "code",
   "execution_count": 259,
   "metadata": {
    "collapsed": true
   },
   "outputs": [
    {
     "name": "stderr",
     "output_type": "stream",
     "text": [
      "No handles with labels found to put in legend.\n"
     ]
    },
    {
     "data": {
      "image/png": "[encoded data removed]",
      "text/plain": [
       "<Figure size 1080x432 with 1 Axes>"
      ]
     },
     "metadata": {
      "needs_background": "light"
     },
     "output_type": "display_data"
    }
   ],
   "source": [
    "# # Plot the Total Cases and Deaths over times in Nigeria\n",
    "\n",
    "# plt.figure(figsize=(15,6))\n",
    "# plt.grid(True)\n",
    "# plt.xlabel('Dates')\n",
    "# plt.ylabel('Total Confirmed Cases and Deaths')\n",
    "# plt.plot(df_Nigeria['Confirmed cases'])\n",
    "# plt.plot(df_Nigeria['Deaths'])\n",
    "# plt.title('Confirmed cases and Deaths over time in Nigeria')\n",
    "# plt.legend()\n",
    "# plt.show()"
   ]
  },
  {
   "cell_type": "code",
   "execution_count": 260,
   "metadata": {
    "collapsed": true
   },
   "outputs": [
    {
     "name": "stderr",
     "output_type": "stream",
     "text": [
      "No handles with labels found to put in legend.\n"
     ]
    },
    {
     "data": {
      "image/png": "[encoded data removed]",
      "text/plain": [
       "<Figure size 1080x432 with 1 Axes>"
      ]
     },
     "metadata": {
      "needs_background": "light"
     },
     "output_type": "display_data"
    }
   ],
   "source": [
    "# # Plot the Total Cases and Deaths over times in Senegal\n",
    "\n",
    "# plt.figure(figsize=(15,6))\n",
    "# plt.grid(True)\n",
    "# plt.xlabel('Dates')\n",
    "# plt.ylabel('Total Confirmed Cases and Deaths')\n",
    "# plt.plot(df_Senegal['Confirmed cases'])\n",
    "# plt.plot(df_Senegal['Deaths'])\n",
    "# plt.title('Confirmed cases and Deaths over time in Senegal')\n",
    "# plt.legend()\n",
    "# plt.show()"
   ]
  },
  {
   "cell_type": "code",
   "execution_count": 261,
   "metadata": {},
   "outputs": [
    {
     "name": "stderr",
     "output_type": "stream",
     "text": [
      "No handles with labels found to put in legend.\n"
     ]
    },
    {
     "data": {
      "image/png": "[encoded data removed]",
      "text/plain": [
       "<Figure size 1080x432 with 1 Axes>"
      ]
     },
     "metadata": {
      "needs_background": "light"
     },
     "output_type": "display_data"
    }
   ],
   "source": [
    "# # Plot the Total Cases and Deaths over times in Mali\n",
    "\n",
    "# plt.figure(figsize=(15,6))\n",
    "# plt.grid(True)\n",
    "# plt.xlabel('Dates')\n",
    "# plt.ylabel('Total Confirmed Cases and Deaths')\n",
    "# plt.plot(df_Mali['Confirmed cases'])\n",
    "# plt.plot(df_Mali['Deaths'])\n",
    "# plt.title('Confirmed cases and Deaths over time in Mali')\n",
    "# plt.legend()\n",
    "# plt.show()"
   ]
  },
  {
   "cell_type": "code",
   "execution_count": null,
   "metadata": {},
   "outputs": [],
   "source": []
  },
  {
   "cell_type": "code",
   "execution_count": null,
   "metadata": {},
   "outputs": [],
   "source": []
  },
  {
   "cell_type": "code",
   "execution_count": 21,
   "metadata": {},
   "outputs": [],
   "source": [
    "# Now Modeling using ARIMA "
   ]
  },
  {
   "cell_type": "code",
   "execution_count": 16,
   "metadata": {
    "scrolled": true
   },
   "outputs": [
    {
     "data": {
      "text/html": [
       "<div>\n",
       "<style scoped>\n",
       "    .dataframe tbody tr th:only-of-type {\n",
       "        vertical-align: middle;\n",
       "    }\n",
       "\n",
       "    .dataframe tbody tr th {\n",
       "        vertical-align: top;\n",
       "    }\n",
       "\n",
       "    .dataframe thead th {\n",
       "        text-align: right;\n",
       "    }\n",
       "</style>\n",
       "<table border=\"1\" class=\"dataframe\">\n",
       "  <thead>\n",
       "    <tr style=\"text-align: right;\">\n",
       "      <th></th>\n",
       "      <th>Country</th>\n",
       "      <th>Localite</th>\n",
       "      <th>Category</th>\n",
       "      <th>Value</th>\n",
       "      <th>Date</th>\n",
       "    </tr>\n",
       "  </thead>\n",
       "  <tbody>\n",
       "    <tr>\n",
       "      <th>0</th>\n",
       "      <td>Guinea</td>\n",
       "      <td>Guekedou, Macenta, Nzerekore and Kissidougou</td>\n",
       "      <td>Cases</td>\n",
       "      <td>86.0</td>\n",
       "      <td>2014-03-24</td>\n",
       "    </tr>\n",
       "    <tr>\n",
       "      <th>1</th>\n",
       "      <td>Guinea</td>\n",
       "      <td>Guekedou, Macenta, Nzerekore and Kissidougou</td>\n",
       "      <td>Deaths</td>\n",
       "      <td>59.0</td>\n",
       "      <td>2014-03-24</td>\n",
       "    </tr>\n",
       "    <tr>\n",
       "      <th>2</th>\n",
       "      <td>Guinea</td>\n",
       "      <td>( Guekedou, Macenta and Kissidougou</td>\n",
       "      <td>Cases</td>\n",
       "      <td>86.0</td>\n",
       "      <td>2014-03-25</td>\n",
       "    </tr>\n",
       "    <tr>\n",
       "      <th>3</th>\n",
       "      <td>Guinea</td>\n",
       "      <td>( Guekedou, Macenta and Kissidougou</td>\n",
       "      <td>Deaths</td>\n",
       "      <td>60.0</td>\n",
       "      <td>2014-03-25</td>\n",
       "    </tr>\n",
       "    <tr>\n",
       "      <th>4</th>\n",
       "      <td>Guinea</td>\n",
       "      <td>( Guekedou, Macenta and Kissidougou</td>\n",
       "      <td>Cases</td>\n",
       "      <td>86.0</td>\n",
       "      <td>2014-03-26</td>\n",
       "    </tr>\n",
       "  </tbody>\n",
       "</table>\n",
       "</div>"
      ],
      "text/plain": [
       "  Country                                      Localite Category  Value  \\\n",
       "0  Guinea  Guekedou, Macenta, Nzerekore and Kissidougou    Cases   86.0   \n",
       "1  Guinea  Guekedou, Macenta, Nzerekore and Kissidougou   Deaths   59.0   \n",
       "2  Guinea           ( Guekedou, Macenta and Kissidougou    Cases   86.0   \n",
       "3  Guinea           ( Guekedou, Macenta and Kissidougou   Deaths   60.0   \n",
       "4  Guinea           ( Guekedou, Macenta and Kissidougou    Cases   86.0   \n",
       "\n",
       "        Date  \n",
       "0 2014-03-24  \n",
       "1 2014-03-24  \n",
       "2 2014-03-25  \n",
       "3 2014-03-25  \n",
       "4 2014-03-26  "
      ]
     },
     "execution_count": 16,
     "metadata": {},
     "output_type": "execute_result"
    }
   ],
   "source": [
    "df.head()"
   ]
  },
  {
   "cell_type": "code",
   "execution_count": 17,
   "metadata": {},
   "outputs": [
    {
     "data": {
      "text/plain": [
       "array(['Cases', 'Deaths', 'Suspected Cases', 'Confirmed cases',\n",
       "       'Probable cases', 'New Cases'], dtype=object)"
      ]
     },
     "execution_count": 17,
     "metadata": {},
     "output_type": "execute_result"
    }
   ],
   "source": [
    "df.Category.unique()"
   ]
  },
  {
   "cell_type": "code",
   "execution_count": null,
   "metadata": {},
   "outputs": [],
   "source": []
  },
  {
   "cell_type": "code",
   "execution_count": 18,
   "metadata": {},
   "outputs": [
    {
     "name": "stderr",
     "output_type": "stream",
     "text": [
      "C:\\Users\\Zeeshan Haleem\\Anaconda3\\lib\\site-packages\\ipykernel_launcher.py:1: UserWarning:\n",
      "\n",
      "Boolean Series key will be reindexed to match DataFrame index.\n",
      "\n"
     ]
    },
    {
     "data": {
      "text/html": [
       "<div>\n",
       "<style scoped>\n",
       "    .dataframe tbody tr th:only-of-type {\n",
       "        vertical-align: middle;\n",
       "    }\n",
       "\n",
       "    .dataframe tbody tr th {\n",
       "        vertical-align: top;\n",
       "    }\n",
       "\n",
       "    .dataframe thead th {\n",
       "        text-align: right;\n",
       "    }\n",
       "</style>\n",
       "<table border=\"1\" class=\"dataframe\">\n",
       "  <thead>\n",
       "    <tr style=\"text-align: right;\">\n",
       "      <th></th>\n",
       "      <th>Value</th>\n",
       "    </tr>\n",
       "    <tr>\n",
       "      <th>Date</th>\n",
       "      <th></th>\n",
       "    </tr>\n",
       "  </thead>\n",
       "  <tbody>\n",
       "    <tr>\n",
       "      <th>2014-03-31</th>\n",
       "      <td>24.0</td>\n",
       "    </tr>\n",
       "    <tr>\n",
       "      <th>2014-04-01</th>\n",
       "      <td>35.0</td>\n",
       "    </tr>\n",
       "    <tr>\n",
       "      <th>2014-04-04</th>\n",
       "      <td>54.0</td>\n",
       "    </tr>\n",
       "    <tr>\n",
       "      <th>2014-04-11</th>\n",
       "      <td>71.0</td>\n",
       "    </tr>\n",
       "    <tr>\n",
       "      <th>2014-04-16</th>\n",
       "      <td>101.0</td>\n",
       "    </tr>\n",
       "  </tbody>\n",
       "</table>\n",
       "</div>"
      ],
      "text/plain": [
       "            Value\n",
       "Date             \n",
       "2014-03-31   24.0\n",
       "2014-04-01   35.0\n",
       "2014-04-04   54.0\n",
       "2014-04-11   71.0\n",
       "2014-04-16  101.0"
      ]
     },
     "execution_count": 18,
     "metadata": {},
     "output_type": "execute_result"
    }
   ],
   "source": [
    "df_Guinea=df[df.Country=='Guinea'][df.Localite=='National'][df.Category=='Confirmed cases']\n",
    "df_Guinea=df_Guinea[['Value','Date']].set_index('Date').sort_values(by='Date', ascending=True)\n",
    "df_Guinea.head()\n"
   ]
  },
  {
   "cell_type": "code",
   "execution_count": 19,
   "metadata": {},
   "outputs": [
    {
     "data": {
      "text/plain": [
       "<matplotlib.axes._subplots.AxesSubplot at 0x1df3e648>"
      ]
     },
     "execution_count": 19,
     "metadata": {},
     "output_type": "execute_result"
    },
    {
     "data": {
      "image/png": "[encoded data removed]",
      "text/plain": [
       "<Figure size 432x288 with 1 Axes>"
      ]
     },
     "metadata": {
      "needs_background": "light"
     },
     "output_type": "display_data"
    }
   ],
   "source": [
    "sns.boxplot(df_Guinea)\n"
   ]
  },
  {
   "cell_type": "code",
   "execution_count": null,
   "metadata": {},
   "outputs": [],
   "source": []
  },
  {
   "cell_type": "code",
   "execution_count": 20,
   "metadata": {},
   "outputs": [
    {
     "data": {
      "text/html": [
       "<div>\n",
       "<style scoped>\n",
       "    .dataframe tbody tr th:only-of-type {\n",
       "        vertical-align: middle;\n",
       "    }\n",
       "\n",
       "    .dataframe tbody tr th {\n",
       "        vertical-align: top;\n",
       "    }\n",
       "\n",
       "    .dataframe thead th {\n",
       "        text-align: right;\n",
       "    }\n",
       "</style>\n",
       "<table border=\"1\" class=\"dataframe\">\n",
       "  <thead>\n",
       "    <tr style=\"text-align: right;\">\n",
       "      <th></th>\n",
       "      <th>Value</th>\n",
       "    </tr>\n",
       "    <tr>\n",
       "      <th>Date</th>\n",
       "      <th></th>\n",
       "    </tr>\n",
       "  </thead>\n",
       "  <tbody>\n",
       "    <tr>\n",
       "      <th>2014-03-31</th>\n",
       "      <td>24.0</td>\n",
       "    </tr>\n",
       "    <tr>\n",
       "      <th>2014-04-01</th>\n",
       "      <td>35.0</td>\n",
       "    </tr>\n",
       "    <tr>\n",
       "      <th>2014-04-04</th>\n",
       "      <td>54.0</td>\n",
       "    </tr>\n",
       "    <tr>\n",
       "      <th>2014-04-11</th>\n",
       "      <td>71.0</td>\n",
       "    </tr>\n",
       "    <tr>\n",
       "      <th>2014-04-16</th>\n",
       "      <td>101.0</td>\n",
       "    </tr>\n",
       "  </tbody>\n",
       "</table>\n",
       "</div>"
      ],
      "text/plain": [
       "            Value\n",
       "Date             \n",
       "2014-03-31   24.0\n",
       "2014-04-01   35.0\n",
       "2014-04-04   54.0\n",
       "2014-04-11   71.0\n",
       "2014-04-16  101.0"
      ]
     },
     "execution_count": 20,
     "metadata": {},
     "output_type": "execute_result"
    }
   ],
   "source": [
    "indexDataset= df_Guinea\n",
    "indexDataset.head()"
   ]
  },
  {
   "cell_type": "code",
   "execution_count": 21,
   "metadata": {},
   "outputs": [
    {
     "data": {
      "image/png": "[encoded data removed]",
      "text/plain": [
       "<Figure size 1080x432 with 1 Axes>"
      ]
     },
     "metadata": {
      "needs_background": "light"
     },
     "output_type": "display_data"
    },
    {
     "data": {
      "image/png": "[encoded data removed]",
      "text/plain": [
       "<Figure size 1080x576 with 1 Axes>"
      ]
     },
     "metadata": {
      "needs_background": "light"
     },
     "output_type": "display_data"
    }
   ],
   "source": [
    "#plot graph.\n",
    "plt.figure(figsize=(15,6))\n",
    "plt.xlabel('Date')\n",
    "plt.ylabel('Number of Confirmed cases')\n",
    "plt.plot(indexDataset)\n",
    "\n",
    "\n",
    "# Determining rolling statistics\n",
    "rolmean = indexDataset.rolling(window=12).mean()\n",
    "rolstd = indexDataset.rolling(window=12).std()\n",
    "# print(rolmean,rolstd)\n",
    "\n",
    "# Plot rolling statistics\n",
    "\n",
    "plt.figure( figsize=(15,8))\n",
    "orig= plt.plot(indexDataset, color='blue',label='Original')\n",
    "mean= plt.plot(rolmean, color='red',label='Rolling mena')\n",
    "std= plt.plot(rolstd, color='black', label=' Rolling std')\n",
    "plt.legend(loc='best')\n",
    "plt.title('Rolling Mean & Standard Deviation')\n",
    "plt.show(block=False)"
   ]
  },
  {
   "cell_type": "code",
   "execution_count": null,
   "metadata": {},
   "outputs": [],
   "source": []
  },
  {
   "cell_type": "code",
   "execution_count": null,
   "metadata": {},
   "outputs": [],
   "source": []
  },
  {
   "cell_type": "code",
   "execution_count": 22,
   "metadata": {},
   "outputs": [
    {
     "name": "stdout",
     "output_type": "stream",
     "text": [
      "            Value\n",
      "Date             \n",
      "2014-03-31   24.0\n",
      "2014-04-01   35.0\n",
      "2014-04-04   54.0\n",
      "2014-04-11   71.0\n",
      "2014-04-16  101.0\n",
      "(210, 1)\n"
     ]
    }
   ],
   "source": [
    "print(indexDataset.head())\n",
    "print(indexDataset.shape)"
   ]
  },
  {
   "cell_type": "code",
   "execution_count": 23,
   "metadata": {},
   "outputs": [],
   "source": [
    "# Spliting Dataset into training and testing"
   ]
  },
  {
   "cell_type": "code",
   "execution_count": 24,
   "metadata": {},
   "outputs": [
    {
     "name": "stdout",
     "output_type": "stream",
     "text": [
      "(150, 1)\n",
      "(60, 1)\n"
     ]
    }
   ],
   "source": [
    "train= indexDataset.iloc[:-60]\n",
    "test= indexDataset.iloc[-60:]\n",
    "\n",
    "print(train.shape)\n",
    "print(test.shape)"
   ]
  },
  {
   "cell_type": "code",
   "execution_count": null,
   "metadata": {},
   "outputs": [],
   "source": []
  },
  {
   "cell_type": "code",
   "execution_count": 25,
   "metadata": {},
   "outputs": [
    {
     "name": "stderr",
     "output_type": "stream",
     "text": [
      "C:\\Users\\Zeeshan Haleem\\Anaconda3\\lib\\site-packages\\statsmodels\\tsa\\base\\tsa_model.py:218: ValueWarning:\n",
      "\n",
      "A date index has been provided, but it has no associated frequency information and so will be ignored when e.g. forecasting.\n",
      "\n",
      "C:\\Users\\Zeeshan Haleem\\Anaconda3\\lib\\site-packages\\statsmodels\\tsa\\base\\tsa_model.py:218: ValueWarning:\n",
      "\n",
      "A date index has been provided, but it has no associated frequency information and so will be ignored when e.g. forecasting.\n",
      "\n"
     ]
    }
   ],
   "source": [
    "# ARIMA model\n",
    "\n",
    "Guinea_model= ARIMA(train,order=(3,1,2))\n",
    "Guinea_model_fit= Guinea_model.fit()\n",
    "Guinea_forcast= Guinea_model_fit.forecast(steps=60)[0]"
   ]
  },
  {
   "cell_type": "code",
   "execution_count": null,
   "metadata": {},
   "outputs": [],
   "source": []
  },
  {
   "cell_type": "code",
   "execution_count": 26,
   "metadata": {},
   "outputs": [
    {
     "data": {
      "text/plain": [
       "344.28220120454836"
      ]
     },
     "execution_count": 26,
     "metadata": {},
     "output_type": "execute_result"
    }
   ],
   "source": [
    "# Checking the accuracy of the Model\n",
    "np.sqrt(mean_squared_error(test['Value'],Guinea_forcast))"
   ]
  },
  {
   "cell_type": "code",
   "execution_count": 27,
   "metadata": {},
   "outputs": [
    {
     "name": "stderr",
     "output_type": "stream",
     "text": [
      "C:\\Users\\Zeeshan Haleem\\Anaconda3\\lib\\site-packages\\ipykernel_launcher.py:1: SettingWithCopyWarning:\n",
      "\n",
      "\n",
      "A value is trying to be set on a copy of a slice from a DataFrame.\n",
      "Try using .loc[row_indexer,col_indexer] = value instead\n",
      "\n",
      "See the caveats in the documentation: https://pandas.pydata.org/pandas-docs/stable/user_guide/indexing.html#returning-a-view-versus-a-copy\n",
      "\n"
     ]
    },
    {
     "data": {
      "text/plain": [
       "<matplotlib.axes._subplots.AxesSubplot at 0x1cdbba48>"
      ]
     },
     "execution_count": 27,
     "metadata": {},
     "output_type": "execute_result"
    },
    {
     "data": {
      "image/png": "[encoded data removed]",
      "text/plain": [
       "<Figure size 432x288 with 1 Axes>"
      ]
     },
     "metadata": {
      "needs_background": "light"
     },
     "output_type": "display_data"
    }
   ],
   "source": [
    "test['forcast']= Guinea_forcast\n",
    "test.plot()"
   ]
  },
  {
   "cell_type": "code",
   "execution_count": null,
   "metadata": {},
   "outputs": [],
   "source": []
  },
  {
   "cell_type": "code",
   "execution_count": 28,
   "metadata": {},
   "outputs": [
    {
     "name": "stdout",
     "output_type": "stream",
     "text": [
      "Result of Dickey-Fuller Test :\n",
      "Test Statistics                 -0.973732\n",
      "p-value                          0.762724\n",
      "#Lags Used                       5.000000\n",
      "Number of Observations Used    204.000000\n",
      "Critical Value (1%)             -3.462818\n",
      "Critical Value (5%)             -2.875815\n",
      "Critical Value (10%)            -2.574379\n",
      "dtype: float64\n"
     ]
    }
   ],
   "source": [
    "# Perform Dickey Fuller test : method-1\n",
    "from statsmodels.tsa.stattools import adfuller\n",
    "print('Result of Dickey-Fuller Test :')\n",
    "dftest= adfuller(indexDataset['Value'],autolag='AIC')\n",
    "\n",
    "dfoutput= pd.Series(dftest[0:4],index=['Test Statistics','p-value','#Lags Used','Number of Observations Used'])\n",
    "\n",
    "for key, value in dftest[4].items():\n",
    "    dfoutput['Critical Value (%s)' %key]= value\n",
    "\n",
    "print(dfoutput)    \n",
    "\n",
    "\n",
    "#---------------------------------------------------------------\n",
    "# # Perform Dickey Fuller test : method-2\n",
    "# from statsmodels.tsa.stattools import adfuller\n",
    "\n",
    "# def ad_test(dataset):\n",
    "#     dftest=adfuller(dataset, autolag='AIC')\n",
    "#     print(\"1.ADF :\", dftest[0])\n",
    "#     print(\"2.P-Value :\", dftest[1])\n",
    "#     print(\"3.Num of Lags :\", dftest[2])\n",
    "#     print(\"4.Number of observations used for ADF Regressiomn and Critical value calculation :\", dftest[3])\n",
    "#     print(\"5. Critical Values :\")\n",
    "#     for key, val in dftest[4].items():\n",
    "#         print(\"\\t\", key, \":\", val)   \n",
    "\n",
    "# ad_test(indexDataset['Value'])\n",
    "    "
   ]
  },
  {
   "cell_type": "raw",
   "metadata": {},
   "source": [
    "Hypothesis setting:\n",
    "\n",
    "H0: Non-Stationary\n",
    "H1: Stationary\n",
    "\n",
    "We see that the p-value is greater than 0.05 so we cannot reject the Null hypothesis. Also, the test statistics is greater than the critical values. so the data is non-stationary."
   ]
  },
  {
   "cell_type": "code",
   "execution_count": 29,
   "metadata": {},
   "outputs": [
    {
     "data": {
      "text/plain": [
       "[<matplotlib.lines.Line2D at 0x1dc84888>]"
      ]
     },
     "execution_count": 29,
     "metadata": {},
     "output_type": "execute_result"
    },
    {
     "data": {
      "image/png": "[encoded data removed]",
      "text/plain": [
       "<Figure size 432x288 with 1 Axes>"
      ]
     },
     "metadata": {
      "needs_background": "light"
     },
     "output_type": "display_data"
    }
   ],
   "source": [
    "# Now taking log\n",
    "\n",
    "df_log= np.log(indexDataset)\n",
    "plt.plot(df_log)"
   ]
  },
  {
   "cell_type": "code",
   "execution_count": null,
   "metadata": {},
   "outputs": [],
   "source": []
  },
  {
   "cell_type": "code",
   "execution_count": null,
   "metadata": {},
   "outputs": [],
   "source": []
  },
  {
   "cell_type": "code",
   "execution_count": 30,
   "metadata": {},
   "outputs": [],
   "source": [
    "# Let's create a function which determine wheather a the given time series is stationary\n",
    "\n",
    "def check_stationarity(dataset):\n",
    "    \n",
    "    # rolling statistics\n",
    "    rolling_mean = dataset.rolling(window=2).mean()\n",
    "    rollingh_std = dataset.rolling(window=2).std()\n",
    "    \n",
    "    # rolling plot\n",
    "    original =plt.plot(dataset, color='blue', label='Original')\n",
    "    mean= plt.plot( rolling_mean, color='red', label='Rolling Mean')\n",
    "    std= plt.plot(rollingh_std, color='black', label='Rolling std')\n",
    "    plt.legend(loc='best')\n",
    "    plt.title('Rolling Mean & Std Deviation')\n",
    "    plt.grid()\n",
    "    plt.show(block=False)\n",
    "    \n",
    "    # Dickey-Fuller test:\n",
    "    result= adfuller( dataset['Value'])\n",
    "    print('ADF Statistics:{}'.format(result[0]))\n",
    "    print('p-value: {}'.format(result[1]))\n",
    "    print('# Lag Used: {}'.format(result[2]))\n",
    "    print('Critical Values:')\n",
    "    \n",
    "    for key, value in result[4].items():\n",
    "        print('\\t{}:{}'.format(key, value))\n",
    "\n",
    "    \n"
   ]
  },
  {
   "cell_type": "raw",
   "metadata": {},
   "source": [
    "As we can see, after subtracting the mean, the rolling mean and standard deviation are approximately horizontal. The p-value is below the threshold of 0.05 and the ADF Statistic is close to the critical values. Therefore, the time series is stationary."
   ]
  },
  {
   "cell_type": "code",
   "execution_count": 40,
   "metadata": {},
   "outputs": [
    {
     "data": {
      "image/png": "[encoded data removed]",
      "text/plain": [
       "<Figure size 432x288 with 1 Axes>"
      ]
     },
     "metadata": {
      "needs_background": "light"
     },
     "output_type": "display_data"
    },
    {
     "name": "stdout",
     "output_type": "stream",
     "text": [
      "ADF Statistics:-3.216526467972289\n",
      "p-value: 0.019047771878463918\n",
      "# Lag Used: 15\n",
      "Critical Values:\n",
      "\t1%:-3.4646940755442612\n",
      "\t5%:-2.8766348847254934\n",
      "\t10%:-2.5748163958763994\n"
     ]
    }
   ],
   "source": [
    "rolling_mean = df_log.rolling(window=2).mean()\n",
    "df_log_minus_mean = df_log-rolling_mean\n",
    "df_log_minus_mean.dropna(inplace=True)\n",
    "\n",
    "check_stationarity(df_log_minus_mean)"
   ]
  },
  {
   "cell_type": "code",
   "execution_count": null,
   "metadata": {},
   "outputs": [],
   "source": []
  },
  {
   "cell_type": "code",
   "execution_count": null,
   "metadata": {},
   "outputs": [],
   "source": [
    "# # Now applying Exponential decay method to check stationarity\n",
    "\n",
    "# rolling_mean_exp_decay = df_log.ewm(halflife=2, min_periods=0, adjust=True).mean()\n",
    "# df_log_exp_decay= df_log- rolling_mean_exp_decay\n",
    "\n",
    "# df_log_exp_decay.dropna(inplace=True)\n",
    "\n",
    "# check_stationarity(df_log_exp_decay)\n",
    "\n",
    "#-----------------------------------------------------------\n",
    "## Now applying time shifting method to check stationarity\n",
    "\n",
    "# df_log_shift= df_log- df_log.shift()\n",
    "# df_log_shift.dropna(inplace=True)\n",
    "\n",
    "# check_stationarity(df_log_shift)\n",
    "\n"
   ]
  },
  {
   "cell_type": "code",
   "execution_count": null,
   "metadata": {},
   "outputs": [],
   "source": [
    "df_log_minus_mean.head()"
   ]
  },
  {
   "cell_type": "code",
   "execution_count": null,
   "metadata": {},
   "outputs": [],
   "source": []
  },
  {
   "cell_type": "code",
   "execution_count": null,
   "metadata": {},
   "outputs": [],
   "source": [
    "# Figure out Order for ARIMA Model using auto-arima\n",
    "\n",
    "from pmdarima import auto_arima\n",
    "# ignore harmless warning\n",
    "import warnings\n",
    "warnings.filterwarnings(\"ignore\")"
   ]
  },
  {
   "cell_type": "code",
   "execution_count": 50,
   "metadata": {},
   "outputs": [
    {
     "name": "stdout",
     "output_type": "stream",
     "text": [
      "Performing stepwise search to minimize aic\n",
      "Fit ARIMA(2,1,2)x(0,0,0,0) [intercept=True]; AIC=2406.939, BIC=2426.993, Time=0.454 seconds\n",
      "Fit ARIMA(0,1,0)x(0,0,0,0) [intercept=True]; AIC=2489.062, BIC=2495.747, Time=0.015 seconds\n",
      "Fit ARIMA(1,1,0)x(0,0,0,0) [intercept=True]; AIC=2435.616, BIC=2445.643, Time=0.066 seconds\n",
      "Fit ARIMA(0,1,1)x(0,0,0,0) [intercept=True]; AIC=2401.129, BIC=2411.156, Time=0.158 seconds\n",
      "Fit ARIMA(0,1,0)x(0,0,0,0) [intercept=False]; AIC=2491.509, BIC=2494.851, Time=0.012 seconds\n",
      "Fit ARIMA(1,1,1)x(0,0,0,0) [intercept=True]; AIC=2402.956, BIC=2416.325, Time=0.219 seconds\n",
      "Fit ARIMA(0,1,2)x(0,0,0,0) [intercept=True]; AIC=2402.945, BIC=2416.314, Time=0.227 seconds\n",
      "Fit ARIMA(1,1,2)x(0,0,0,0) [intercept=True]; AIC=2405.095, BIC=2421.807, Time=0.240 seconds\n",
      "Near non-invertible roots for order (1, 1, 2)(0, 0, 0, 0); setting score to inf (at least one inverse root too close to the border of the unit circle: 0.999)\n",
      "Total fit time: 1.403 seconds\n"
     ]
    }
   ],
   "source": [
    "stepwise_fit = auto_arima(indexDataset['Value'], trace= True, suppress_warnings=True)"
   ]
  },
  {
   "cell_type": "code",
   "execution_count": 51,
   "metadata": {},
   "outputs": [
    {
     "data": {
      "text/html": [
       "<table class=\"simpletable\">\n",
       "<caption>SARIMAX Results</caption>\n",
       "<tr>\n",
       "  <th>Dep. Variable:</th>           <td>y</td>        <th>  No. Observations:  </th>    <td>210</td>   \n",
       "</tr>\n",
       "<tr>\n",
       "  <th>Model:</th>           <td>SARIMAX(0, 1, 1)</td> <th>  Log Likelihood     </th> <td>-1197.564</td>\n",
       "</tr>\n",
       "<tr>\n",
       "  <th>Date:</th>            <td>Tue, 08 Dec 2020</td> <th>  AIC                </th> <td>2401.129</td> \n",
       "</tr>\n",
       "<tr>\n",
       "  <th>Time:</th>                <td>23:19:34</td>     <th>  BIC                </th> <td>2411.156</td> \n",
       "</tr>\n",
       "<tr>\n",
       "  <th>Sample:</th>                  <td>0</td>        <th>  HQIC               </th> <td>2405.183</td> \n",
       "</tr>\n",
       "<tr>\n",
       "  <th></th>                      <td> - 210</td>      <th>                     </th>     <td> </td>    \n",
       "</tr>\n",
       "<tr>\n",
       "  <th>Covariance Type:</th>        <td>opg</td>       <th>                     </th>     <td> </td>    \n",
       "</tr>\n",
       "</table>\n",
       "<table class=\"simpletable\">\n",
       "<tr>\n",
       "      <td></td>         <th>coef</th>     <th>std err</th>      <th>z</th>      <th>P>|z|</th>  <th>[0.025</th>    <th>0.975]</th>  \n",
       "</tr>\n",
       "<tr>\n",
       "  <th>intercept</th> <td>   13.6129</td> <td>    2.585</td> <td>    5.266</td> <td> 0.000</td> <td>    8.546</td> <td>   18.680</td>\n",
       "</tr>\n",
       "<tr>\n",
       "  <th>ma.L1</th>     <td>   -0.7122</td> <td>    0.026</td> <td>  -26.979</td> <td> 0.000</td> <td>   -0.764</td> <td>   -0.660</td>\n",
       "</tr>\n",
       "<tr>\n",
       "  <th>sigma2</th>    <td> 5534.0139</td> <td>  155.584</td> <td>   35.569</td> <td> 0.000</td> <td> 5229.075</td> <td> 5838.953</td>\n",
       "</tr>\n",
       "</table>\n",
       "<table class=\"simpletable\">\n",
       "<tr>\n",
       "  <th>Ljung-Box (Q):</th>          <td>14.94</td> <th>  Jarque-Bera (JB):  </th> <td>72349.60</td>\n",
       "</tr>\n",
       "<tr>\n",
       "  <th>Prob(Q):</th>                <td>1.00</td>  <th>  Prob(JB):          </th>   <td>0.00</td>  \n",
       "</tr>\n",
       "<tr>\n",
       "  <th>Heteroskedasticity (H):</th> <td>5.18</td>  <th>  Skew:              </th>   <td>-7.07</td> \n",
       "</tr>\n",
       "<tr>\n",
       "  <th>Prob(H) (two-sided):</th>    <td>0.00</td>  <th>  Kurtosis:          </th>   <td>93.05</td> \n",
       "</tr>\n",
       "</table><br/><br/>Warnings:<br/>[1] Covariance matrix calculated using the outer product of gradients (complex-step)."
      ],
      "text/plain": [
       "<class 'statsmodels.iolib.summary.Summary'>\n",
       "\"\"\"\n",
       "                               SARIMAX Results                                \n",
       "==============================================================================\n",
       "Dep. Variable:                      y   No. Observations:                  210\n",
       "Model:               SARIMAX(0, 1, 1)   Log Likelihood               -1197.564\n",
       "Date:                Tue, 08 Dec 2020   AIC                           2401.129\n",
       "Time:                        23:19:34   BIC                           2411.156\n",
       "Sample:                             0   HQIC                          2405.183\n",
       "                                - 210                                         \n",
       "Covariance Type:                  opg                                         \n",
       "==============================================================================\n",
       "                 coef    std err          z      P>|z|      [0.025      0.975]\n",
       "------------------------------------------------------------------------------\n",
       "intercept     13.6129      2.585      5.266      0.000       8.546      18.680\n",
       "ma.L1         -0.7122      0.026    -26.979      0.000      -0.764      -0.660\n",
       "sigma2      5534.0139    155.584     35.569      0.000    5229.075    5838.953\n",
       "===================================================================================\n",
       "Ljung-Box (Q):                       14.94   Jarque-Bera (JB):             72349.60\n",
       "Prob(Q):                              1.00   Prob(JB):                         0.00\n",
       "Heteroskedasticity (H):               5.18   Skew:                            -7.07\n",
       "Prob(H) (two-sided):                  0.00   Kurtosis:                        93.05\n",
       "===================================================================================\n",
       "\n",
       "Warnings:\n",
       "[1] Covariance matrix calculated using the outer product of gradients (complex-step).\n",
       "\"\"\""
      ]
     },
     "execution_count": 51,
     "metadata": {},
     "output_type": "execute_result"
    }
   ],
   "source": [
    "stepwise_fit.summary()"
   ]
  },
  {
   "cell_type": "code",
   "execution_count": 34,
   "metadata": {},
   "outputs": [
    {
     "data": {
      "text/plain": [
       "(210, 1)"
      ]
     },
     "execution_count": 34,
     "metadata": {},
     "output_type": "execute_result"
    }
   ],
   "source": [
    "indexDataset.shape"
   ]
  },
  {
   "cell_type": "code",
   "execution_count": 35,
   "metadata": {},
   "outputs": [
    {
     "name": "stdout",
     "output_type": "stream",
     "text": [
      "(210, 1)\n",
      "(150, 1) (60, 1)\n"
     ]
    }
   ],
   "source": [
    "# # Now Modeling\n",
    "# from statsmodels.tsa.arima_model import ARIMA\n",
    "\n",
    "# print(indexDataset.shape)\n",
    "# train=indexDataset.iloc[:-60]\n",
    "# test=indexDataset.iloc[-60:]\n",
    "\n",
    "# print(train.shape, test.shape)\n"
   ]
  },
  {
   "cell_type": "code",
   "execution_count": 97,
   "metadata": {},
   "outputs": [
    {
     "name": "stderr",
     "output_type": "stream",
     "text": [
      "C:\\Users\\Zeeshan Haleem\\Anaconda3\\lib\\site-packages\\statsmodels\\tsa\\base\\tsa_model.py:218: ValueWarning:\n",
      "\n",
      "A date index has been provided, but it has no associated frequency information and so will be ignored when e.g. forecasting.\n",
      "\n",
      "C:\\Users\\Zeeshan Haleem\\Anaconda3\\lib\\site-packages\\statsmodels\\tsa\\base\\tsa_model.py:218: ValueWarning:\n",
      "\n",
      "A date index has been provided, but it has no associated frequency information and so will be ignored when e.g. forecasting.\n",
      "\n"
     ]
    }
   ],
   "source": [
    "model= ARIMA(df_log, order=(0,1,12))\n",
    "\n",
    "result_ARIMA = model.fit( disp=1)"
   ]
  },
  {
   "cell_type": "code",
   "execution_count": 98,
   "metadata": {},
   "outputs": [
    {
     "name": "stdout",
     "output_type": "stream",
     "text": [
      "Date\n",
      "2014-04-01    0.032163\n",
      "2014-04-04    0.168765\n",
      "2014-04-11    0.271375\n",
      "2014-04-16    0.302270\n",
      "2014-04-17    0.280057\n",
      "dtype: float64\n"
     ]
    }
   ],
   "source": [
    "# # Train the Model\n",
    "\n",
    "# model= ARIMA( train['Value'], order=(0,1,1))\n",
    "# model_fit= model.fit()\n",
    "# model_fit.summary()\n",
    "\n",
    "# # Now forcasting\n",
    "# model_forcast= model_fit.forecast(steps=60)[0]\n",
    "\n",
    "predictions_ARIMA_dff = pd.Series(result_ARIMA.fittedvalues,copy=True)\n",
    "\n",
    "print(predictions_ARIMA_dff.head())"
   ]
  },
  {
   "cell_type": "code",
   "execution_count": 99,
   "metadata": {},
   "outputs": [
    {
     "name": "stdout",
     "output_type": "stream",
     "text": [
      "Date\n",
      "2014-04-01    0.032163\n",
      "2014-04-04    0.200928\n",
      "2014-04-11    0.472303\n",
      "2014-04-16    0.774574\n",
      "2014-04-17    1.054630\n",
      "dtype: float64\n"
     ]
    }
   ],
   "source": [
    "# Convert to cumulative sum\n",
    "predictions_ARIMA_dff_cusum= predictions_ARIMA_dff.cumsum()\n",
    "print(predictions_ARIMA_dff_cusum.head())"
   ]
  },
  {
   "cell_type": "code",
   "execution_count": null,
   "metadata": {},
   "outputs": [],
   "source": []
  },
  {
   "cell_type": "code",
   "execution_count": 100,
   "metadata": {},
   "outputs": [
    {
     "data": {
      "text/plain": [
       "Date\n",
       "2014-03-31    3.178054\n",
       "2014-04-01    3.210217\n",
       "2014-04-04    3.378982\n",
       "2014-04-11    3.650357\n",
       "2014-04-16    3.952628\n",
       "dtype: float64"
      ]
     },
     "execution_count": 100,
     "metadata": {},
     "output_type": "execute_result"
    }
   ],
   "source": [
    "predictions_ARIMA_log=pd.Series(df_log['Value'].iloc[0], index= df_log.index)\n",
    "predictions_ARIMA_log= predictions_ARIMA_log.add(predictions_ARIMA_dff_cusum, fill_value=0)\n",
    "predictions_ARIMA_log.head()"
   ]
  },
  {
   "cell_type": "code",
   "execution_count": 101,
   "metadata": {},
   "outputs": [
    {
     "data": {
      "text/plain": [
       "[<matplotlib.lines.Line2D at 0x1df13b48>]"
      ]
     },
     "execution_count": 101,
     "metadata": {},
     "output_type": "execute_result"
    },
    {
     "data": {
      "image/png": "[encoded data removed]",
      "text/plain": [
       "<Figure size 432x288 with 1 Axes>"
      ]
     },
     "metadata": {
      "needs_background": "light"
     },
     "output_type": "display_data"
    }
   ],
   "source": [
    "predictions_ARIMA= np.exp(predictions_ARIMA_log)\n",
    "plt.plot(indexDataset)\n",
    "plt.plot(predictions_ARIMA)"
   ]
  },
  {
   "cell_type": "code",
   "execution_count": null,
   "metadata": {},
   "outputs": [],
   "source": []
  },
  {
   "cell_type": "code",
   "execution_count": 81,
   "metadata": {},
   "outputs": [
    {
     "name": "stdout",
     "output_type": "stream",
     "text": [
      "336.5741339029237\n"
     ]
    }
   ],
   "source": [
    "# Now Ckecking the accuracy of ARIMA model\n",
    "from sklearn.metrics import mean_squared_error\n",
    "from math import sqrt\n",
    "rmse= sqrt(mean_squared_error(model_forcast, test['Value']))\n",
    "print(rmse)"
   ]
  },
  {
   "cell_type": "code",
   "execution_count": null,
   "metadata": {},
   "outputs": [],
   "source": []
  },
  {
   "cell_type": "code",
   "execution_count": 38,
   "metadata": {},
   "outputs": [],
   "source": [
    "# Now Converting forcatsted values into dataframe\n",
    "model_forcast=pd.DataFrame(model_forcast, index=test.index)"
   ]
  },
  {
   "cell_type": "code",
   "execution_count": null,
   "metadata": {},
   "outputs": [],
   "source": []
  },
  {
   "cell_type": "code",
   "execution_count": 39,
   "metadata": {},
   "outputs": [
    {
     "data": {
      "image/png": "[encoded data removed]",
      "text/plain": [
       "<Figure size 864x360 with 1 Axes>"
      ]
     },
     "metadata": {
      "needs_background": "light"
     },
     "output_type": "display_data"
    }
   ],
   "source": [
    "# Plotting the graph between traing, testing and Forcasted values\n",
    "\n",
    "plt.figure(figsize=(12,5))\n",
    "plt.plot(train, label='Training')\n",
    "\n",
    "plt.plot(test, label='Testing')\n",
    "plt.plot(model_forcast, label='Forcasted Trend')\n",
    "plt.title('Forcasting Ebola_cases using ARIMA_Model',fontdict={'fontsize':20,'fontweight' :1})\n",
    "plt.xlabel('Date',fontdict={'fontsize':10,'fontweight' :1})\n",
    "plt.ylabel('Number of Confirmed Cases',fontdict={'fontsize':10,'fontweight' :1})\n",
    "\n",
    "plt.legend()\n",
    "plt.grid()\n",
    "\n"
   ]
  },
  {
   "cell_type": "code",
   "execution_count": null,
   "metadata": {},
   "outputs": [],
   "source": []
  },
  {
   "cell_type": "code",
   "execution_count": null,
   "metadata": {},
   "outputs": [],
   "source": []
  },
  {
   "cell_type": "code",
   "execution_count": null,
   "metadata": {},
   "outputs": [],
   "source": []
  },
  {
   "cell_type": "code",
   "execution_count": 99,
   "metadata": {
    "collapsed": true
   },
   "outputs": [
    {
     "name": "stdout",
     "output_type": "stream",
     "text": [
      "Date\n",
      "2014-12-31   -0.000385\n",
      "2015-01-01   -0.001244\n",
      "2015-01-02   -0.002320\n",
      "2015-01-03   -0.003335\n",
      "2015-01-04   -0.004367\n",
      "2015-01-05   -0.005394\n",
      "2015-01-07   -0.006422\n",
      "2015-01-08   -0.007450\n",
      "2015-01-09   -0.008478\n",
      "2015-01-10   -0.009506\n",
      "2015-01-11   -0.010534\n",
      "2015-01-13   -0.011562\n",
      "2015-01-14   -0.012590\n",
      "2015-01-15   -0.013618\n",
      "2015-01-16   -0.014646\n",
      "2015-01-17   -0.015674\n",
      "2015-01-18   -0.016702\n",
      "2015-01-19   -0.017730\n",
      "2015-01-20   -0.018758\n",
      "2015-01-21   -0.019786\n",
      "2015-01-22   -0.020815\n",
      "2015-01-22   -0.021843\n",
      "2015-01-23   -0.022871\n",
      "2015-01-24   -0.023899\n",
      "2015-01-25   -0.024927\n",
      "2015-01-26   -0.025955\n",
      "2015-01-27   -0.026983\n",
      "2015-01-28   -0.028011\n",
      "2015-01-29   -0.029039\n",
      "2015-01-30   -0.030067\n",
      "2015-01-31   -0.031095\n",
      "2015-01-31   -0.032123\n",
      "2015-02-01   -0.033151\n",
      "2015-02-02   -0.034179\n",
      "2015-02-03   -0.035207\n",
      "2015-02-04   -0.036235\n",
      "2015-02-05   -0.037263\n",
      "2015-02-06   -0.038291\n",
      "2015-02-07   -0.039319\n",
      "2015-02-10   -0.040347\n",
      "2015-02-11   -0.041375\n",
      "2015-02-12   -0.042404\n",
      "2015-02-13   -0.043432\n",
      "2015-02-14   -0.044460\n",
      "2015-02-16   -0.045488\n",
      "2015-02-17   -0.046516\n",
      "2015-02-18   -0.047544\n",
      "2015-02-19   -0.048572\n",
      "2015-02-20   -0.049600\n",
      "2015-02-21   -0.050628\n",
      "2015-02-24   -0.051656\n",
      "2015-02-25   -0.052684\n",
      "2015-02-26   -0.053712\n",
      "2015-02-27   -0.054740\n",
      "2015-02-28   -0.055768\n",
      "2015-03-01   -0.056796\n",
      "2015-03-02   -0.057824\n",
      "2015-03-03   -0.058852\n",
      "2015-03-04   -0.059880\n",
      "2015-03-05   -0.060908\n",
      "dtype: float64\n"
     ]
    }
   ],
   "source": [
    "# Now Making Prediction  on Test set\n",
    "start = len(train)\n",
    "end= len(train)+len(test)-1\n",
    "pred= model.predict(start=start, end= end, typ='levels')\n",
    "pred.index=df_log.index[start:end+1]\n",
    "print(pred)"
   ]
  },
  {
   "cell_type": "code",
   "execution_count": null,
   "metadata": {},
   "outputs": [],
   "source": []
  },
  {
   "cell_type": "code",
   "execution_count": null,
   "metadata": {},
   "outputs": [],
   "source": []
  },
  {
   "cell_type": "code",
   "execution_count": 100,
   "metadata": {},
   "outputs": [
    {
     "data": {
      "text/plain": [
       "<matplotlib.axes._subplots.AxesSubplot at 0x28330888>"
      ]
     },
     "execution_count": 100,
     "metadata": {},
     "output_type": "execute_result"
    },
    {
     "data": {
      "image/png": "[encoded data removed]",
      "text/plain": [
       "<Figure size 1080x432 with 1 Axes>"
      ]
     },
     "metadata": {
      "needs_background": "light"
     },
     "output_type": "display_data"
    }
   ],
   "source": [
    "# Now plotting the predicted values\n",
    "plt.figure(figsize=(15,6))\n",
    "pred.plot(legend=True, label='Predicted values' )\n",
    "df_Guinea['Value'].plot(legend=True, label='True values')"
   ]
  },
  {
   "cell_type": "code",
   "execution_count": 56,
   "metadata": {},
   "outputs": [
    {
     "name": "stdout",
     "output_type": "stream",
     "text": [
      "0.03731550250909729\n"
     ]
    }
   ],
   "source": [
    "# Now Ckecking the accuracy of ARIMA model\n",
    "from sklearn.metrics import mean_squared_error\n",
    "from math import sqrt\n",
    "rmse= sqrt(mean_squared_error(pred, test['Value']))\n",
    "print(rmse)"
   ]
  },
  {
   "cell_type": "markdown",
   "metadata": {},
   "source": [
    "# Now Applying SVR Model to predict the Ebola Virus"
   ]
  },
  {
   "cell_type": "code",
   "execution_count": 22,
   "metadata": {},
   "outputs": [
    {
     "data": {
      "text/html": [
       "<div>\n",
       "<style scoped>\n",
       "    .dataframe tbody tr th:only-of-type {\n",
       "        vertical-align: middle;\n",
       "    }\n",
       "\n",
       "    .dataframe tbody tr th {\n",
       "        vertical-align: top;\n",
       "    }\n",
       "\n",
       "    .dataframe thead th {\n",
       "        text-align: right;\n",
       "    }\n",
       "</style>\n",
       "<table border=\"1\" class=\"dataframe\">\n",
       "  <thead>\n",
       "    <tr style=\"text-align: right;\">\n",
       "      <th></th>\n",
       "      <th>Date</th>\n",
       "      <th>Value</th>\n",
       "    </tr>\n",
       "  </thead>\n",
       "  <tbody>\n",
       "    <tr>\n",
       "      <th>0</th>\n",
       "      <td>2014-03-31</td>\n",
       "      <td>24.0</td>\n",
       "    </tr>\n",
       "    <tr>\n",
       "      <th>1</th>\n",
       "      <td>2014-04-01</td>\n",
       "      <td>35.0</td>\n",
       "    </tr>\n",
       "    <tr>\n",
       "      <th>2</th>\n",
       "      <td>2014-04-04</td>\n",
       "      <td>54.0</td>\n",
       "    </tr>\n",
       "    <tr>\n",
       "      <th>3</th>\n",
       "      <td>2014-04-11</td>\n",
       "      <td>71.0</td>\n",
       "    </tr>\n",
       "    <tr>\n",
       "      <th>4</th>\n",
       "      <td>2014-04-16</td>\n",
       "      <td>101.0</td>\n",
       "    </tr>\n",
       "    <tr>\n",
       "      <th>...</th>\n",
       "      <td>...</td>\n",
       "      <td>...</td>\n",
       "    </tr>\n",
       "    <tr>\n",
       "      <th>205</th>\n",
       "      <td>2015-03-02</td>\n",
       "      <td>2827.0</td>\n",
       "    </tr>\n",
       "    <tr>\n",
       "      <th>206</th>\n",
       "      <td>2015-03-03</td>\n",
       "      <td>2833.0</td>\n",
       "    </tr>\n",
       "    <tr>\n",
       "      <th>207</th>\n",
       "      <td>2015-03-04</td>\n",
       "      <td>2840.0</td>\n",
       "    </tr>\n",
       "    <tr>\n",
       "      <th>208</th>\n",
       "      <td>2015-03-05</td>\n",
       "      <td>2850.0</td>\n",
       "    </tr>\n",
       "    <tr>\n",
       "      <th>209</th>\n",
       "      <td>2015-03-06</td>\n",
       "      <td>2856.0</td>\n",
       "    </tr>\n",
       "  </tbody>\n",
       "</table>\n",
       "<p>210 rows × 2 columns</p>\n",
       "</div>"
      ],
      "text/plain": [
       "          Date   Value\n",
       "0   2014-03-31    24.0\n",
       "1   2014-04-01    35.0\n",
       "2   2014-04-04    54.0\n",
       "3   2014-04-11    71.0\n",
       "4   2014-04-16   101.0\n",
       "..         ...     ...\n",
       "205 2015-03-02  2827.0\n",
       "206 2015-03-03  2833.0\n",
       "207 2015-03-04  2840.0\n",
       "208 2015-03-05  2850.0\n",
       "209 2015-03-06  2856.0\n",
       "\n",
       "[210 rows x 2 columns]"
      ]
     },
     "execution_count": 22,
     "metadata": {},
     "output_type": "execute_result"
    }
   ],
   "source": [
    "df_SVR= df_Guinea.reset_index()\n",
    "df_SVR"
   ]
  },
  {
   "cell_type": "code",
   "execution_count": null,
   "metadata": {},
   "outputs": [],
   "source": [
    "# df['Year']=df.Date.dt.year\n",
    "# df['Month_name']=df.Date.dt.month_name()\n",
    "# df['Day_name']=df.Date.dt.day_name()\n",
    "# df['Month']=df.Date.dt.month\n",
    "# df['Week']=df.Date.dt.week\n",
    "# df['Day_of_year']= df.Date.dt.dayofyear\n"
   ]
  },
  {
   "cell_type": "code",
   "execution_count": null,
   "metadata": {},
   "outputs": [],
   "source": []
  },
  {
   "cell_type": "code",
   "execution_count": 43,
   "metadata": {},
   "outputs": [],
   "source": [
    "df_SVR['No_of_Days']=df_SVR.index.values+1"
   ]
  },
  {
   "cell_type": "code",
   "execution_count": 50,
   "metadata": {},
   "outputs": [
    {
     "data": {
      "text/html": [
       "<div>\n",
       "<style scoped>\n",
       "    .dataframe tbody tr th:only-of-type {\n",
       "        vertical-align: middle;\n",
       "    }\n",
       "\n",
       "    .dataframe tbody tr th {\n",
       "        vertical-align: top;\n",
       "    }\n",
       "\n",
       "    .dataframe thead th {\n",
       "        text-align: right;\n",
       "    }\n",
       "</style>\n",
       "<table border=\"1\" class=\"dataframe\">\n",
       "  <thead>\n",
       "    <tr style=\"text-align: right;\">\n",
       "      <th></th>\n",
       "      <th>Date</th>\n",
       "      <th>Value</th>\n",
       "      <th>No_of_Days</th>\n",
       "    </tr>\n",
       "  </thead>\n",
       "  <tbody>\n",
       "    <tr>\n",
       "      <th>0</th>\n",
       "      <td>2014-03-31</td>\n",
       "      <td>24.0</td>\n",
       "      <td>1</td>\n",
       "    </tr>\n",
       "    <tr>\n",
       "      <th>1</th>\n",
       "      <td>2014-04-01</td>\n",
       "      <td>35.0</td>\n",
       "      <td>2</td>\n",
       "    </tr>\n",
       "    <tr>\n",
       "      <th>2</th>\n",
       "      <td>2014-04-04</td>\n",
       "      <td>54.0</td>\n",
       "      <td>3</td>\n",
       "    </tr>\n",
       "    <tr>\n",
       "      <th>3</th>\n",
       "      <td>2014-04-11</td>\n",
       "      <td>71.0</td>\n",
       "      <td>4</td>\n",
       "    </tr>\n",
       "    <tr>\n",
       "      <th>4</th>\n",
       "      <td>2014-04-16</td>\n",
       "      <td>101.0</td>\n",
       "      <td>5</td>\n",
       "    </tr>\n",
       "    <tr>\n",
       "      <th>...</th>\n",
       "      <td>...</td>\n",
       "      <td>...</td>\n",
       "      <td>...</td>\n",
       "    </tr>\n",
       "    <tr>\n",
       "      <th>205</th>\n",
       "      <td>2015-03-02</td>\n",
       "      <td>2827.0</td>\n",
       "      <td>206</td>\n",
       "    </tr>\n",
       "    <tr>\n",
       "      <th>206</th>\n",
       "      <td>2015-03-03</td>\n",
       "      <td>2833.0</td>\n",
       "      <td>207</td>\n",
       "    </tr>\n",
       "    <tr>\n",
       "      <th>207</th>\n",
       "      <td>2015-03-04</td>\n",
       "      <td>2840.0</td>\n",
       "      <td>208</td>\n",
       "    </tr>\n",
       "    <tr>\n",
       "      <th>208</th>\n",
       "      <td>2015-03-05</td>\n",
       "      <td>2850.0</td>\n",
       "      <td>209</td>\n",
       "    </tr>\n",
       "    <tr>\n",
       "      <th>209</th>\n",
       "      <td>2015-03-06</td>\n",
       "      <td>2856.0</td>\n",
       "      <td>210</td>\n",
       "    </tr>\n",
       "  </tbody>\n",
       "</table>\n",
       "<p>210 rows × 3 columns</p>\n",
       "</div>"
      ],
      "text/plain": [
       "          Date   Value  No_of_Days\n",
       "0   2014-03-31    24.0           1\n",
       "1   2014-04-01    35.0           2\n",
       "2   2014-04-04    54.0           3\n",
       "3   2014-04-11    71.0           4\n",
       "4   2014-04-16   101.0           5\n",
       "..         ...     ...         ...\n",
       "205 2015-03-02  2827.0         206\n",
       "206 2015-03-03  2833.0         207\n",
       "207 2015-03-04  2840.0         208\n",
       "208 2015-03-05  2850.0         209\n",
       "209 2015-03-06  2856.0         210\n",
       "\n",
       "[210 rows x 3 columns]"
      ]
     },
     "execution_count": 50,
     "metadata": {},
     "output_type": "execute_result"
    }
   ],
   "source": [
    "df_SVR"
   ]
  },
  {
   "cell_type": "code",
   "execution_count": 47,
   "metadata": {},
   "outputs": [],
   "source": [
    "Days=[]\n",
    "Confirmed_cases =[]\n",
    "\n",
    "\n",
    "# Now Creating independent Dataset for Days\n",
    "\n",
    "for day in df_SVR.No_of_Days:\n",
    "    Days.append(day)\n",
    "    \n",
    "# Now Creating independent Dataset for Confirmed Cases\n",
    "\n",
    "for case in df_SVR.Value:\n",
    "    Confirmed_cases.append(case)"
   ]
  },
  {
   "cell_type": "code",
   "execution_count": null,
   "metadata": {},
   "outputs": [],
   "source": []
  },
  {
   "cell_type": "code",
   "execution_count": 51,
   "metadata": {},
   "outputs": [],
   "source": [
    "from sklearn.svm import SVR\n",
    "from sklearn.linear_model import LinearRegression\n",
    "import matplotlib.pyplot as plt"
   ]
  },
  {
   "cell_type": "code",
   "execution_count": 64,
   "metadata": {},
   "outputs": [],
   "source": [
    "# Now Predicting the Confirmed Cases using Multiple Model\n",
    "\n",
    "def predict_cases(Days,Confirmed_cases,x):\n",
    "    \n",
    "    # Create the 3 Support Vector Regression Models\n",
    "    \n",
    "    svr_lin=SVR(kernel='linear',C=1e3)\n",
    "    svr_poly=SVR(kernel='poly',C=1e3, degree=2)\n",
    "    svr_rbf=SVR(kernel='rbf',C=1e3,gamma=0.1)\n",
    "    \n",
    "    # Train the SVR models\n",
    "    svr_lin.fit(Days,Confirmed_cases)\n",
    "    svr_poly.fit(Days,Confirmed_cases)\n",
    "    svr_rbf.fit(Days,Confirmed_cases)\n",
    "    \n",
    "    # Create the Linear Regression model\n",
    "\n",
    "    lin_reg= LinearRegression()\n",
    "    \n",
    "#     Train the linear Regression model\n",
    "    \n",
    "    lin_reg.fit(Days,Confirmed_cases)\n",
    "    \n",
    "    plt.figure(figsize=(15,8))\n",
    "    \n",
    "    plt.scatter(Days,Confirmed_cases, color='black', label='Date')\n",
    "\n",
    "    plt.plot(Days, svr_rbf.predict(Days),color='red', label='SVR_RBF')\n",
    "    plt.plot(Days, svr_poly.predict(Days),color='blue', label='SVR_poly')\n",
    "    plt.plot(Days, svr_lin.predict(Days),color='green', label='SVR_linear')\n",
    "    plt.plot(Days, lin_reg.predict(Days),color='orange', label='linear-reg')\n",
    "\n",
    "    plt.xlabel('Days')\n",
    "    plt.ylabel('Confirmed_cases')\n",
    "    plt.title('Regression')\n",
    "    plt.legend()\n",
    "    plt.show()\n",
    "\n",
    "    return svr_rbf.predict(x)[0],svr_lin.predict(x)[0],svr_poly.predict(x)[0],lin_reg.predict(x)[0]\n",
    "\n",
    "    \n",
    "    "
   ]
  },
  {
   "cell_type": "code",
   "execution_count": 65,
   "metadata": {},
   "outputs": [
    {
     "ename": "NameError",
     "evalue": "name 'svr_lin' is not defined",
     "output_type": "error",
     "traceback": [
      "\u001b[1;31m---------------------------------------------------------------------------\u001b[0m",
      "\u001b[1;31mNameError\u001b[0m                                 Traceback (most recent call last)",
      "\u001b[1;32m<ipython-input-65-623af48d52fc>\u001b[0m in \u001b[0;36m<module>\u001b[1;34m\u001b[0m\n\u001b[0;32m      1\u001b[0m \u001b[1;31m# predict the price of on 28 days\u001b[0m\u001b[1;33m\u001b[0m\u001b[1;33m\u001b[0m\u001b[1;33m\u001b[0m\u001b[0m\n\u001b[1;32m----> 2\u001b[1;33m \u001b[0mpredict_cases\u001b[0m\u001b[1;33m=\u001b[0m\u001b[0mpredict_cases\u001b[0m\u001b[1;33m(\u001b[0m\u001b[0mDays\u001b[0m\u001b[1;33m,\u001b[0m\u001b[0mConfirmed_cases\u001b[0m\u001b[1;33m,\u001b[0m\u001b[1;33m[\u001b[0m\u001b[1;33m[\u001b[0m\u001b[1;36m28\u001b[0m\u001b[1;33m]\u001b[0m\u001b[1;33m]\u001b[0m\u001b[1;33m)\u001b[0m\u001b[1;33m\u001b[0m\u001b[1;33m\u001b[0m\u001b[0m\n\u001b[0m\u001b[0;32m      3\u001b[0m \u001b[0mprint\u001b[0m\u001b[1;33m(\u001b[0m\u001b[0mpredict_cases\u001b[0m\u001b[1;33m)\u001b[0m\u001b[1;33m\u001b[0m\u001b[1;33m\u001b[0m\u001b[0m\n",
      "\u001b[1;32m<ipython-input-64-5f567e15caa9>\u001b[0m in \u001b[0;36mpredict_cases\u001b[1;34m(Days, Confirmed_cases, x)\u001b[0m\n\u001b[0;32m     10\u001b[0m \u001b[1;33m\u001b[0m\u001b[0m\n\u001b[0;32m     11\u001b[0m     \u001b[1;31m# Train the SVR models\u001b[0m\u001b[1;33m\u001b[0m\u001b[1;33m\u001b[0m\u001b[1;33m\u001b[0m\u001b[0m\n\u001b[1;32m---> 12\u001b[1;33m     \u001b[0msvr_lin\u001b[0m\u001b[1;33m.\u001b[0m\u001b[0mfit\u001b[0m\u001b[1;33m(\u001b[0m\u001b[0mDays\u001b[0m\u001b[1;33m,\u001b[0m\u001b[0mConfirmed_cases\u001b[0m\u001b[1;33m)\u001b[0m\u001b[1;33m\u001b[0m\u001b[1;33m\u001b[0m\u001b[0m\n\u001b[0m\u001b[0;32m     13\u001b[0m     \u001b[0msvr_poly\u001b[0m\u001b[1;33m.\u001b[0m\u001b[0mfit\u001b[0m\u001b[1;33m(\u001b[0m\u001b[0mDays\u001b[0m\u001b[1;33m,\u001b[0m\u001b[0mConfirmed_cases\u001b[0m\u001b[1;33m)\u001b[0m\u001b[1;33m\u001b[0m\u001b[1;33m\u001b[0m\u001b[0m\n\u001b[0;32m     14\u001b[0m     \u001b[0msvr_rbf\u001b[0m\u001b[1;33m.\u001b[0m\u001b[0mfit\u001b[0m\u001b[1;33m(\u001b[0m\u001b[0mDays\u001b[0m\u001b[1;33m,\u001b[0m\u001b[0mConfirmed_cases\u001b[0m\u001b[1;33m)\u001b[0m\u001b[1;33m\u001b[0m\u001b[1;33m\u001b[0m\u001b[0m\n",
      "\u001b[1;31mNameError\u001b[0m: name 'svr_lin' is not defined"
     ]
    }
   ],
   "source": [
    "# predict the price of on 28 days\n",
    "predict_cases=predict_cases(Days,Confirmed_cases,[[28]])\n",
    "print(predict_cases)"
   ]
  },
  {
   "cell_type": "code",
   "execution_count": 74,
   "metadata": {},
   "outputs": [],
   "source": [
    "Days= np.array(Days).reshape(-1,1)"
   ]
  },
  {
   "cell_type": "code",
   "execution_count": 80,
   "metadata": {},
   "outputs": [
    {
     "data": {
      "text/plain": [
       "SVR(C=1000.0, degree=2, kernel='poly')"
      ]
     },
     "execution_count": 80,
     "metadata": {},
     "output_type": "execute_result"
    }
   ],
   "source": [
    "# SVR-1st\n",
    "svr_rbf_model1= SVR(kernel='rbf',C=1e3, gamma=0.1)\n",
    "svr_rbf_model1.fit(Days,Confirmed_cases)\n",
    "\n",
    "# SVR-2st\n",
    "svr_rbf_model2= SVR(kernel='poly',C=1e3, degree=2)\n",
    "svr_rbf_model2.fit(Days,Confirmed_cases)\n",
    "\n",
    "\n"
   ]
  },
  {
   "cell_type": "code",
   "execution_count": 87,
   "metadata": {},
   "outputs": [
    {
     "data": {
      "text/plain": [
       "['Solarize_Light2',\n",
       " '_classic_test_patch',\n",
       " 'bmh',\n",
       " 'classic',\n",
       " 'dark_background',\n",
       " 'fast',\n",
       " 'fivethirtyeight',\n",
       " 'ggplot',\n",
       " 'grayscale',\n",
       " 'seaborn',\n",
       " 'seaborn-bright',\n",
       " 'seaborn-colorblind',\n",
       " 'seaborn-dark',\n",
       " 'seaborn-dark-palette',\n",
       " 'seaborn-darkgrid',\n",
       " 'seaborn-deep',\n",
       " 'seaborn-muted',\n",
       " 'seaborn-notebook',\n",
       " 'seaborn-paper',\n",
       " 'seaborn-pastel',\n",
       " 'seaborn-poster',\n",
       " 'seaborn-talk',\n",
       " 'seaborn-ticks',\n",
       " 'seaborn-white',\n",
       " 'seaborn-whitegrid',\n",
       " 'tableau-colorblind10']"
      ]
     },
     "execution_count": 87,
     "metadata": {},
     "output_type": "execute_result"
    }
   ],
   "source": [
    "plt.style.available"
   ]
  },
  {
   "cell_type": "code",
   "execution_count": 95,
   "metadata": {},
   "outputs": [
    {
     "data": {
      "text/plain": [
       "<matplotlib.legend.Legend at 0x2c766d88>"
      ]
     },
     "execution_count": 95,
     "metadata": {},
     "output_type": "execute_result"
    },
    {
     "data": {
      "image/png": "[encoded data removed]",
      "text/plain": [
       "<Figure size 960x480 with 1 Axes>"
      ]
     },
     "metadata": {},
     "output_type": "display_data"
    }
   ],
   "source": [
    "plt.style.use('ggplot')\n",
    "plt.figure(figsize=(12,6))\n",
    "plt.plot(Days,Confirmed_cases, label='Confirmed_cases')\n",
    "plt.plot(Days,svr_rbf_model1.predict(Days), label='Predicted_value by 1st' )\n",
    "plt.plot(Days,svr_rbf_model2.predict(Days), linestyle='dashed', label='Predicted_value by 2nd', )\n",
    "\n",
    "plt.legend()"
   ]
  },
  {
   "cell_type": "code",
   "execution_count": 102,
   "metadata": {},
   "outputs": [],
   "source": [
    "# Testisting all ML Model on time seriese dataset"
   ]
  },
  {
   "cell_type": "code",
   "execution_count": null,
   "metadata": {},
   "outputs": [],
   "source": []
  }
 ],
 "metadata": {
  "kernelspec": {
   "display_name": "Python 3",
   "language": "python",
   "name": "python3"
  },
  "language_info": {
   "codemirror_mode": {
    "name": "ipython",
    "version": 3
   },
   "file_extension": ".py",
   "mimetype": "text/x-python",
   "name": "python",
   "nbconvert_exporter": "python",
   "pygments_lexer": "ipython3",
   "version": "3.8.5"
  }
 },
 "nbformat": 4,
 "nbformat_minor": 2
}

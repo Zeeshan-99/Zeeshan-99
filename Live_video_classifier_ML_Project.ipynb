{
 "cells": [
  {
   "cell_type": "code",
   "execution_count": 2,
   "metadata": {
    "scrolled": true
   },
   "outputs": [],
   "source": [
    "# # Data collecting\n",
    "# from bing_image_downloader import downloader\n",
    "# downloader.download('face with mask',limit=600,output_dir='Data_Face_Mask',adult_filter_off=True)\n",
    "\n"
   ]
  },
  {
   "cell_type": "code",
   "execution_count": 5,
   "metadata": {
    "scrolled": true
   },
   "outputs": [],
   "source": [
    "# # Data collecting\n",
    "# from bing_image_downloader import downloader\n",
    "# downloader.download('face',limit=600,output_dir='Data_Face_Mask',adult_filter_off=True)\n"
   ]
  },
  {
   "cell_type": "code",
   "execution_count": 6,
   "metadata": {},
   "outputs": [],
   "source": [
    "import pandas as pd\n",
    "import numpy as np\n",
    "import matplotlib.pyplot as plt\n",
    "\n",
    "import seaborn as sns\n",
    "import tensorflow as tf"
   ]
  },
  {
   "cell_type": "code",
   "execution_count": 7,
   "metadata": {},
   "outputs": [
    {
     "name": "stdout",
     "output_type": "stream",
     "text": [
      "['face', 'face with mask']\n",
      "[0, 1]\n",
      "{'face': 0, 'face with mask': 1}\n"
     ]
    }
   ],
   "source": [
    "# Data Preprocessing\n",
    "\n",
    "import cv2,os\n",
    "\n",
    "data_path='Data_Face_Mask'\n",
    "categories= os.listdir(data_path)\n",
    "labels= [i for i in range(len(categories))]  # here we are making category for two item\n",
    "\n",
    "label_dic= dict(zip(categories, labels))\n",
    "\n",
    "print(categories)\n",
    "print(labels)\n",
    "print( label_dic)\n"
   ]
  },
  {
   "cell_type": "code",
   "execution_count": 8,
   "metadata": {},
   "outputs": [],
   "source": [
    "img_size=100\n",
    "data=[]\n",
    "target=[]\n",
    "\n",
    "for category in categories:\n",
    "    folder_path= os.path.join(data_path, category)\n",
    "    img_names= os.listdir(folder_path)\n",
    "    \n",
    "    for img_name in img_names:\n",
    "        img_path= os.path.join(folder_path, img_name)\n",
    "        img = cv2.imread(img_path)\n",
    "        \n",
    "        try:\n",
    "            gray = cv2.cvtColor(img, cv2.COLOR_BGR2GRAY)\n",
    "            \n",
    "            # Converting the image into gray  scale\n",
    "            resized= cv2.resize(gray,(img_size,img_size))\n",
    "            # Resizing the gray scale into 100x100, since we need a fixed common size for all the images in\n",
    "            data.append(resized)\n",
    "            target.append(label_dic[category])\n",
    "            # appending the image and the label( Category) into the list (dataset)\n",
    "            \n",
    "        except Exception as e:\n",
    "                print('Exception :',e)\n",
    "                \n",
    "                # if any exception raised, the exception will be printed here, and pass to the next image "
   ]
  },
  {
   "cell_type": "code",
   "execution_count": null,
   "metadata": {},
   "outputs": [],
   "source": []
  },
  {
   "cell_type": "code",
   "execution_count": 9,
   "metadata": {},
   "outputs": [],
   "source": [
    "import numpy as np\n",
    "from keras.utils import np_utils\n",
    "\n",
    "data= np.array(data)/255.0\n",
    "data=np.reshape(data,(data.shape[0],img_size, img_size,1))\n",
    "target= np.array(target)\n",
    "\n",
    "new_target=np_utils.to_categorical(target)"
   ]
  },
  {
   "cell_type": "code",
   "execution_count": null,
   "metadata": {},
   "outputs": [],
   "source": []
  },
  {
   "cell_type": "code",
   "execution_count": 10,
   "metadata": {},
   "outputs": [],
   "source": [
    "np.save('data',data)\n",
    "np.save('target',new_target)"
   ]
  },
  {
   "cell_type": "code",
   "execution_count": 11,
   "metadata": {},
   "outputs": [],
   "source": [
    "# Training the CNN\n",
    "data= np.load('data.npy')\n",
    "target= np.load('target.npy')"
   ]
  },
  {
   "cell_type": "code",
   "execution_count": 12,
   "metadata": {},
   "outputs": [],
   "source": [
    "from keras.models import Sequential\n",
    "from keras.layers import Dense, Activation, Flatten, Dropout\n",
    "from keras.layers import Conv2D, MaxPooling2D\n",
    "from keras.callbacks import ModelCheckpoint\n",
    "\n",
    "model= Sequential()\n",
    "\n",
    "model.add(Conv2D(200,(3,3), input_shape= data.shape[1:]))\n",
    "model.add(Activation('relu'))\n",
    "model.add(MaxPooling2D(pool_size=(2,2)))\n",
    "\n",
    "# The first CNN Layer followed by Relu and MaxPooling layers\n",
    "\n",
    "model.add(Conv2D(100,(3,3),input_shape=data.shape[1:]))\n",
    "model.add(Activation('relu'))\n",
    "model.add(MaxPooling2D(pool_size=(2,2)))\n",
    "# The second convolution layer followed by relu and Maxpooling layers\n",
    "\n",
    "model.add(Flatten())\n",
    "model.add(Dropout(0.5))\n",
    "# Flatten layer to stock the output convolutions from second convolution layer\n",
    "\n",
    "\n",
    "model.add(Dense(50,activation='relu'))\n",
    "# Dense layer of 64 neurons\n",
    "model.add(Dense(2,activation='softmax'))\n",
    "# The Final layer with two output for two categories\n",
    "\n",
    "model.compile(loss='categorical_crossentropy', optimizer='adam', metrics=['accuracy'])"
   ]
  },
  {
   "cell_type": "code",
   "execution_count": 13,
   "metadata": {},
   "outputs": [],
   "source": [
    "from sklearn.model_selection import train_test_split\n",
    "\n",
    "train_data, test_data, train_target, test_target= train_test_split(data,target, test_size=0.1)"
   ]
  },
  {
   "cell_type": "code",
   "execution_count": null,
   "metadata": {},
   "outputs": [],
   "source": []
  },
  {
   "cell_type": "code",
   "execution_count": 14,
   "metadata": {
    "scrolled": true
   },
   "outputs": [
    {
     "name": "stdout",
     "output_type": "stream",
     "text": [
      "Epoch 1/20\n",
      "27/27 [==============================] - 74s 3s/step - loss: 0.7460 - accuracy: 0.5270 - val_loss: 0.5275 - val_accuracy: 0.7277\n",
      "INFO:tensorflow:Assets written to: model-001.model\\assets\n",
      "Epoch 2/20\n",
      "27/27 [==============================] - 72s 3s/step - loss: 0.4910 - accuracy: 0.7753 - val_loss: 0.4294 - val_accuracy: 0.8122\n",
      "INFO:tensorflow:Assets written to: model-002.model\\assets\n",
      "Epoch 3/20\n",
      "27/27 [==============================] - 70s 3s/step - loss: 0.4134 - accuracy: 0.8219 - val_loss: 0.3582 - val_accuracy: 0.9014\n",
      "INFO:tensorflow:Assets written to: model-003.model\\assets\n",
      "Epoch 4/20\n",
      "27/27 [==============================] - 71s 3s/step - loss: 0.2897 - accuracy: 0.8920 - val_loss: 0.2506 - val_accuracy: 0.9061\n",
      "INFO:tensorflow:Assets written to: model-004.model\\assets\n",
      "Epoch 5/20\n",
      "27/27 [==============================] - 72s 3s/step - loss: 0.1721 - accuracy: 0.9425 - val_loss: 0.1952 - val_accuracy: 0.9155\n",
      "INFO:tensorflow:Assets written to: model-005.model\\assets\n",
      "Epoch 6/20\n",
      "27/27 [==============================] - 74s 3s/step - loss: 0.1305 - accuracy: 0.9508 - val_loss: 0.1280 - val_accuracy: 0.9390\n",
      "INFO:tensorflow:Assets written to: model-006.model\\assets\n",
      "Epoch 7/20\n",
      "27/27 [==============================] - 74s 3s/step - loss: 0.0673 - accuracy: 0.9796 - val_loss: 0.1204 - val_accuracy: 0.9531\n",
      "INFO:tensorflow:Assets written to: model-007.model\\assets\n",
      "Epoch 8/20\n",
      "27/27 [==============================] - 77s 3s/step - loss: 0.0357 - accuracy: 0.9884 - val_loss: 0.1384 - val_accuracy: 0.9718\n",
      "Epoch 9/20\n",
      "27/27 [==============================] - 78s 3s/step - loss: 0.0340 - accuracy: 0.9919 - val_loss: 0.1535 - val_accuracy: 0.9624\n",
      "Epoch 10/20\n",
      "27/27 [==============================] - 75s 3s/step - loss: 0.0275 - accuracy: 0.9936 - val_loss: 0.1940 - val_accuracy: 0.9484\n",
      "Epoch 11/20\n",
      "27/27 [==============================] - 73s 3s/step - loss: 0.0520 - accuracy: 0.9833 - val_loss: 0.1353 - val_accuracy: 0.9437\n",
      "Epoch 12/20\n",
      "27/27 [==============================] - 75s 3s/step - loss: 0.0182 - accuracy: 0.9949 - val_loss: 0.1050 - val_accuracy: 0.9718\n",
      "INFO:tensorflow:Assets written to: model-012.model\\assets\n",
      "Epoch 13/20\n",
      "27/27 [==============================] - 74s 3s/step - loss: 0.0157 - accuracy: 0.9951 - val_loss: 0.1368 - val_accuracy: 0.9671\n",
      "Epoch 14/20\n",
      "27/27 [==============================] - 74s 3s/step - loss: 0.0161 - accuracy: 0.9939 - val_loss: 0.1519 - val_accuracy: 0.9671\n",
      "Epoch 15/20\n",
      "27/27 [==============================] - 73s 3s/step - loss: 0.0162 - accuracy: 0.9976 - val_loss: 0.1926 - val_accuracy: 0.9343\n",
      "Epoch 16/20\n",
      "27/27 [==============================] - 75s 3s/step - loss: 0.0431 - accuracy: 0.9852 - val_loss: 0.1685 - val_accuracy: 0.9437\n",
      "Epoch 17/20\n",
      "27/27 [==============================] - 74s 3s/step - loss: 0.0413 - accuracy: 0.9924 - val_loss: 0.1511 - val_accuracy: 0.9718\n",
      "Epoch 18/20\n",
      "27/27 [==============================] - 74s 3s/step - loss: 0.0231 - accuracy: 0.9960 - val_loss: 0.1555 - val_accuracy: 0.9718\n",
      "Epoch 19/20\n",
      "27/27 [==============================] - 74s 3s/step - loss: 0.0093 - accuracy: 0.9994 - val_loss: 0.2154 - val_accuracy: 0.9624\n",
      "Epoch 20/20\n",
      "27/27 [==============================] - 77s 3s/step - loss: 0.0122 - accuracy: 0.9965 - val_loss: 0.2448 - val_accuracy: 0.9624\n"
     ]
    }
   ],
   "source": [
    "checkpoint= ModelCheckpoint('model-{epoch:03d}.model', monitor='val_loss',verbose=0, save_best_only=True, mode='auto')\n",
    "history= model.fit(train_data, train_target, epochs=20, callbacks=[checkpoint],validation_split=0.2)"
   ]
  },
  {
   "cell_type": "code",
   "execution_count": 15,
   "metadata": {},
   "outputs": [
    {
     "data": {
      "image/png": "[encoded data removed]",
      "text/plain": [
       "<Figure size 432x288 with 1 Axes>"
      ]
     },
     "metadata": {
      "needs_background": "light"
     },
     "output_type": "display_data"
    }
   ],
   "source": [
    "import matplotlib.pyplot as plt\n",
    "plt.plot(history.history['loss'],'r',label='traing loss')\n",
    "plt.plot(history.history['val_loss'], label='validation loss')\n",
    "plt.xlabel('# epochs')\n",
    "plt.ylabel('loss')\n",
    "plt.legend()\n",
    "plt.show()\n"
   ]
  },
  {
   "cell_type": "code",
   "execution_count": 17,
   "metadata": {},
   "outputs": [
    {
     "data": {
      "image/png": "[encoded data removed]",
      "text/plain": [
       "<Figure size 432x288 with 1 Axes>"
      ]
     },
     "metadata": {
      "needs_background": "light"
     },
     "output_type": "display_data"
    }
   ],
   "source": [
    "plt.plot(history.history['accuracy'],'r', label='training accuracy')\n",
    "plt.plot(history.history['val_accuracy'],label='validation accuracy')\n",
    "plt.xlabel('# epochs')\n",
    "plt.ylabel('loss')\n",
    "plt.legend()\n",
    "plt.show()"
   ]
  },
  {
   "cell_type": "code",
   "execution_count": 18,
   "metadata": {},
   "outputs": [
    {
     "name": "stdout",
     "output_type": "stream",
     "text": [
      "4/4 [==============================] - 3s 874ms/step - loss: 0.3775 - accuracy: 0.9580\n",
      "[0.37752845883369446, 0.9579831957817078]\n"
     ]
    }
   ],
   "source": [
    "print(model.evaluate(test_data, test_target))"
   ]
  },
  {
   "cell_type": "code",
   "execution_count": 20,
   "metadata": {},
   "outputs": [
    {
     "ename": "error",
     "evalue": "OpenCV(4.4.0) C:\\Users\\appveyor\\AppData\\Local\\Temp\\1\\pip-req-build-h4wtvo23\\opencv\\modules\\objdetect\\src\\cascadedetect.cpp:1689: error: (-215:Assertion failed) !empty() in function 'cv::CascadeClassifier::detectMultiScale'\n",
     "output_type": "error",
     "traceback": [
      "\u001b[1;31m---------------------------------------------------------------------------\u001b[0m",
      "\u001b[1;31merror\u001b[0m                                     Traceback (most recent call last)",
      "\u001b[1;32m<ipython-input-20-1a14d5a2cddd>\u001b[0m in \u001b[0;36m<module>\u001b[1;34m\u001b[0m\n\u001b[0;32m     14\u001b[0m     \u001b[0mret\u001b[0m\u001b[1;33m,\u001b[0m\u001b[0mimg\u001b[0m\u001b[1;33m=\u001b[0m\u001b[0msource\u001b[0m\u001b[1;33m.\u001b[0m\u001b[0mread\u001b[0m\u001b[1;33m(\u001b[0m\u001b[1;33m)\u001b[0m\u001b[1;33m\u001b[0m\u001b[1;33m\u001b[0m\u001b[0m\n\u001b[0;32m     15\u001b[0m     \u001b[0mgray\u001b[0m\u001b[1;33m=\u001b[0m\u001b[0mcv2\u001b[0m\u001b[1;33m.\u001b[0m\u001b[0mcvtColor\u001b[0m\u001b[1;33m(\u001b[0m\u001b[0mimg\u001b[0m\u001b[1;33m,\u001b[0m\u001b[0mcv2\u001b[0m\u001b[1;33m.\u001b[0m\u001b[0mCOLOR_BGR2GRAY\u001b[0m\u001b[1;33m)\u001b[0m\u001b[1;33m\u001b[0m\u001b[1;33m\u001b[0m\u001b[0m\n\u001b[1;32m---> 16\u001b[1;33m     \u001b[0mfaces\u001b[0m\u001b[1;33m=\u001b[0m\u001b[0mface_clsfr\u001b[0m\u001b[1;33m.\u001b[0m\u001b[0mdetectMultiScale\u001b[0m\u001b[1;33m(\u001b[0m\u001b[0mgray\u001b[0m\u001b[1;33m,\u001b[0m\u001b[1;36m1.3\u001b[0m\u001b[1;33m,\u001b[0m\u001b[1;36m5\u001b[0m\u001b[1;33m)\u001b[0m\u001b[1;33m\u001b[0m\u001b[1;33m\u001b[0m\u001b[0m\n\u001b[0m\u001b[0;32m     17\u001b[0m \u001b[1;33m\u001b[0m\u001b[0m\n\u001b[0;32m     18\u001b[0m     \u001b[1;32mfor\u001b[0m \u001b[0mx\u001b[0m\u001b[1;33m,\u001b[0m\u001b[0my\u001b[0m\u001b[1;33m,\u001b[0m\u001b[0mw\u001b[0m\u001b[1;33m,\u001b[0m\u001b[0mh\u001b[0m \u001b[1;32min\u001b[0m \u001b[0mfaces\u001b[0m\u001b[1;33m:\u001b[0m\u001b[1;33m\u001b[0m\u001b[1;33m\u001b[0m\u001b[0m\n",
      "\u001b[1;31merror\u001b[0m: OpenCV(4.4.0) C:\\Users\\appveyor\\AppData\\Local\\Temp\\1\\pip-req-build-h4wtvo23\\opencv\\modules\\objdetect\\src\\cascadedetect.cpp:1689: error: (-215:Assertion failed) !empty() in function 'cv::CascadeClassifier::detectMultiScale'\n"
     ]
    }
   ],
   "source": [
    "# Detecting Faces with and without masks\n",
    "\n",
    "from keras.models import load_model\n",
    "import cv2\n",
    "\n",
    "model =load_model('model-020.model')\n",
    "face_clsfr= cv2.CascadeClassifier('haarcascade_frontalface_default.xml')\n",
    "source= cv2.VideoCapture(0)\n",
    "\n",
    "labels_dict= {0:'MASK',1:'NO MASK'}\n",
    "color_dict={0:(0,255,0),1:(0,0,255)}\n",
    "\n",
    "while(True):\n",
    "    ret,img=source.read()\n",
    "    gray=cv2.cvtColor(img,cv2.COLOR_BGR2GRAY)\n",
    "    faces=face_clsfr.detectMultiScale(gray,1.3,5)\n",
    "    \n",
    "    for x,y,w,h in faces:\n",
    "        face_img= gray[y:y+w,x:x+w]\n",
    "        resized=cv2.resize(face_img,(100,100))\n",
    "        normalized= resized/255.0\n",
    "        reshaped=np.reshape(normalized,(1,100,100,1))\n",
    "        result= model.predict(reshaped)\n",
    "        \n",
    "        label=np.argmax(result,axis=1)[0]\n",
    "        \n",
    "        cv2.rectangle(img,(x,y),(x+w,y+h), color_dict[label],2)\n",
    "        cv2.rectangle(img, label_dict[label],(x,y-10),cv2.FONT_HERSHEY_SIMPLEX,0.8,(255,255,255),2)\n",
    "        \n",
    "    cv2.imshow('LIVE',img)\n",
    "    key=cv2.waitKey(1)\n",
    "    \n",
    "    if( key==27):\n",
    "        break\n",
    "        \n",
    "        \n",
    "cv2.destroyAllWindow()\n",
    "soorce.release()"
   ]
  },
  {
   "cell_type": "code",
   "execution_count": null,
   "metadata": {},
   "outputs": [],
   "source": []
  }
 ],
 "metadata": {
  "kernelspec": {
   "display_name": "Python 3",
   "language": "python",
   "name": "python3"
  },
  "language_info": {
   "codemirror_mode": {
    "name": "ipython",
    "version": 3
   },
   "file_extension": ".py",
   "mimetype": "text/x-python",
   "name": "python",
   "nbconvert_exporter": "python",
   "pygments_lexer": "ipython3",
   "version": "3.8.5"
  }
 },
 "nbformat": 4,
 "nbformat_minor": 2
}
